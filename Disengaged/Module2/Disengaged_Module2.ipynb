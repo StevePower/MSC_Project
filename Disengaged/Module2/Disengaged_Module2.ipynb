{
 "cells": [
  {
   "cell_type": "code",
   "execution_count": 1,
   "metadata": {
    "collapsed": true
   },
   "outputs": [],
   "source": [
    "\n",
    "# Importing libraries\n",
    "import pandas as pd\n",
    "import matplotlib.pyplot as plt\n",
    "from matplotlib import pyplot as plt\n",
    "#import missingno as msno\n",
    "from scipy import stats\n",
    "\n",
    "import numpy as np\n",
    "import datetime\n",
    "import seaborn as sns\n",
    "from sklearn.svm import SVC\n",
    "from sklearn.preprocessing import LabelEncoder\n",
    "from sklearn.cluster import KMeans\n",
    "from sklearn.feature_selection import SelectKBest\n",
    "from sklearn.feature_selection import chi2\n",
    "# Import DecisionTreeClassifier\n",
    "from sklearn.tree import DecisionTreeClassifier\n",
    "# Import RandomForestClassifier\n",
    "from sklearn.ensemble import RandomForestClassifier\n",
    "\n",
    "# Import precision_score\n",
    "from sklearn.metrics import precision_score\n",
    "\n",
    "from sklearn import metrics #Import scikit-learn metrics module for accuracy calculation\n",
    "\n",
    "\n",
    "# Import necessary modules\n",
    "from sklearn.linear_model import LinearRegression\n",
    "from sklearn.model_selection import cross_val_score\n",
    "\n",
    "\n",
    "\n",
    "# Import recall_score\n",
    "from sklearn.metrics import recall_score\n",
    "\n",
    "#from sklearn.metrics import roc_auc_curve\n",
    "# Import roc_curve\n",
    "from sklearn.metrics import roc_curve\n",
    "\n",
    "\n",
    "\n",
    "from sklearn.svm import SVC\n",
    "\n",
    "# Import confusion matrix\n",
    "from sklearn.metrics import confusion_matrix\n",
    "\n",
    "from sklearn.tree import export_graphviz\n",
    "from sklearn.externals.six import StringIO  \n",
    "from IPython.display import Image  \n",
    "#import pydotplus\n",
    "\n",
    "\n",
    "\n",
    "# Import train_test_split\n",
    "from sklearn.model_selection import train_test_split\n",
    "\n",
    "# Import LogisticRegression\n",
    "from sklearn.linear_model import LogisticRegression\n",
    "\n",
    "\n",
    "from sklearn import metrics #Import scikit-learn metrics module for accuracy calculation\n",
    "\n",
    "\n",
    "\n",
    "import scipy.stats as st\n",
    "#import pandas_profiling\n",
    "import requests \n",
    "%matplotlib inline\n",
    "\n",
    "# Import necessary modules\n",
    "from sklearn.model_selection import cross_val_score\n",
    "from sklearn.metrics import roc_auc_score\n",
    "\n",
    "from sklearn.metrics import classification_report\n",
    "from sklearn.metrics import confusion_matrix\n",
    "\n",
    "from scipy.stats import spearmanr\n",
    "\n"
   ]
  },
  {
   "cell_type": "code",
   "execution_count": 2,
   "metadata": {
    "collapsed": true
   },
   "outputs": [],
   "source": [
    "# Semester Start Date:\n",
    "StartDate = '2018-09-17' \n",
    "StartDate = pd.to_datetime(StartDate)\n"
   ]
  },
  {
   "cell_type": "code",
   "execution_count": 3,
   "metadata": {
    "collapsed": true
   },
   "outputs": [],
   "source": [
    "# Semester End Date:\n",
    "EndDate = '2019-01-21' \n",
    "EndDate = pd.to_datetime(EndDate)"
   ]
  },
  {
   "cell_type": "code",
   "execution_count": 4,
   "metadata": {
    "collapsed": true
   },
   "outputs": [],
   "source": [
    "TriOne = '2018-10-22'\n",
    "TriOne = pd.to_datetime(TriOne)"
   ]
  },
  {
   "cell_type": "code",
   "execution_count": 5,
   "metadata": {
    "collapsed": true
   },
   "outputs": [],
   "source": [
    "TriTwo = '2018-11-26'\n",
    "TriTwo = pd.to_datetime(TriTwo)"
   ]
  },
  {
   "cell_type": "code",
   "execution_count": 6,
   "metadata": {
    "collapsed": true
   },
   "outputs": [],
   "source": [
    "# Data Preperation Module 2\n",
    "# There are two files in module 2\n",
    "# Module 2\n",
    "\n",
    "module2mg = pd.read_csv('Module2-MoodleGrades.csv')"
   ]
  },
  {
   "cell_type": "code",
   "execution_count": 7,
   "metadata": {
    "collapsed": true
   },
   "outputs": [],
   "source": [
    "module2ml = pd.read_csv('Module2-MoodleLog.csv')"
   ]
  },
  {
   "cell_type": "code",
   "execution_count": 8,
   "metadata": {
    "collapsed": true
   },
   "outputs": [],
   "source": [
    "# Time2\n",
    "time2 = module2ml[\"Time\"].str.split(\",\", n = 1, expand = True)\n"
   ]
  },
  {
   "cell_type": "code",
   "execution_count": 9,
   "metadata": {
    "collapsed": true
   },
   "outputs": [],
   "source": [
    "# making separate Date column from new data frame \n",
    "module2ml[\"Date\"]= time2[0] \n",
    "\n",
    "# making seperate Time column from new data frame\n",
    "module2ml['Time']= time2[1]\n"
   ]
  },
  {
   "cell_type": "code",
   "execution_count": 10,
   "metadata": {
    "collapsed": true
   },
   "outputs": [],
   "source": [
    "# Convert the date column to datetime64\n",
    "module2ml.Date = pd.to_datetime(module2ml.Date)\n"
   ]
  },
  {
   "cell_type": "code",
   "execution_count": 11,
   "metadata": {},
   "outputs": [
    {
     "data": {
      "text/plain": [
       "15794"
      ]
     },
     "execution_count": 11,
     "metadata": {},
     "output_type": "execute_result"
    }
   ],
   "source": [
    "#Remove activity outside semester start and end dates range -Timeedit2\n",
    "mask2 = (module2ml['Date'] >= StartDate) & (module2ml['Date'] <= EndDate)\n",
    "\n",
    "module2ml = module2ml.loc[mask2]\n",
    "\n",
    "len(module2ml)"
   ]
  },
  {
   "cell_type": "code",
   "execution_count": 12,
   "metadata": {},
   "outputs": [
    {
     "data": {
      "text/plain": [
       "7508"
      ]
     },
     "execution_count": 12,
     "metadata": {},
     "output_type": "execute_result"
    }
   ],
   "source": [
    "#Remove activity outside semester start and end dates range -Timeedit1\n",
    "week5_2 = (module2ml['Date'] >= StartDate) & (module2ml['Date'] <= TriOne)\n",
    "\n",
    "FirstFive2 = module2ml.loc[week5_2]\n",
    "\n",
    "len(FirstFive2)\n"
   ]
  },
  {
   "cell_type": "code",
   "execution_count": 13,
   "metadata": {},
   "outputs": [
    {
     "data": {
      "text/plain": [
       "4084"
      ]
     },
     "execution_count": 13,
     "metadata": {},
     "output_type": "execute_result"
    }
   ],
   "source": [
    "#Remove activity outside semester start and end dates range -Timeedit1\n",
    "week10_2 = (module2ml['Date'] >= TriOne) & (module2ml['Date'] <= TriTwo)\n",
    "\n",
    "FirstTen2 = module2ml.loc[week10_2]\n",
    "\n",
    "len(FirstTen2)\n"
   ]
  },
  {
   "cell_type": "code",
   "execution_count": 14,
   "metadata": {},
   "outputs": [
    {
     "data": {
      "text/plain": [
       "4826"
      ]
     },
     "execution_count": 14,
     "metadata": {},
     "output_type": "execute_result"
    }
   ],
   "source": [
    "#Remove activity outside semester start and end dates range -Timeedit1\n",
    "week15_2 = (module2ml['Date'] >= TriTwo) & (module2ml['Date'] <= EndDate)\n",
    "\n",
    "FirstFivt2 = module2ml.loc[week15_2]\n",
    "\n",
    "len(FirstFivt2)\n"
   ]
  },
  {
   "cell_type": "code",
   "execution_count": 15,
   "metadata": {},
   "outputs": [
    {
     "name": "stdout",
     "output_type": "stream",
     "text": [
      "['First name', 'Surname', 'ID number', 'Email address', 'Quiz: CA3 - QUIZ  (Real)', 'Assignment: UPLOAD ASSIGNMENT 1 - POWERPOINT PRESENTATION (Real)', 'Assignment: UPLOAD ASSIGNMENT 2 - REFLECTIVE WRITING (Real)', 'Course total (Real)', 'Last downloaded from this course']\n"
     ]
    }
   ],
   "source": [
    "print (module2mg.columns.tolist())\n",
    "# Note Quiz: CA3 - QUIZ  (Real) has a couple of spaces in it"
   ]
  },
  {
   "cell_type": "code",
   "execution_count": 16,
   "metadata": {},
   "outputs": [
    {
     "name": "stdout",
     "output_type": "stream",
     "text": [
      "First name                                                          138\n",
      "Surname                                                             138\n",
      "ID number                                                           138\n",
      "Email address                                                       138\n",
      "Quiz: CA3 - QUIZ  (Real)                                             81\n",
      "Assignment: UPLOAD ASSIGNMENT 1 - POWERPOINT PRESENTATION (Real)     18\n",
      "Assignment: UPLOAD ASSIGNMENT 2 - REFLECTIVE WRITING (Real)          34\n",
      "Course total (Real)                                                 118\n",
      "Last downloaded from this course                                      1\n",
      "dtype: int64\n"
     ]
    }
   ],
   "source": [
    "# Print the number of unique values in each modul2mg column\n",
    "print(module2mg.nunique())"
   ]
  },
  {
   "cell_type": "code",
   "execution_count": 17,
   "metadata": {},
   "outputs": [
    {
     "name": "stdout",
     "output_type": "stream",
     "text": [
      "Time              1142\n",
      "User full name     138\n",
      "Affected user        1\n",
      "Event context       66\n",
      "Component            9\n",
      "Event name          25\n",
      "Description         31\n",
      "IP address           1\n",
      "Origin               2\n",
      "Date                88\n",
      "dtype: int64\n"
     ]
    }
   ],
   "source": [
    "# Print the number of unique values in each modul2ml column\n",
    "print(module2ml.nunique())"
   ]
  },
  {
   "cell_type": "code",
   "execution_count": 18,
   "metadata": {
    "collapsed": true
   },
   "outputs": [],
   "source": [
    "# Cleanup2\n",
    "module2ml = module2ml.drop(module2ml[['IP address','Origin','Description','Affected user']], axis=1)"
   ]
  },
  {
   "cell_type": "code",
   "execution_count": 19,
   "metadata": {},
   "outputs": [
    {
     "data": {
      "text/plain": [
       "Time                      object\n",
       "User full name            object\n",
       "Event context             object\n",
       "Component                 object\n",
       "Event name                object\n",
       "Date              datetime64[ns]\n",
       "dtype: object"
      ]
     },
     "execution_count": 19,
     "metadata": {},
     "output_type": "execute_result"
    }
   ],
   "source": [
    "module2ml.dtypes"
   ]
  },
  {
   "cell_type": "code",
   "execution_count": 20,
   "metadata": {
    "collapsed": true
   },
   "outputs": [],
   "source": [
    "# new data frame with split value columns \n",
    "new2 = module2ml[\"User full name\"].str.split(\" \", n = 1, expand = True)\n"
   ]
  },
  {
   "cell_type": "code",
   "execution_count": 21,
   "metadata": {
    "collapsed": true
   },
   "outputs": [],
   "source": [
    "# making separate first name column from new data frame \n",
    "module2ml[\"First name\"]= new2[0] \n",
    "\n",
    "# making separate last name column from new data frame \n",
    "module2ml[\"Last name\"]= new2[1] \n"
   ]
  },
  {
   "cell_type": "code",
   "execution_count": 22,
   "metadata": {},
   "outputs": [
    {
     "data": {
      "text/plain": [
       "Time                      object\n",
       "User full name            object\n",
       "Event context             object\n",
       "Component                 object\n",
       "Event name                object\n",
       "Date              datetime64[ns]\n",
       "First name                object\n",
       "Last name                 object\n",
       "dtype: object"
      ]
     },
     "execution_count": 22,
     "metadata": {},
     "output_type": "execute_result"
    }
   ],
   "source": [
    "module2ml.dtypes"
   ]
  },
  {
   "cell_type": "code",
   "execution_count": 23,
   "metadata": {},
   "outputs": [
    {
     "data": {
      "text/plain": [
       "Course: Module 2                                                               5576\n",
       "Assignment: UPLOAD ASSIGNMENT 1 - POWERPOINT PRESENTATION                      1754\n",
       "Assignment: UPLOAD ASSIGNMENT 2 - REFLECTIVE WRITING                           1474\n",
       "File: ASSIGNMENT 2 - REFLECTIVE WRITING                                         745\n",
       "File: TEMPLATE FOR ASSIGNMENT 2                                                 727\n",
       "File: ASSIGNMENT 1 - POWERPOINT PRESENTATION                                    529\n",
       "File: Using Gibbs Reflective Cycle in Coursework                                426\n",
       "URL: ENTER YOUR NAME HERE TO RECEIVE YOUR TOPIC NUMBER                          389\n",
       "File: Assignment Declaration Form                                               387\n",
       "File: ITB Harvard Referencing Guide                                             206\n",
       "File: Sample Presentation Layout                                                202\n",
       "File: Lab Activity 2 - Evaluating Information                                   199\n",
       "URL: Lab Activity 2 - Harvard Referencing                                       192\n",
       "URL: 7 Expert Secrets to Improving your Writing - Eric Barker                   183\n",
       "File: Academic Calendar 2018 -19                                                178\n",
       "File: LECTURE 4 - HARVARD REFERENCING BASICS                                    175\n",
       "URL: Lab Activity 1 - Evaluating Information                                    163\n",
       "File: LECTURE 1 - EFFECTIVE PRESENTATIONS                                       144\n",
       "File: LECTURE 2 - STRUCTURING PRESENTATIONS                                     142\n",
       "URL: TUTORIAL - How to Create a Basic PowerPoint Document                       118\n",
       "Forum: News forum                                                               115\n",
       "File: Reflective Writing Guidance Notes for Students                            105\n",
       "File: Discussion Articles - Shared Responsibility &amp; Student Entitlement     101\n",
       "File: 2. Work/Life Balance Calculator                                            99\n",
       "File: Staffordshire University Harvard Referencing Guide                         95\n",
       "File: Lab Activity 1 - Referencing Exercise                                      88\n",
       "File: MODULE OVERVIEW                                                            87\n",
       "URL: Reflective Thinking &amp; Writing                                           86\n",
       "URL: 3. Survey - How effective is your Time Management?                          86\n",
       "URL: Revision Strategies &amp; Tips - Palgrave Study Skills                      83\n",
       "                                                                               ... \n",
       "URL: How to Give an Awesome Presentation                                         49\n",
       "URL: Citing &amp; Referencing Tutorial                                           41\n",
       "URL: Harvard Referencing Tutorial for Humanities Students at ITB                 40\n",
       "URL: ITB Student Information Hub - Access to info you may need.                  38\n",
       "URL: Very Helpful Library Resources                                              36\n",
       "File: LECTURE 3 - PLAGIARISM                                                     36\n",
       "Quiz: CA3 - QUIZ                                                                 36\n",
       "URL: Lab Activity 2 - Avoiding Plagiarism                                        34\n",
       "URL: Lab Activity 1 - What is Plagiarism                                         33\n",
       "URL: How NOT to Deliver Your Presentation                                        31\n",
       "File: 5. Weekly Planner                                                          22\n",
       "URL: How to Deliver the Talk of Your Life                                        20\n",
       "File: NATIONAL LEARNING NETWORK LECTURE                                          13\n",
       "URL: Online Tutorial - Critical Thinking &amp; Reflection                        12\n",
       "File: LECTURE 6 - THE WRITING PROCESS PART 1                                     11\n",
       "URL: Lab Activity 1 - VARK Survey                                                10\n",
       "File: LECTURE 7 - THE WRITING PROCESS PART 2                                     10\n",
       "URL: Literature Reviews                                                           7\n",
       "File: Evaluating Information Sources                                              6\n",
       "URL: The Art of 'Digging Deeper' ClipArt                                          5\n",
       "URL: Jumbled Letters                                                              5\n",
       "URL: Video 1 - How To Separate Fact from Fiction Online                           4\n",
       "File: LECTURE 5 - REVIEWING LIT. &amp; CRITICAL THINKING                          4\n",
       "File: Step by Step Guide to Exam Success                                          4\n",
       "File: LECTURE 10 - EXAM  REVISION STRATEGIES                                      3\n",
       "URL: Evaluating Information Sources                                               2\n",
       "URL: Student Counselling Service                                                  2\n",
       "File: Learning Preferences                                                        1\n",
       "URL: Video 2 - Beware of Online Filter Bubbles                                    1\n",
       "URL: Lab Activity 2 - Learning Preferences                                        1\n",
       "Name: Event context, Length: 66, dtype: int64"
      ]
     },
     "execution_count": 23,
     "metadata": {},
     "output_type": "execute_result"
    }
   ],
   "source": [
    "module2ml[\"Event context\"].value_counts()\n",
    "# The Most frequent are assignment: upload assignment 1\n",
    "# "
   ]
  },
  {
   "cell_type": "code",
   "execution_count": 24,
   "metadata": {
    "collapsed": true
   },
   "outputs": [],
   "source": [
    "m2mg = module2mg[[ 'First name', 'Surname','ID number','Quiz: CA3 - QUIZ  (Real)','Course total (Real)','Assignment: UPLOAD ASSIGNMENT 1 - POWERPOINT PRESENTATION (Real)','Assignment: UPLOAD ASSIGNMENT 2 - REFLECTIVE WRITING (Real)']]\n",
    "#'Quiz: CA3 - QUIZ (Real) , Quiz: CA3 - QUIZ (Real) not in index\n",
    "# Tidy up on colums without "
   ]
  },
  {
   "cell_type": "code",
   "execution_count": 25,
   "metadata": {},
   "outputs": [
    {
     "data": {
      "text/plain": [
       "<matplotlib.text.Text at 0x22657fe6358>"
      ]
     },
     "execution_count": 25,
     "metadata": {},
     "output_type": "execute_result"
    },
    {
     "data": {
      "image/png": "[encoded data removed]",
      "text/plain": [
       "<matplotlib.figure.Figure at 0x2265799a1d0>"
      ]
     },
     "metadata": {},
     "output_type": "display_data"
    }
   ],
   "source": [
    "m2mg.plot(kind='scatter', x='Course total (Real)', y='Quiz: CA3 - QUIZ  (Real)', rot=70)\n",
    "plt.title('Scatter of Course Total and Quiz CA3 in Module 2 \\n Module 1')\n",
    "\n"
   ]
  },
  {
   "cell_type": "code",
   "execution_count": 26,
   "metadata": {},
   "outputs": [
    {
     "data": {
      "text/html": [
       "<div>\n",
       "<style>\n",
       "    .dataframe thead tr:only-child th {\n",
       "        text-align: right;\n",
       "    }\n",
       "\n",
       "    .dataframe thead th {\n",
       "        text-align: left;\n",
       "    }\n",
       "\n",
       "    .dataframe tbody tr th {\n",
       "        vertical-align: top;\n",
       "    }\n",
       "</style>\n",
       "<table border=\"1\" class=\"dataframe\">\n",
       "  <thead>\n",
       "    <tr style=\"text-align: right;\">\n",
       "      <th></th>\n",
       "      <th>Time</th>\n",
       "      <th>User full name</th>\n",
       "      <th>Event context</th>\n",
       "      <th>Component</th>\n",
       "      <th>Event name</th>\n",
       "      <th>Date</th>\n",
       "      <th>First name</th>\n",
       "      <th>Last name</th>\n",
       "    </tr>\n",
       "  </thead>\n",
       "  <tbody>\n",
       "    <tr>\n",
       "      <th>4</th>\n",
       "      <td>20:32</td>\n",
       "      <td>ae3w bhew</td>\n",
       "      <td>Course: Module 2</td>\n",
       "      <td>System</td>\n",
       "      <td>Course user report viewed</td>\n",
       "      <td>2019-01-21</td>\n",
       "      <td>ae3w</td>\n",
       "      <td>bhew</td>\n",
       "    </tr>\n",
       "    <tr>\n",
       "      <th>5</th>\n",
       "      <td>17:39</td>\n",
       "      <td>agtk bqpc</td>\n",
       "      <td>Assignment: UPLOAD ASSIGNMENT 2 - REFLECTIVE W...</td>\n",
       "      <td>Assignment</td>\n",
       "      <td>The status of the submission has been viewed.</td>\n",
       "      <td>2019-01-21</td>\n",
       "      <td>agtk</td>\n",
       "      <td>bqpc</td>\n",
       "    </tr>\n",
       "  </tbody>\n",
       "</table>\n",
       "</div>"
      ],
      "text/plain": [
       "     Time User full name                                      Event context  \\\n",
       "4   20:32      ae3w bhew                                   Course: Module 2   \n",
       "5   17:39      agtk bqpc  Assignment: UPLOAD ASSIGNMENT 2 - REFLECTIVE W...   \n",
       "\n",
       "    Component                                     Event name       Date  \\\n",
       "4      System                      Course user report viewed 2019-01-21   \n",
       "5  Assignment  The status of the submission has been viewed. 2019-01-21   \n",
       "\n",
       "  First name Last name  \n",
       "4       ae3w      bhew  \n",
       "5       agtk      bqpc  "
      ]
     },
     "execution_count": 26,
     "metadata": {},
     "output_type": "execute_result"
    }
   ],
   "source": [
    "module2ml.head(2)"
   ]
  },
  {
   "cell_type": "code",
   "execution_count": 27,
   "metadata": {
    "collapsed": true
   },
   "outputs": [],
   "source": [
    "#\n",
    "#Engaged = > 55\n",
    "disengaged2 = module2mg['Course total (Real)'] < 55\n"
   ]
  },
  {
   "cell_type": "code",
   "execution_count": 29,
   "metadata": {
    "collapsed": true
   },
   "outputs": [],
   "source": [
    "\n",
    "# Create a new column called df.engaged where the value is yes\n",
    "# if Course Total Real is greater than 55 and no if not\n",
    "module2mg['disengaged'] = np.where(module2mg['Course total (Real)']<=55, '1', '0')\n",
    "\n",
    "\n"
   ]
  },
  {
   "cell_type": "code",
   "execution_count": 30,
   "metadata": {},
   "outputs": [],
   "source": [
    "module2mg['disengaged'] = pd.to_numeric(module2mg['disengaged'])"
   ]
  },
  {
   "cell_type": "code",
   "execution_count": 31,
   "metadata": {},
   "outputs": [
    {
     "data": {
      "text/html": [
       "<div>\n",
       "<style>\n",
       "    .dataframe thead tr:only-child th {\n",
       "        text-align: right;\n",
       "    }\n",
       "\n",
       "    .dataframe thead th {\n",
       "        text-align: left;\n",
       "    }\n",
       "\n",
       "    .dataframe tbody tr th {\n",
       "        vertical-align: top;\n",
       "    }\n",
       "</style>\n",
       "<table border=\"1\" class=\"dataframe\">\n",
       "  <thead>\n",
       "    <tr style=\"text-align: right;\">\n",
       "      <th></th>\n",
       "      <th>First name</th>\n",
       "      <th>Surname</th>\n",
       "      <th>ID number</th>\n",
       "      <th>Email address</th>\n",
       "      <th>Quiz: CA3 - QUIZ  (Real)</th>\n",
       "      <th>Assignment: UPLOAD ASSIGNMENT 1 - POWERPOINT PRESENTATION (Real)</th>\n",
       "      <th>Assignment: UPLOAD ASSIGNMENT 2 - REFLECTIVE WRITING (Real)</th>\n",
       "      <th>Course total (Real)</th>\n",
       "      <th>Last downloaded from this course</th>\n",
       "      <th>disengaged</th>\n",
       "    </tr>\n",
       "  </thead>\n",
       "  <tbody>\n",
       "    <tr>\n",
       "      <th>0</th>\n",
       "      <td>a8NM</td>\n",
       "      <td>bDqB</td>\n",
       "      <td>U8NMDqBG</td>\n",
       "      <td>U8NMDqBG@student.itb.ie</td>\n",
       "      <td>7.30</td>\n",
       "      <td>13</td>\n",
       "      <td>32</td>\n",
       "      <td>52.30</td>\n",
       "      <td>1548158947</td>\n",
       "      <td>1</td>\n",
       "    </tr>\n",
       "    <tr>\n",
       "      <th>1</th>\n",
       "      <td>aSnR</td>\n",
       "      <td>bGk9</td>\n",
       "      <td>VSnRGk9O</td>\n",
       "      <td>VSnRGk9O@student.itb.ie</td>\n",
       "      <td>8.55</td>\n",
       "      <td>10</td>\n",
       "      <td>38</td>\n",
       "      <td>56.55</td>\n",
       "      <td>1548158947</td>\n",
       "      <td>0</td>\n",
       "    </tr>\n",
       "  </tbody>\n",
       "</table>\n",
       "</div>"
      ],
      "text/plain": [
       "  First name Surname ID number            Email address  \\\n",
       "0       a8NM    bDqB  U8NMDqBG  U8NMDqBG@student.itb.ie   \n",
       "1       aSnR    bGk9  VSnRGk9O  VSnRGk9O@student.itb.ie   \n",
       "\n",
       "   Quiz: CA3 - QUIZ  (Real)  \\\n",
       "0                      7.30   \n",
       "1                      8.55   \n",
       "\n",
       "   Assignment: UPLOAD ASSIGNMENT 1 - POWERPOINT PRESENTATION (Real)  \\\n",
       "0                                                 13                  \n",
       "1                                                 10                  \n",
       "\n",
       "   Assignment: UPLOAD ASSIGNMENT 2 - REFLECTIVE WRITING (Real)  \\\n",
       "0                                                 32             \n",
       "1                                                 38             \n",
       "\n",
       "   Course total (Real)  Last downloaded from this course  disengaged  \n",
       "0                52.30                        1548158947           1  \n",
       "1                56.55                        1548158947           0  "
      ]
     },
     "execution_count": 31,
     "metadata": {},
     "output_type": "execute_result"
    }
   ],
   "source": [
    "module2mg.head(2)"
   ]
  },
  {
   "cell_type": "code",
   "execution_count": 32,
   "metadata": {},
   "outputs": [
    {
     "data": {
      "text/plain": [
       "138"
      ]
     },
     "execution_count": 32,
     "metadata": {},
     "output_type": "execute_result"
    }
   ],
   "source": [
    "disengaged2.count()"
   ]
  },
  {
   "cell_type": "code",
   "execution_count": 33,
   "metadata": {},
   "outputs": [
    {
     "data": {
      "text/plain": [
       "First name                                                           object\n",
       "Surname                                                              object\n",
       "ID number                                                            object\n",
       "Email address                                                        object\n",
       "Quiz: CA3 - QUIZ  (Real)                                            float64\n",
       "Assignment: UPLOAD ASSIGNMENT 1 - POWERPOINT PRESENTATION (Real)      int64\n",
       "Assignment: UPLOAD ASSIGNMENT 2 - REFLECTIVE WRITING (Real)           int64\n",
       "Course total (Real)                                                 float64\n",
       "Last downloaded from this course                                      int64\n",
       "disengaged                                                            int64\n",
       "dtype: object"
      ]
     },
     "execution_count": 33,
     "metadata": {},
     "output_type": "execute_result"
    }
   ],
   "source": [
    "module2mg.dtypes"
   ]
  },
  {
   "cell_type": "code",
   "execution_count": 34,
   "metadata": {
    "collapsed": true
   },
   "outputs": [],
   "source": [
    "m2mg_subset = module2mg.drop(module2mg[['Email address','Last downloaded from this course']], axis=1)\n",
    "#dropcolumnsm2mg"
   ]
  },
  {
   "cell_type": "code",
   "execution_count": 35,
   "metadata": {},
   "outputs": [
    {
     "data": {
      "text/plain": [
       "First name                                                           object\n",
       "Surname                                                              object\n",
       "ID number                                                            object\n",
       "Quiz: CA3 - QUIZ  (Real)                                            float64\n",
       "Assignment: UPLOAD ASSIGNMENT 1 - POWERPOINT PRESENTATION (Real)      int64\n",
       "Assignment: UPLOAD ASSIGNMENT 2 - REFLECTIVE WRITING (Real)           int64\n",
       "Course total (Real)                                                 float64\n",
       "disengaged                                                            int64\n",
       "dtype: object"
      ]
     },
     "execution_count": 35,
     "metadata": {},
     "output_type": "execute_result"
    }
   ],
   "source": [
    "m2mg_subset.dtypes"
   ]
  },
  {
   "cell_type": "code",
   "execution_count": 36,
   "metadata": {
    "collapsed": true
   },
   "outputs": [],
   "source": [
    "spear1 = m2mg_subset['Assignment: UPLOAD ASSIGNMENT 2 - REFLECTIVE WRITING (Real)']"
   ]
  },
  {
   "cell_type": "code",
   "execution_count": 37,
   "metadata": {
    "collapsed": true
   },
   "outputs": [],
   "source": [
    "spear2 = m2mg_subset['Course total (Real)']"
   ]
  },
  {
   "cell_type": "code",
   "execution_count": 38,
   "metadata": {},
   "outputs": [
    {
     "name": "stdout",
     "output_type": "stream",
     "text": [
      "SpearmanrResult(correlation=0.9245499104402608, pvalue=7.6411144460062279e-59)\n"
     ]
    }
   ],
   "source": [
    "spearcorr = stats.spearmanr(spear1,spear2)\n",
    "print(spearcorr)\n",
    "# Would suggest a weak link "
   ]
  },
  {
   "cell_type": "code",
   "execution_count": 39,
   "metadata": {},
   "outputs": [
    {
     "name": "stdout",
     "output_type": "stream",
     "text": [
      "(0.89533766540152671, 1.2883884321483088e-49)\n"
     ]
    }
   ],
   "source": [
    "pearcorr = stats.pearsonr(spear1, spear2)\n",
    "print(pearcorr)"
   ]
  },
  {
   "cell_type": "code",
   "execution_count": 40,
   "metadata": {},
   "outputs": [
    {
     "data": {
      "text/html": [
       "<div>\n",
       "<style>\n",
       "    .dataframe thead tr:only-child th {\n",
       "        text-align: right;\n",
       "    }\n",
       "\n",
       "    .dataframe thead th {\n",
       "        text-align: left;\n",
       "    }\n",
       "\n",
       "    .dataframe tbody tr th {\n",
       "        vertical-align: top;\n",
       "    }\n",
       "</style>\n",
       "<table border=\"1\" class=\"dataframe\">\n",
       "  <thead>\n",
       "    <tr style=\"text-align: right;\">\n",
       "      <th></th>\n",
       "      <th>First name</th>\n",
       "      <th>Surname</th>\n",
       "      <th>ID number</th>\n",
       "      <th>Quiz: CA3 - QUIZ  (Real)</th>\n",
       "      <th>Assignment: UPLOAD ASSIGNMENT 1 - POWERPOINT PRESENTATION (Real)</th>\n",
       "      <th>Assignment: UPLOAD ASSIGNMENT 2 - REFLECTIVE WRITING (Real)</th>\n",
       "      <th>Course total (Real)</th>\n",
       "      <th>disengaged</th>\n",
       "    </tr>\n",
       "  </thead>\n",
       "  <tbody>\n",
       "    <tr>\n",
       "      <th>0</th>\n",
       "      <td>a8NM</td>\n",
       "      <td>bDqB</td>\n",
       "      <td>U8NMDqBG</td>\n",
       "      <td>7.30</td>\n",
       "      <td>13</td>\n",
       "      <td>32</td>\n",
       "      <td>52.30</td>\n",
       "      <td>1</td>\n",
       "    </tr>\n",
       "    <tr>\n",
       "      <th>1</th>\n",
       "      <td>aSnR</td>\n",
       "      <td>bGk9</td>\n",
       "      <td>VSnRGk9O</td>\n",
       "      <td>8.55</td>\n",
       "      <td>10</td>\n",
       "      <td>38</td>\n",
       "      <td>56.55</td>\n",
       "      <td>0</td>\n",
       "    </tr>\n",
       "  </tbody>\n",
       "</table>\n",
       "</div>"
      ],
      "text/plain": [
       "  First name Surname ID number  Quiz: CA3 - QUIZ  (Real)  \\\n",
       "0       a8NM    bDqB  U8NMDqBG                      7.30   \n",
       "1       aSnR    bGk9  VSnRGk9O                      8.55   \n",
       "\n",
       "   Assignment: UPLOAD ASSIGNMENT 1 - POWERPOINT PRESENTATION (Real)  \\\n",
       "0                                                 13                  \n",
       "1                                                 10                  \n",
       "\n",
       "   Assignment: UPLOAD ASSIGNMENT 2 - REFLECTIVE WRITING (Real)  \\\n",
       "0                                                 32             \n",
       "1                                                 38             \n",
       "\n",
       "   Course total (Real)  disengaged  \n",
       "0                52.30           1  \n",
       "1                56.55           0  "
      ]
     },
     "execution_count": 40,
     "metadata": {},
     "output_type": "execute_result"
    }
   ],
   "source": [
    "m2mg_subset.head(2)"
   ]
  },
  {
   "cell_type": "code",
   "execution_count": 41,
   "metadata": {
    "collapsed": true
   },
   "outputs": [],
   "source": [
    "Xm2mg = m2mg_subset.iloc[:,3:6]  #independent columns\n",
    "ym2mg = m2mg_subset.iloc[:,-1]    #target column i.e engaged\n"
   ]
  },
  {
   "cell_type": "code",
   "execution_count": 42,
   "metadata": {},
   "outputs": [
    {
     "data": {
      "text/html": [
       "<div>\n",
       "<style>\n",
       "    .dataframe thead tr:only-child th {\n",
       "        text-align: right;\n",
       "    }\n",
       "\n",
       "    .dataframe thead th {\n",
       "        text-align: left;\n",
       "    }\n",
       "\n",
       "    .dataframe tbody tr th {\n",
       "        vertical-align: top;\n",
       "    }\n",
       "</style>\n",
       "<table border=\"1\" class=\"dataframe\">\n",
       "  <thead>\n",
       "    <tr style=\"text-align: right;\">\n",
       "      <th></th>\n",
       "      <th>Quiz: CA3 - QUIZ  (Real)</th>\n",
       "      <th>Assignment: UPLOAD ASSIGNMENT 1 - POWERPOINT PRESENTATION (Real)</th>\n",
       "      <th>Assignment: UPLOAD ASSIGNMENT 2 - REFLECTIVE WRITING (Real)</th>\n",
       "    </tr>\n",
       "  </thead>\n",
       "  <tbody>\n",
       "    <tr>\n",
       "      <th>0</th>\n",
       "      <td>7.30</td>\n",
       "      <td>13</td>\n",
       "      <td>32</td>\n",
       "    </tr>\n",
       "    <tr>\n",
       "      <th>1</th>\n",
       "      <td>8.55</td>\n",
       "      <td>10</td>\n",
       "      <td>38</td>\n",
       "    </tr>\n",
       "  </tbody>\n",
       "</table>\n",
       "</div>"
      ],
      "text/plain": [
       "   Quiz: CA3 - QUIZ  (Real)  \\\n",
       "0                      7.30   \n",
       "1                      8.55   \n",
       "\n",
       "   Assignment: UPLOAD ASSIGNMENT 1 - POWERPOINT PRESENTATION (Real)  \\\n",
       "0                                                 13                  \n",
       "1                                                 10                  \n",
       "\n",
       "   Assignment: UPLOAD ASSIGNMENT 2 - REFLECTIVE WRITING (Real)  \n",
       "0                                                 32            \n",
       "1                                                 38            "
      ]
     },
     "execution_count": 42,
     "metadata": {},
     "output_type": "execute_result"
    }
   ],
   "source": [
    "Xm2mg.head(2)"
   ]
  },
  {
   "cell_type": "code",
   "execution_count": 43,
   "metadata": {},
   "outputs": [
    {
     "data": {
      "text/plain": [
       "0    1\n",
       "1    0\n",
       "Name: disengaged, dtype: int64"
      ]
     },
     "execution_count": 43,
     "metadata": {},
     "output_type": "execute_result"
    }
   ],
   "source": [
    "ym2mg.head(2)"
   ]
  },
  {
   "cell_type": "code",
   "execution_count": null,
   "metadata": {
    "collapsed": true
   },
   "outputs": [],
   "source": []
  },
  {
   "cell_type": "code",
   "execution_count": null,
   "metadata": {
    "collapsed": true
   },
   "outputs": [],
   "source": []
  }
 ],
 "metadata": {
  "kernelspec": {
   "display_name": "Python 3",
   "language": "python",
   "name": "python3"
  },
  "language_info": {
   "codemirror_mode": {
    "name": "ipython",
    "version": 3
   },
   "file_extension": ".py",
   "mimetype": "text/x-python",
   "name": "python",
   "nbconvert_exporter": "python",
   "pygments_lexer": "ipython3",
   "version": "3.6.2"
  }
 },
 "nbformat": 4,
 "nbformat_minor": 2
}
