{
 "cells": [
  {
   "cell_type": "code",
   "execution_count": 1,
   "metadata": {
    "collapsed": true
   },
   "outputs": [],
   "source": [
    "\n",
    "# Importing libraries\n",
    "import pandas as pd\n",
    "import matplotlib.pyplot as plt\n",
    "from matplotlib import pyplot as plt\n",
    "#import missingno as msno\n",
    "from scipy import stats\n",
    "\n",
    "import numpy as np\n",
    "import datetime\n",
    "import seaborn as sns\n",
    "from sklearn.svm import SVC\n",
    "from sklearn.preprocessing import LabelEncoder\n",
    "from sklearn.cluster import KMeans\n",
    "from sklearn.feature_selection import SelectKBest\n",
    "from sklearn.feature_selection import chi2\n",
    "# Import DecisionTreeClassifier\n",
    "from sklearn.tree import DecisionTreeClassifier\n",
    "# Import RandomForestClassifier\n",
    "from sklearn.ensemble import RandomForestClassifier\n",
    "\n",
    "# Import precision_score\n",
    "from sklearn.metrics import precision_score\n",
    "\n",
    "from sklearn import metrics #Import scikit-learn metrics module for accuracy calculation\n",
    "\n",
    "\n",
    "# Import necessary modules\n",
    "from sklearn.linear_model import LinearRegression\n",
    "from sklearn.model_selection import cross_val_score\n",
    "\n",
    "\n",
    "\n",
    "# Import recall_score\n",
    "from sklearn.metrics import recall_score\n",
    "\n",
    "#from sklearn.metrics import roc_auc_curve\n",
    "# Import roc_curve\n",
    "from sklearn.metrics import roc_curve\n",
    "\n",
    "\n",
    "\n",
    "from sklearn.svm import SVC\n",
    "\n",
    "# Import confusion matrix\n",
    "from sklearn.metrics import confusion_matrix\n",
    "\n",
    "from sklearn.tree import export_graphviz\n",
    "from sklearn.externals.six import StringIO  \n",
    "from IPython.display import Image  \n",
    "#import pydotplus\n",
    "\n",
    "\n",
    "\n",
    "# Import train_test_split\n",
    "from sklearn.model_selection import train_test_split\n",
    "\n",
    "# Import LogisticRegression\n",
    "from sklearn.linear_model import LogisticRegression\n",
    "\n",
    "\n",
    "from sklearn import metrics #Import scikit-learn metrics module for accuracy calculation\n",
    "\n",
    "\n",
    "\n",
    "import scipy.stats as st\n",
    "#import pandas_profiling\n",
    "import requests \n",
    "%matplotlib inline\n"
   ]
  },
  {
   "cell_type": "code",
   "execution_count": 2,
   "metadata": {
    "collapsed": true
   },
   "outputs": [],
   "source": [
    "# Semester Start Date:\n",
    "StartDate = '2018-09-17' \n",
    "StartDate = pd.to_datetime(StartDate)\n"
   ]
  },
  {
   "cell_type": "code",
   "execution_count": 3,
   "metadata": {
    "collapsed": true
   },
   "outputs": [],
   "source": [
    "# Semester End Date:\n",
    "EndDate = '2019-01-21' \n",
    "EndDate = pd.to_datetime(EndDate)"
   ]
  },
  {
   "cell_type": "code",
   "execution_count": 4,
   "metadata": {
    "collapsed": true
   },
   "outputs": [],
   "source": [
    "TriOne = '2018-10-22'\n",
    "TriOne = pd.to_datetime(TriOne)"
   ]
  },
  {
   "cell_type": "code",
   "execution_count": 5,
   "metadata": {
    "collapsed": true
   },
   "outputs": [],
   "source": [
    "TriTwo = '2018-11-26'\n",
    "TriTwo = pd.to_datetime(TriTwo)"
   ]
  },
  {
   "cell_type": "code",
   "execution_count": 6,
   "metadata": {
    "collapsed": true
   },
   "outputs": [],
   "source": [
    "# Begin6 START OF MODULE 6\n",
    "# It is unknown what year this module is from.20 student passed this module and 8 failed.Module 6 has labs,\n",
    "# lecture and continuous assessment.The assessments are worth 35/45 and 20 percent each.The class size is (<30)\n",
    "#\n",
    "#\n",
    "# This Module has 3 files\n",
    "# Continuos assesemetn Week on week\n",
    "# Total CA Mark is the total we are working off"
   ]
  },
  {
   "cell_type": "code",
   "execution_count": 7,
   "metadata": {
    "collapsed": true
   },
   "outputs": [],
   "source": [
    "# Data Preperation Module 6\n",
    "# 3 Files with this module\n",
    "# Module 6\n",
    "module6ml = pd.read_csv('Module6-MoodleLogs.csv')"
   ]
  },
  {
   "cell_type": "code",
   "execution_count": 8,
   "metadata": {
    "collapsed": true
   },
   "outputs": [],
   "source": [
    "module6mg = pd.read_csv('Module6-MoodleGrades.csv')"
   ]
  },
  {
   "cell_type": "code",
   "execution_count": 9,
   "metadata": {
    "collapsed": true
   },
   "outputs": [],
   "source": [
    "module6og = pd.read_csv('Module6-OwnGrades.csv')"
   ]
  },
  {
   "cell_type": "code",
   "execution_count": 10,
   "metadata": {},
   "outputs": [
    {
     "name": "stdout",
     "output_type": "stream",
     "text": [
      "['First name', 'Surname', 'ID number', 'Email address', 'Quiz: CA1 - Theory Test (Real)', 'Last downloaded from this course']\n"
     ]
    }
   ],
   "source": [
    "print (module6mg.columns.tolist())\n"
   ]
  },
  {
   "cell_type": "code",
   "execution_count": 11,
   "metadata": {},
   "outputs": [
    {
     "name": "stdout",
     "output_type": "stream",
     "text": [
      "['ID number', 'First Name', 'Surname', 'Group', 'Total CA Mark / 100', 'Final Grade', 'CA1 Theory Test / 35', 'CA2 Lab Test / 45', 'Labs CA / 20', 'Wk1-Lecture', 'Wk1-Lab', 'Wk2-Lecture', 'Wk2-Lab', 'Wk2-CA / 3', 'wk2-CA / 2.5', 'Wk3-Lecture', 'Wk3-Lab', 'wk3-CA / 3', 'wk3-Ca/2.5', 'Wk4-Lecture', 'Wk4-Lab', 'wk4-CA/2.5', 'wk4-ca/3', 'Wk5-Lecture', 'Wk5-Lab', 'wk5-Ca/2.5', 'wk5-CA / 3', 'Wk6-Lecture', 'Wk6-Lab', 'wk6-CA/2.5', 'wk6-CA / 3', 'wk7-Lecture', 'wk7-Lab', 'wk7-CA / 3', 'wk7-CA / 2.5', 'Wk8-Lecture', 'Wk8-CA1', 'Wk9-Lecture', 'Wk9-Lab', 'Wk9-CA / 3', 'wk10-Lecture', 'wk10-Lab', 'wk10-CA / 2.5', 'wk10-CA / 3', 'wl11-Lecture', 'wk11-CA2', 'Student Name', 'wk0-CA / 2.5']\n"
     ]
    }
   ],
   "source": [
    "print (module6og.columns.tolist())\n",
    "# Print Columns"
   ]
  },
  {
   "cell_type": "code",
   "execution_count": 12,
   "metadata": {},
   "outputs": [
    {
     "name": "stdout",
     "output_type": "stream",
     "text": [
      "Time              2728\n",
      "User full name      27\n",
      "Affected user        1\n",
      "Event context       46\n",
      "Component           10\n",
      "Event name          27\n",
      "Description         42\n",
      "Origin               2\n",
      "A                    1\n",
      "dtype: int64\n"
     ]
    }
   ],
   "source": [
    "# Print the number of unique values in each modul6ml column\n",
    "print(module6ml.nunique())"
   ]
  },
  {
   "cell_type": "code",
   "execution_count": 13,
   "metadata": {},
   "outputs": [
    {
     "name": "stdout",
     "output_type": "stream",
     "text": [
      "ID number               28\n",
      "First Name              28\n",
      "Surname                 28\n",
      "Group                    2\n",
      "Total CA Mark / 100     28\n",
      "Final Grade              6\n",
      "CA1 Theory Test / 35    25\n",
      "CA2 Lab Test / 45       20\n",
      "Labs CA / 20            17\n",
      "Wk1-Lecture              2\n",
      "Wk1-Lab                  2\n",
      "Wk2-Lecture              2\n",
      "Wk2-Lab                  2\n",
      "Wk2-CA / 3               4\n",
      "wk2-CA / 2.5             4\n",
      "Wk3-Lecture              2\n",
      "Wk3-Lab                  2\n",
      "wk3-CA / 3               3\n",
      "wk3-Ca/2.5               3\n",
      "Wk4-Lecture              2\n",
      "Wk4-Lab                  2\n",
      "wk4-CA/2.5               4\n",
      "wk4-ca/3                 4\n",
      "Wk5-Lecture              2\n",
      "Wk5-Lab                  2\n",
      "wk5-Ca/2.5               4\n",
      "wk5-CA / 3               4\n",
      "Wk6-Lecture              2\n",
      "Wk6-Lab                  2\n",
      "wk6-CA/2.5               3\n",
      "wk6-CA / 3               3\n",
      "wk7-Lecture              2\n",
      "wk7-Lab                  2\n",
      "wk7-CA / 3               3\n",
      "wk7-CA / 2.5             3\n",
      "Wk8-Lecture              2\n",
      "Wk8-CA1                  2\n",
      "Wk9-Lecture              2\n",
      "Wk9-Lab                  2\n",
      "Wk9-CA / 3               4\n",
      "wk10-Lecture             2\n",
      "wk10-Lab                 2\n",
      "wk10-CA / 2.5            3\n",
      "wk10-CA / 3              3\n",
      "wl11-Lecture             2\n",
      "wk11-CA2                 2\n",
      "Student Name             1\n",
      "wk0-CA / 2.5             4\n",
      "dtype: int64\n"
     ]
    }
   ],
   "source": [
    "# Print the number of unique values in each modul6og column\n",
    "print(module6og.nunique())"
   ]
  },
  {
   "cell_type": "code",
   "execution_count": 14,
   "metadata": {},
   "outputs": [
    {
     "name": "stdout",
     "output_type": "stream",
     "text": [
      "First name                          28\n",
      "Surname                             28\n",
      "ID number                           28\n",
      "Email address                       28\n",
      "Quiz: CA1 - Theory Test (Real)      25\n",
      "Last downloaded from this course     1\n",
      "dtype: int64\n"
     ]
    }
   ],
   "source": [
    "# Print the number of unique values in each modul6mg column\n",
    "print(module6mg.nunique())"
   ]
  },
  {
   "cell_type": "code",
   "execution_count": 15,
   "metadata": {
    "collapsed": true
   },
   "outputs": [],
   "source": [
    "# Time6\n",
    "time6 = module6ml[\"Time\"].str.split(\",\", n = 1, expand = True)"
   ]
  },
  {
   "cell_type": "code",
   "execution_count": 16,
   "metadata": {
    "collapsed": true
   },
   "outputs": [],
   "source": [
    "# making separate Date column from new data frame \n",
    "module6ml[\"Date\"]= time6[0] \n",
    "\n",
    "# making seperate Time column from new data frame\n",
    "module6ml['Time']= time6[1]\n"
   ]
  },
  {
   "cell_type": "code",
   "execution_count": 17,
   "metadata": {
    "collapsed": true
   },
   "outputs": [],
   "source": [
    "# Convert the date column to datetime64\n",
    "module6ml.Date = pd.to_datetime(module6ml.Date)"
   ]
  },
  {
   "cell_type": "code",
   "execution_count": 18,
   "metadata": {},
   "outputs": [
    {
     "data": {
      "text/plain": [
       "5505"
      ]
     },
     "execution_count": 18,
     "metadata": {},
     "output_type": "execute_result"
    }
   ],
   "source": [
    "len(module6ml)"
   ]
  },
  {
   "cell_type": "code",
   "execution_count": 19,
   "metadata": {},
   "outputs": [
    {
     "data": {
      "text/plain": [
       "4408"
      ]
     },
     "execution_count": 19,
     "metadata": {},
     "output_type": "execute_result"
    }
   ],
   "source": [
    "#Remove activity outside semester start and end dates range -Timeedit6\n",
    "mask6 = (module6ml['Date'] >= StartDate) & (module6ml['Date'] <= EndDate)\n",
    "\n",
    "module6ml = module6ml.loc[mask6]\n",
    "\n",
    "len(module6ml)"
   ]
  },
  {
   "cell_type": "code",
   "execution_count": 20,
   "metadata": {},
   "outputs": [
    {
     "data": {
      "text/plain": [
       "805"
      ]
     },
     "execution_count": 20,
     "metadata": {},
     "output_type": "execute_result"
    }
   ],
   "source": [
    "#Remove activity outside semester start and end dates range -Timeedit1\n",
    "week5_6 = (module6ml['Date'] >= StartDate) & (module6ml['Date'] <= TriOne)\n",
    "\n",
    "FirstFive6 = module6ml.loc[week5_6]\n",
    "\n",
    "len(FirstFive6)\n"
   ]
  },
  {
   "cell_type": "code",
   "execution_count": 21,
   "metadata": {},
   "outputs": [
    {
     "data": {
      "text/plain": [
       "2429"
      ]
     },
     "execution_count": 21,
     "metadata": {},
     "output_type": "execute_result"
    }
   ],
   "source": [
    "#Remove activity outside semester start and end dates range -Timeedit1\n",
    "week10_6 = (module6ml['Date'] >= TriOne) & (module6ml['Date'] <= TriTwo)\n",
    "\n",
    "FirstTen6 = module6ml.loc[week10_6]\n",
    "\n",
    "len(FirstTen6)\n"
   ]
  },
  {
   "cell_type": "code",
   "execution_count": 22,
   "metadata": {},
   "outputs": [
    {
     "data": {
      "text/plain": [
       "1196"
      ]
     },
     "execution_count": 22,
     "metadata": {},
     "output_type": "execute_result"
    }
   ],
   "source": [
    "\n",
    "#Remove activity outside semester start and end dates range -Timeedit1\n",
    "week15_6 = (module6ml['Date'] >= TriTwo) & (module6ml['Date'] <= EndDate)\n",
    "\n",
    "FirstFivt6 = module6ml.loc[week15_6]\n",
    "\n",
    "len(FirstFivt6)\n"
   ]
  },
  {
   "cell_type": "code",
   "execution_count": 23,
   "metadata": {
    "collapsed": true
   },
   "outputs": [],
   "source": [
    "#Split string User full name which adds two new columns\n",
    "# new data frame with split value columns \n",
    "new6 = module6ml[\"User full name\"].str.split(\" \", n = 1, expand = True)\n"
   ]
  },
  {
   "cell_type": "code",
   "execution_count": 24,
   "metadata": {
    "collapsed": true
   },
   "outputs": [],
   "source": [
    "# making separate first name column from new data frame \n",
    "module6ml[\"First name\"]= new6[0] \n",
    "\n",
    "# making separate last name column from new data frame \n",
    "module6ml[\"Last name\"]= new6[1] \n"
   ]
  },
  {
   "cell_type": "code",
   "execution_count": 26,
   "metadata": {},
   "outputs": [
    {
     "data": {
      "text/html": [
       "<div>\n",
       "<style>\n",
       "    .dataframe thead tr:only-child th {\n",
       "        text-align: right;\n",
       "    }\n",
       "\n",
       "    .dataframe thead th {\n",
       "        text-align: left;\n",
       "    }\n",
       "\n",
       "    .dataframe tbody tr th {\n",
       "        vertical-align: top;\n",
       "    }\n",
       "</style>\n",
       "<table border=\"1\" class=\"dataframe\">\n",
       "  <thead>\n",
       "    <tr style=\"text-align: right;\">\n",
       "      <th></th>\n",
       "      <th>Time</th>\n",
       "      <th>User full name</th>\n",
       "      <th>Affected user</th>\n",
       "      <th>Event context</th>\n",
       "      <th>Component</th>\n",
       "      <th>Event name</th>\n",
       "      <th>Description</th>\n",
       "      <th>Origin</th>\n",
       "      <th>A</th>\n",
       "      <th>Date</th>\n",
       "      <th>First name</th>\n",
       "      <th>Last name</th>\n",
       "    </tr>\n",
       "  </thead>\n",
       "  <tbody>\n",
       "    <tr>\n",
       "      <th>41</th>\n",
       "      <td>22:03</td>\n",
       "      <td>afDK bEXb</td>\n",
       "      <td>-</td>\n",
       "      <td>File: Lecture 11 - b a Small N</td>\n",
       "      <td>File</td>\n",
       "      <td>Course module viewed</td>\n",
       "      <td>The user with id '0' viewed the 'resource' act...</td>\n",
       "      <td>web</td>\n",
       "      <td>127.0.0.1</td>\n",
       "      <td>2019-01-21</td>\n",
       "      <td>afDK</td>\n",
       "      <td>bEXb</td>\n",
       "    </tr>\n",
       "    <tr>\n",
       "      <th>42</th>\n",
       "      <td>22:03</td>\n",
       "      <td>afDK bEXb</td>\n",
       "      <td>-</td>\n",
       "      <td>File: Lecture 10 - t and a l</td>\n",
       "      <td>File</td>\n",
       "      <td>Course module viewed</td>\n",
       "      <td>The user with id '0' viewed the 'resource' act...</td>\n",
       "      <td>web</td>\n",
       "      <td>127.0.0.1</td>\n",
       "      <td>2019-01-21</td>\n",
       "      <td>afDK</td>\n",
       "      <td>bEXb</td>\n",
       "    </tr>\n",
       "  </tbody>\n",
       "</table>\n",
       "</div>"
      ],
      "text/plain": [
       "      Time User full name Affected user                   Event context  \\\n",
       "41   22:03      afDK bEXb             -  File: Lecture 11 - b a Small N   \n",
       "42   22:03      afDK bEXb             -    File: Lecture 10 - t and a l   \n",
       "\n",
       "   Component            Event name  \\\n",
       "41      File  Course module viewed   \n",
       "42      File  Course module viewed   \n",
       "\n",
       "                                          Description Origin          A  \\\n",
       "41  The user with id '0' viewed the 'resource' act...    web  127.0.0.1   \n",
       "42  The user with id '0' viewed the 'resource' act...    web  127.0.0.1   \n",
       "\n",
       "         Date First name Last name  \n",
       "41 2019-01-21       afDK      bEXb  \n",
       "42 2019-01-21       afDK      bEXb  "
      ]
     },
     "execution_count": 26,
     "metadata": {},
     "output_type": "execute_result"
    }
   ],
   "source": [
    "module6ml.head(2)"
   ]
  },
  {
   "cell_type": "code",
   "execution_count": 27,
   "metadata": {},
   "outputs": [
    {
     "data": {
      "text/plain": [
       "Time                      object\n",
       "User full name            object\n",
       "Affected user             object\n",
       "Event context             object\n",
       "Component                 object\n",
       "Event name                object\n",
       "Description               object\n",
       "Origin                    object\n",
       "A                         object\n",
       "Date              datetime64[ns]\n",
       "First name                object\n",
       "Last name                 object\n",
       "dtype: object"
      ]
     },
     "execution_count": 27,
     "metadata": {},
     "output_type": "execute_result"
    }
   ],
   "source": [
    "module6ml.dtypes"
   ]
  },
  {
   "cell_type": "code",
   "execution_count": 28,
   "metadata": {},
   "outputs": [
    {
     "data": {
      "text/html": [
       "<div>\n",
       "<style>\n",
       "    .dataframe thead tr:only-child th {\n",
       "        text-align: right;\n",
       "    }\n",
       "\n",
       "    .dataframe thead th {\n",
       "        text-align: left;\n",
       "    }\n",
       "\n",
       "    .dataframe tbody tr th {\n",
       "        vertical-align: top;\n",
       "    }\n",
       "</style>\n",
       "<table border=\"1\" class=\"dataframe\">\n",
       "  <thead>\n",
       "    <tr style=\"text-align: right;\">\n",
       "      <th></th>\n",
       "      <th>Time</th>\n",
       "      <th>User full name</th>\n",
       "      <th>Affected user</th>\n",
       "      <th>Event context</th>\n",
       "      <th>Component</th>\n",
       "      <th>Event name</th>\n",
       "      <th>Description</th>\n",
       "      <th>Origin</th>\n",
       "      <th>A</th>\n",
       "      <th>Date</th>\n",
       "      <th>First name</th>\n",
       "      <th>Last name</th>\n",
       "    </tr>\n",
       "  </thead>\n",
       "  <tbody>\n",
       "    <tr>\n",
       "      <th>41</th>\n",
       "      <td>22:03</td>\n",
       "      <td>afDK bEXb</td>\n",
       "      <td>-</td>\n",
       "      <td>File: Lecture 11 - b a Small N</td>\n",
       "      <td>File</td>\n",
       "      <td>Course module viewed</td>\n",
       "      <td>The user with id '0' viewed the 'resource' act...</td>\n",
       "      <td>web</td>\n",
       "      <td>127.0.0.1</td>\n",
       "      <td>2019-01-21</td>\n",
       "      <td>afDK</td>\n",
       "      <td>bEXb</td>\n",
       "    </tr>\n",
       "    <tr>\n",
       "      <th>42</th>\n",
       "      <td>22:03</td>\n",
       "      <td>afDK bEXb</td>\n",
       "      <td>-</td>\n",
       "      <td>File: Lecture 10 - t and a l</td>\n",
       "      <td>File</td>\n",
       "      <td>Course module viewed</td>\n",
       "      <td>The user with id '0' viewed the 'resource' act...</td>\n",
       "      <td>web</td>\n",
       "      <td>127.0.0.1</td>\n",
       "      <td>2019-01-21</td>\n",
       "      <td>afDK</td>\n",
       "      <td>bEXb</td>\n",
       "    </tr>\n",
       "  </tbody>\n",
       "</table>\n",
       "</div>"
      ],
      "text/plain": [
       "      Time User full name Affected user                   Event context  \\\n",
       "41   22:03      afDK bEXb             -  File: Lecture 11 - b a Small N   \n",
       "42   22:03      afDK bEXb             -    File: Lecture 10 - t and a l   \n",
       "\n",
       "   Component            Event name  \\\n",
       "41      File  Course module viewed   \n",
       "42      File  Course module viewed   \n",
       "\n",
       "                                          Description Origin          A  \\\n",
       "41  The user with id '0' viewed the 'resource' act...    web  127.0.0.1   \n",
       "42  The user with id '0' viewed the 'resource' act...    web  127.0.0.1   \n",
       "\n",
       "         Date First name Last name  \n",
       "41 2019-01-21       afDK      bEXb  \n",
       "42 2019-01-21       afDK      bEXb  "
      ]
     },
     "execution_count": 28,
     "metadata": {},
     "output_type": "execute_result"
    }
   ],
   "source": [
    "module6ml.head(2)"
   ]
  },
  {
   "cell_type": "code",
   "execution_count": 29,
   "metadata": {
    "collapsed": true
   },
   "outputs": [],
   "source": [
    "#Columndrop6\n",
    "module6ml = module6ml.drop(module6ml[['A','Origin','Description','Affected user']], axis=1)"
   ]
  },
  {
   "cell_type": "code",
   "execution_count": 30,
   "metadata": {},
   "outputs": [
    {
     "data": {
      "text/html": [
       "<div>\n",
       "<style>\n",
       "    .dataframe thead tr:only-child th {\n",
       "        text-align: right;\n",
       "    }\n",
       "\n",
       "    .dataframe thead th {\n",
       "        text-align: left;\n",
       "    }\n",
       "\n",
       "    .dataframe tbody tr th {\n",
       "        vertical-align: top;\n",
       "    }\n",
       "</style>\n",
       "<table border=\"1\" class=\"dataframe\">\n",
       "  <thead>\n",
       "    <tr style=\"text-align: right;\">\n",
       "      <th></th>\n",
       "      <th>Time</th>\n",
       "      <th>User full name</th>\n",
       "      <th>Event context</th>\n",
       "      <th>Component</th>\n",
       "      <th>Event name</th>\n",
       "      <th>Date</th>\n",
       "      <th>First name</th>\n",
       "      <th>Last name</th>\n",
       "    </tr>\n",
       "  </thead>\n",
       "  <tbody>\n",
       "    <tr>\n",
       "      <th>41</th>\n",
       "      <td>22:03</td>\n",
       "      <td>afDK bEXb</td>\n",
       "      <td>File: Lecture 11 - b a Small N</td>\n",
       "      <td>File</td>\n",
       "      <td>Course module viewed</td>\n",
       "      <td>2019-01-21</td>\n",
       "      <td>afDK</td>\n",
       "      <td>bEXb</td>\n",
       "    </tr>\n",
       "    <tr>\n",
       "      <th>42</th>\n",
       "      <td>22:03</td>\n",
       "      <td>afDK bEXb</td>\n",
       "      <td>File: Lecture 10 - t and a l</td>\n",
       "      <td>File</td>\n",
       "      <td>Course module viewed</td>\n",
       "      <td>2019-01-21</td>\n",
       "      <td>afDK</td>\n",
       "      <td>bEXb</td>\n",
       "    </tr>\n",
       "  </tbody>\n",
       "</table>\n",
       "</div>"
      ],
      "text/plain": [
       "      Time User full name                   Event context Component  \\\n",
       "41   22:03      afDK bEXb  File: Lecture 11 - b a Small N      File   \n",
       "42   22:03      afDK bEXb    File: Lecture 10 - t and a l      File   \n",
       "\n",
       "              Event name       Date First name Last name  \n",
       "41  Course module viewed 2019-01-21       afDK      bEXb  \n",
       "42  Course module viewed 2019-01-21       afDK      bEXb  "
      ]
     },
     "execution_count": 30,
     "metadata": {},
     "output_type": "execute_result"
    }
   ],
   "source": [
    "module6ml.head(2)"
   ]
  },
  {
   "cell_type": "code",
   "execution_count": 31,
   "metadata": {},
   "outputs": [
    {
     "name": "stdout",
     "output_type": "stream",
     "text": [
      "      Time User full name       Date First name Last name  \\\n",
      "41   22:03      afDK bEXb 2019-01-21       afDK      bEXb   \n",
      "42   22:03      afDK bEXb 2019-01-21       afDK      bEXb   \n",
      "43   22:02      afDK bEXb 2019-01-21       afDK      bEXb   \n",
      "44   22:02      afDK bEXb 2019-01-21       afDK      bEXb   \n",
      "45   22:02      afDK bEXb 2019-01-21       afDK      bEXb   \n",
      "\n",
      "    Event name_A file has been uploaded.  \\\n",
      "41                                     0   \n",
      "42                                     0   \n",
      "43                                     0   \n",
      "44                                     0   \n",
      "45                                     0   \n",
      "\n",
      "    Event name_A submission has been submitted.  \\\n",
      "41                                            0   \n",
      "42                                            0   \n",
      "43                                            0   \n",
      "44                                            0   \n",
      "45                                            0   \n",
      "\n",
      "    Event name_Badge listing viewed  Event name_Comment created  \\\n",
      "41                                0                           0   \n",
      "42                                0                           0   \n",
      "43                                0                           0   \n",
      "44                                0                           0   \n",
      "45                                0                           0   \n",
      "\n",
      "    Event name_Course activity completion updated          ...            \\\n",
      "41                                              0          ...             \n",
      "42                                              0          ...             \n",
      "43                                              0          ...             \n",
      "44                                              0          ...             \n",
      "45                                              0          ...             \n",
      "\n",
      "    Component_Assignment  Component_File  Component_File submissions  \\\n",
      "41                     0               1                           0   \n",
      "42                     0               1                           0   \n",
      "43                     0               1                           0   \n",
      "44                     0               1                           0   \n",
      "45                     0               1                           0   \n",
      "\n",
      "    Component_Forum  Component_Overview report  Component_Quiz  \\\n",
      "41                0                          0               0   \n",
      "42                0                          0               0   \n",
      "43                0                          0               0   \n",
      "44                0                          0               0   \n",
      "45                0                          0               0   \n",
      "\n",
      "    Component_Submission comments  Component_System  Component_URL  \\\n",
      "41                              0                 0              0   \n",
      "42                              0                 0              0   \n",
      "43                              0                 0              0   \n",
      "44                              0                 0              0   \n",
      "45                              0                 0              0   \n",
      "\n",
      "    Component_User report  \n",
      "41                      0  \n",
      "42                      0  \n",
      "43                      0  \n",
      "44                      0  \n",
      "45                      0  \n",
      "\n",
      "[5 rows x 86 columns]\n"
     ]
    }
   ],
   "source": [
    "module6ml_onehot = module6ml.copy()\n",
    "module6ml_onehot = pd.get_dummies(module6ml_onehot, columns=['Event name'], prefix = ['Event name'])\n",
    "module6ml_onehot = pd.get_dummies(module6ml_onehot, columns=['Event context'], prefix = ['Event context'])\n",
    "module6ml_onehot = pd.get_dummies(module6ml_onehot, columns=['Component'], prefix = ['Component'])\n",
    "\n",
    "\n",
    "print(module6ml_onehot.head())\n"
   ]
  },
  {
   "cell_type": "code",
   "execution_count": 32,
   "metadata": {},
   "outputs": [
    {
     "data": {
      "text/html": [
       "<div>\n",
       "<style>\n",
       "    .dataframe thead tr:only-child th {\n",
       "        text-align: right;\n",
       "    }\n",
       "\n",
       "    .dataframe thead th {\n",
       "        text-align: left;\n",
       "    }\n",
       "\n",
       "    .dataframe tbody tr th {\n",
       "        vertical-align: top;\n",
       "    }\n",
       "</style>\n",
       "<table border=\"1\" class=\"dataframe\">\n",
       "  <thead>\n",
       "    <tr style=\"text-align: right;\">\n",
       "      <th></th>\n",
       "      <th>Time</th>\n",
       "      <th>User full name</th>\n",
       "      <th>Date</th>\n",
       "      <th>First name</th>\n",
       "      <th>Last name</th>\n",
       "      <th>Event name_A file has been uploaded.</th>\n",
       "      <th>Event name_A submission has been submitted.</th>\n",
       "      <th>Event name_Badge listing viewed</th>\n",
       "      <th>Event name_Comment created</th>\n",
       "      <th>Event name_Course activity completion updated</th>\n",
       "      <th>...</th>\n",
       "      <th>Component_Assignment</th>\n",
       "      <th>Component_File</th>\n",
       "      <th>Component_File submissions</th>\n",
       "      <th>Component_Forum</th>\n",
       "      <th>Component_Overview report</th>\n",
       "      <th>Component_Quiz</th>\n",
       "      <th>Component_Submission comments</th>\n",
       "      <th>Component_System</th>\n",
       "      <th>Component_URL</th>\n",
       "      <th>Component_User report</th>\n",
       "    </tr>\n",
       "  </thead>\n",
       "  <tbody>\n",
       "    <tr>\n",
       "      <th>41</th>\n",
       "      <td>22:03</td>\n",
       "      <td>afDK bEXb</td>\n",
       "      <td>2019-01-21</td>\n",
       "      <td>afDK</td>\n",
       "      <td>bEXb</td>\n",
       "      <td>0</td>\n",
       "      <td>0</td>\n",
       "      <td>0</td>\n",
       "      <td>0</td>\n",
       "      <td>0</td>\n",
       "      <td>...</td>\n",
       "      <td>0</td>\n",
       "      <td>1</td>\n",
       "      <td>0</td>\n",
       "      <td>0</td>\n",
       "      <td>0</td>\n",
       "      <td>0</td>\n",
       "      <td>0</td>\n",
       "      <td>0</td>\n",
       "      <td>0</td>\n",
       "      <td>0</td>\n",
       "    </tr>\n",
       "    <tr>\n",
       "      <th>42</th>\n",
       "      <td>22:03</td>\n",
       "      <td>afDK bEXb</td>\n",
       "      <td>2019-01-21</td>\n",
       "      <td>afDK</td>\n",
       "      <td>bEXb</td>\n",
       "      <td>0</td>\n",
       "      <td>0</td>\n",
       "      <td>0</td>\n",
       "      <td>0</td>\n",
       "      <td>0</td>\n",
       "      <td>...</td>\n",
       "      <td>0</td>\n",
       "      <td>1</td>\n",
       "      <td>0</td>\n",
       "      <td>0</td>\n",
       "      <td>0</td>\n",
       "      <td>0</td>\n",
       "      <td>0</td>\n",
       "      <td>0</td>\n",
       "      <td>0</td>\n",
       "      <td>0</td>\n",
       "    </tr>\n",
       "  </tbody>\n",
       "</table>\n",
       "<p>2 rows × 86 columns</p>\n",
       "</div>"
      ],
      "text/plain": [
       "      Time User full name       Date First name Last name  \\\n",
       "41   22:03      afDK bEXb 2019-01-21       afDK      bEXb   \n",
       "42   22:03      afDK bEXb 2019-01-21       afDK      bEXb   \n",
       "\n",
       "    Event name_A file has been uploaded.  \\\n",
       "41                                     0   \n",
       "42                                     0   \n",
       "\n",
       "    Event name_A submission has been submitted.  \\\n",
       "41                                            0   \n",
       "42                                            0   \n",
       "\n",
       "    Event name_Badge listing viewed  Event name_Comment created  \\\n",
       "41                                0                           0   \n",
       "42                                0                           0   \n",
       "\n",
       "    Event name_Course activity completion updated          ...            \\\n",
       "41                                              0          ...             \n",
       "42                                              0          ...             \n",
       "\n",
       "    Component_Assignment  Component_File  Component_File submissions  \\\n",
       "41                     0               1                           0   \n",
       "42                     0               1                           0   \n",
       "\n",
       "    Component_Forum  Component_Overview report  Component_Quiz  \\\n",
       "41                0                          0               0   \n",
       "42                0                          0               0   \n",
       "\n",
       "    Component_Submission comments  Component_System  Component_URL  \\\n",
       "41                              0                 0              0   \n",
       "42                              0                 0              0   \n",
       "\n",
       "    Component_User report  \n",
       "41                      0  \n",
       "42                      0  \n",
       "\n",
       "[2 rows x 86 columns]"
      ]
     },
     "execution_count": 32,
     "metadata": {},
     "output_type": "execute_result"
    }
   ],
   "source": [
    "module6ml_onehot.head(2)"
   ]
  },
  {
   "cell_type": "code",
   "execution_count": 33,
   "metadata": {},
   "outputs": [
    {
     "data": {
      "text/plain": [
       "4408"
      ]
     },
     "execution_count": 33,
     "metadata": {},
     "output_type": "execute_result"
    }
   ],
   "source": [
    "len(module6ml_onehot)"
   ]
  },
  {
   "cell_type": "code",
   "execution_count": 34,
   "metadata": {
    "collapsed": true
   },
   "outputs": [],
   "source": [
    "#Cleanup6\n",
    "#\n",
    "#"
   ]
  },
  {
   "cell_type": "code",
   "execution_count": 39,
   "metadata": {},
   "outputs": [
    {
     "data": {
      "text/html": [
       "<div>\n",
       "<style>\n",
       "    .dataframe thead tr:only-child th {\n",
       "        text-align: right;\n",
       "    }\n",
       "\n",
       "    .dataframe thead th {\n",
       "        text-align: left;\n",
       "    }\n",
       "\n",
       "    .dataframe tbody tr th {\n",
       "        vertical-align: top;\n",
       "    }\n",
       "</style>\n",
       "<table border=\"1\" class=\"dataframe\">\n",
       "  <thead>\n",
       "    <tr style=\"text-align: right;\">\n",
       "      <th></th>\n",
       "      <th>ID number</th>\n",
       "      <th>First Name</th>\n",
       "      <th>Surname</th>\n",
       "      <th>Group</th>\n",
       "      <th>Total CA Mark / 100</th>\n",
       "      <th>Final Grade</th>\n",
       "      <th>CA1 Theory Test / 35</th>\n",
       "      <th>CA2 Lab Test / 45</th>\n",
       "      <th>Labs CA / 20</th>\n",
       "      <th>Wk1-Lecture</th>\n",
       "      <th>...</th>\n",
       "      <th>Wk9-Lab</th>\n",
       "      <th>Wk9-CA / 3</th>\n",
       "      <th>wk10-Lecture</th>\n",
       "      <th>wk10-Lab</th>\n",
       "      <th>wk10-CA / 2.5</th>\n",
       "      <th>wk10-CA / 3</th>\n",
       "      <th>wl11-Lecture</th>\n",
       "      <th>wk11-CA2</th>\n",
       "      <th>Student Name</th>\n",
       "      <th>wk0-CA / 2.5</th>\n",
       "    </tr>\n",
       "  </thead>\n",
       "  <tbody>\n",
       "    <tr>\n",
       "      <th>0</th>\n",
       "      <td>Cg2xJ2Si</td>\n",
       "      <td>ag2x</td>\n",
       "      <td>bJ2S</td>\n",
       "      <td>1</td>\n",
       "      <td>42.306667</td>\n",
       "      <td>C</td>\n",
       "      <td>20.79</td>\n",
       "      <td>14.85</td>\n",
       "      <td>6.666667</td>\n",
       "      <td>Y</td>\n",
       "      <td>...</td>\n",
       "      <td>N</td>\n",
       "      <td>0</td>\n",
       "      <td>N</td>\n",
       "      <td>N</td>\n",
       "      <td>0.0</td>\n",
       "      <td>0</td>\n",
       "      <td>N</td>\n",
       "      <td>Y</td>\n",
       "      <td>--</td>\n",
       "      <td>0.000000</td>\n",
       "    </tr>\n",
       "    <tr>\n",
       "      <th>1</th>\n",
       "      <td>z2miDkoM</td>\n",
       "      <td>a2mi</td>\n",
       "      <td>bDko</td>\n",
       "      <td>2</td>\n",
       "      <td>84.453333</td>\n",
       "      <td>A</td>\n",
       "      <td>26.12</td>\n",
       "      <td>45.00</td>\n",
       "      <td>13.333333</td>\n",
       "      <td>Y</td>\n",
       "      <td>...</td>\n",
       "      <td>Y</td>\n",
       "      <td>2</td>\n",
       "      <td>N</td>\n",
       "      <td>Y</td>\n",
       "      <td>2.5</td>\n",
       "      <td>3</td>\n",
       "      <td>N</td>\n",
       "      <td>Y</td>\n",
       "      <td>--</td>\n",
       "      <td>1.666667</td>\n",
       "    </tr>\n",
       "  </tbody>\n",
       "</table>\n",
       "<p>2 rows × 48 columns</p>\n",
       "</div>"
      ],
      "text/plain": [
       "  ID number First Name Surname  Group  Total CA Mark / 100 Final Grade  \\\n",
       "0  Cg2xJ2Si       ag2x    bJ2S      1            42.306667           C   \n",
       "1  z2miDkoM       a2mi    bDko      2            84.453333           A   \n",
       "\n",
       "   CA1 Theory Test / 35  CA2 Lab Test / 45  Labs CA / 20 Wk1-Lecture  \\\n",
       "0                 20.79              14.85      6.666667           Y   \n",
       "1                 26.12              45.00     13.333333           Y   \n",
       "\n",
       "      ...      Wk9-Lab Wk9-CA / 3 wk10-Lecture  wk10-Lab  wk10-CA / 2.5  \\\n",
       "0     ...            N          0            N         N            0.0   \n",
       "1     ...            Y          2            N         Y            2.5   \n",
       "\n",
       "  wk10-CA / 3 wl11-Lecture  wk11-CA2  Student Name wk0-CA / 2.5  \n",
       "0           0            N         Y            --     0.000000  \n",
       "1           3            N         Y            --     1.666667  \n",
       "\n",
       "[2 rows x 48 columns]"
      ]
     },
     "execution_count": 39,
     "metadata": {},
     "output_type": "execute_result"
    }
   ],
   "source": [
    "module6og.head(2)"
   ]
  },
  {
   "cell_type": "code",
   "execution_count": 36,
   "metadata": {
    "collapsed": true
   },
   "outputs": [],
   "source": [
    "m6og = module6og[['ID number', 'First Name', 'Surname', 'Group', 'Total CA Mark / 100', 'Final Grade', 'CA1 Theory Test / 35', 'CA2 Lab Test / 45', 'Labs CA / 20', 'Wk1-Lecture', 'Wk1-Lab', 'Wk2-Lecture', 'Wk2-Lab', 'Wk2-CA / 3', 'wk2-CA / 2.5', 'Wk3-Lecture', 'Wk3-Lab', 'wk3-CA / 3', 'wk3-Ca/2.5', 'Wk4-Lecture', 'Wk4-Lab', 'wk4-CA/2.5', 'wk4-ca/3', 'Wk5-Lecture', 'Wk5-Lab', 'wk5-Ca/2.5', 'wk5-CA / 3', 'Wk6-Lecture', 'Wk6-Lab', 'wk6-CA/2.5', 'wk6-CA / 3', 'wk7-Lecture', 'wk7-Lab', 'wk7-CA / 3', 'wk7-CA / 2.5', 'Wk8-Lecture', 'Wk8-CA1', 'Wk9-Lecture', 'Wk9-Lab', 'Wk9-CA / 3', 'wk10-Lecture', 'wk10-Lab', 'wk10-CA / 2.5', 'wk10-CA / 3', 'wl11-Lecture', 'wk11-CA2', 'wk0-CA / 2.5']]"
   ]
  },
  {
   "cell_type": "code",
   "execution_count": 37,
   "metadata": {},
   "outputs": [
    {
     "data": {
      "text/html": [
       "<div>\n",
       "<style>\n",
       "    .dataframe thead tr:only-child th {\n",
       "        text-align: right;\n",
       "    }\n",
       "\n",
       "    .dataframe thead th {\n",
       "        text-align: left;\n",
       "    }\n",
       "\n",
       "    .dataframe tbody tr th {\n",
       "        vertical-align: top;\n",
       "    }\n",
       "</style>\n",
       "<table border=\"1\" class=\"dataframe\">\n",
       "  <thead>\n",
       "    <tr style=\"text-align: right;\">\n",
       "      <th></th>\n",
       "      <th>ID number</th>\n",
       "      <th>First Name</th>\n",
       "      <th>Surname</th>\n",
       "      <th>Group</th>\n",
       "      <th>Total CA Mark / 100</th>\n",
       "      <th>Final Grade</th>\n",
       "      <th>CA1 Theory Test / 35</th>\n",
       "      <th>CA2 Lab Test / 45</th>\n",
       "      <th>Labs CA / 20</th>\n",
       "      <th>Wk1-Lecture</th>\n",
       "      <th>...</th>\n",
       "      <th>Wk9-Lecture</th>\n",
       "      <th>Wk9-Lab</th>\n",
       "      <th>Wk9-CA / 3</th>\n",
       "      <th>wk10-Lecture</th>\n",
       "      <th>wk10-Lab</th>\n",
       "      <th>wk10-CA / 2.5</th>\n",
       "      <th>wk10-CA / 3</th>\n",
       "      <th>wl11-Lecture</th>\n",
       "      <th>wk11-CA2</th>\n",
       "      <th>wk0-CA / 2.5</th>\n",
       "    </tr>\n",
       "  </thead>\n",
       "  <tbody>\n",
       "    <tr>\n",
       "      <th>0</th>\n",
       "      <td>Cg2xJ2Si</td>\n",
       "      <td>ag2x</td>\n",
       "      <td>bJ2S</td>\n",
       "      <td>1</td>\n",
       "      <td>42.306667</td>\n",
       "      <td>C</td>\n",
       "      <td>20.79</td>\n",
       "      <td>14.85</td>\n",
       "      <td>6.666667</td>\n",
       "      <td>Y</td>\n",
       "      <td>...</td>\n",
       "      <td>Y</td>\n",
       "      <td>N</td>\n",
       "      <td>0</td>\n",
       "      <td>N</td>\n",
       "      <td>N</td>\n",
       "      <td>0.0</td>\n",
       "      <td>0</td>\n",
       "      <td>N</td>\n",
       "      <td>Y</td>\n",
       "      <td>0.000000</td>\n",
       "    </tr>\n",
       "    <tr>\n",
       "      <th>1</th>\n",
       "      <td>z2miDkoM</td>\n",
       "      <td>a2mi</td>\n",
       "      <td>bDko</td>\n",
       "      <td>2</td>\n",
       "      <td>84.453333</td>\n",
       "      <td>A</td>\n",
       "      <td>26.12</td>\n",
       "      <td>45.00</td>\n",
       "      <td>13.333333</td>\n",
       "      <td>Y</td>\n",
       "      <td>...</td>\n",
       "      <td>Y</td>\n",
       "      <td>Y</td>\n",
       "      <td>2</td>\n",
       "      <td>N</td>\n",
       "      <td>Y</td>\n",
       "      <td>2.5</td>\n",
       "      <td>3</td>\n",
       "      <td>N</td>\n",
       "      <td>Y</td>\n",
       "      <td>1.666667</td>\n",
       "    </tr>\n",
       "  </tbody>\n",
       "</table>\n",
       "<p>2 rows × 47 columns</p>\n",
       "</div>"
      ],
      "text/plain": [
       "  ID number First Name Surname  Group  Total CA Mark / 100 Final Grade  \\\n",
       "0  Cg2xJ2Si       ag2x    bJ2S      1            42.306667           C   \n",
       "1  z2miDkoM       a2mi    bDko      2            84.453333           A   \n",
       "\n",
       "   CA1 Theory Test / 35  CA2 Lab Test / 45  Labs CA / 20 Wk1-Lecture  \\\n",
       "0                 20.79              14.85      6.666667           Y   \n",
       "1                 26.12              45.00     13.333333           Y   \n",
       "\n",
       "      ...      Wk9-Lecture Wk9-Lab Wk9-CA / 3  wk10-Lecture  wk10-Lab  \\\n",
       "0     ...                Y       N          0             N         N   \n",
       "1     ...                Y       Y          2             N         Y   \n",
       "\n",
       "  wk10-CA / 2.5 wk10-CA / 3  wl11-Lecture  wk11-CA2 wk0-CA / 2.5  \n",
       "0           0.0           0             N         Y     0.000000  \n",
       "1           2.5           3             N         Y     1.666667  \n",
       "\n",
       "[2 rows x 47 columns]"
      ]
     },
     "execution_count": 37,
     "metadata": {},
     "output_type": "execute_result"
    }
   ],
   "source": [
    "m6og.head(2)"
   ]
  },
  {
   "cell_type": "code",
   "execution_count": 38,
   "metadata": {},
   "outputs": [
    {
     "name": "stderr",
     "output_type": "stream",
     "text": [
      "C:\\Program Files (x86)\\Microsoft Visual Studio\\Shared\\Anaconda3_64\\lib\\site-packages\\ipykernel_launcher.py:3: SettingWithCopyWarning: \n",
      "A value is trying to be set on a copy of a slice from a DataFrame.\n",
      "Try using .loc[row_indexer,col_indexer] = value instead\n",
      "\n",
      "See the caveats in the documentation: http://pandas.pydata.org/pandas-docs/stable/indexing.html#indexing-view-versus-copy\n",
      "  This is separate from the ipykernel package so we can avoid doing imports until\n"
     ]
    }
   ],
   "source": [
    "# Replace 'no' with 0 and 'yes' with 1 in 'Wk1-Lecture'  in Module 6\n",
    "\n",
    "m6og['Wk1-Lecture'] = m6og['Wk1-Lecture'].replace({'N': 0 , 'Y': 1})\n"
   ]
  },
  {
   "cell_type": "code",
   "execution_count": 41,
   "metadata": {},
   "outputs": [
    {
     "name": "stdout",
     "output_type": "stream",
     "text": [
      "0    1\n",
      "1    1\n",
      "2    1\n",
      "3    1\n",
      "4    1\n",
      "Name: Wk1-Lecture, dtype: int64\n"
     ]
    }
   ],
   "source": [
    "# Print the results to verify\n",
    "print(m6og['Wk1-Lecture'].head())\n"
   ]
  },
  {
   "cell_type": "code",
   "execution_count": 77,
   "metadata": {
    "collapsed": true
   },
   "outputs": [],
   "source": [
    "\n",
    "# Replace 'no' with 0 and 'yes' with 1 in 'Wl11-Lecture'  in Module 6\n",
    "\n",
    "m6og['wk11-CA2'] = m6og['wk11-CA2'].replace({'N': 0 , 'Y': 1})"
   ]
  },
  {
   "cell_type": "code",
   "execution_count": 78,
   "metadata": {},
   "outputs": [
    {
     "name": "stdout",
     "output_type": "stream",
     "text": [
      "0    1\n",
      "1    1\n",
      "2    0\n",
      "3    1\n",
      "4    1\n",
      "Name: wk11-CA2, dtype: int64\n"
     ]
    }
   ],
   "source": [
    "# Print the results to verify\n",
    "print(m6og['wk11-CA2'].head())"
   ]
  },
  {
   "cell_type": "code",
   "execution_count": 79,
   "metadata": {
    "collapsed": true
   },
   "outputs": [],
   "source": [
    "\n",
    "# Replace 'no' with 0 and 'yes' with 1 in 'Wl11-Lecture'  in Module 6\n",
    "\n",
    "m6og['wl11-Lecture'] = m6og['wl11-Lecture'].replace({'N': 0 , 'Y': 1})"
   ]
  },
  {
   "cell_type": "code",
   "execution_count": 80,
   "metadata": {},
   "outputs": [
    {
     "name": "stdout",
     "output_type": "stream",
     "text": [
      "0    0\n",
      "1    0\n",
      "2    0\n",
      "3    0\n",
      "4    1\n",
      "Name: wl11-Lecture, dtype: int64\n"
     ]
    }
   ],
   "source": [
    "# Print the results to verify\n",
    "print(m6og['wl11-Lecture'].head())"
   ]
  },
  {
   "cell_type": "code",
   "execution_count": 81,
   "metadata": {
    "collapsed": true
   },
   "outputs": [],
   "source": [
    "\n",
    "# Replace 'no' with 0 and 'yes' with 1 in 'Wk10-Lab'  in Module 6\n",
    "\n",
    "m6og['wk10-Lab'] = m6og['wk10-Lab'].replace({'N': 0 , 'Y': 1})"
   ]
  },
  {
   "cell_type": "code",
   "execution_count": 82,
   "metadata": {},
   "outputs": [
    {
     "name": "stdout",
     "output_type": "stream",
     "text": [
      "0    0\n",
      "1    1\n",
      "2    0\n",
      "3    1\n",
      "4    1\n",
      "Name: wk10-Lab, dtype: int64\n"
     ]
    }
   ],
   "source": [
    "# Print the results to verify\n",
    "print(m6og['wk10-Lab'].head())"
   ]
  },
  {
   "cell_type": "code",
   "execution_count": 83,
   "metadata": {
    "collapsed": true
   },
   "outputs": [],
   "source": [
    "\n",
    "# Replace 'no' with 0 and 'yes' with 1 in 'Wk9-Lab'  in Module 6\n",
    "\n",
    "m6og['Wk9-Lab'] = m6og['Wk9-Lab'].replace({'N': 0 , 'Y': 1})"
   ]
  },
  {
   "cell_type": "code",
   "execution_count": 84,
   "metadata": {},
   "outputs": [
    {
     "name": "stdout",
     "output_type": "stream",
     "text": [
      "0    0\n",
      "1    1\n",
      "2    0\n",
      "3    1\n",
      "4    1\n",
      "Name: Wk9-Lab, dtype: int64\n"
     ]
    }
   ],
   "source": [
    "# Print the results to verify\n",
    "print(m6og['Wk9-Lab'].head())"
   ]
  },
  {
   "cell_type": "code",
   "execution_count": 85,
   "metadata": {
    "collapsed": true
   },
   "outputs": [],
   "source": [
    "\n",
    "# Replace 'no' with 0 and 'yes' with 1 in 'Wk10-Lecture'  in Module 6\n",
    "\n",
    "m6og['wk10-Lecture'] = m6og['wk10-Lecture'].replace({'N': 0 , 'Y': 1})"
   ]
  },
  {
   "cell_type": "code",
   "execution_count": 86,
   "metadata": {},
   "outputs": [
    {
     "name": "stdout",
     "output_type": "stream",
     "text": [
      "0    0\n",
      "1    0\n",
      "2    0\n",
      "3    1\n",
      "4    0\n",
      "Name: wk10-Lecture, dtype: int64\n"
     ]
    }
   ],
   "source": [
    "# Print the results to verify\n",
    "print(m6og['wk10-Lecture'].head())"
   ]
  },
  {
   "cell_type": "code",
   "execution_count": 87,
   "metadata": {
    "collapsed": true
   },
   "outputs": [],
   "source": [
    "\n",
    "# Replace 'no' with 0 and 'yes' with 1 in 'Wk9-Lecture'  in Module 6\n",
    "\n",
    "m6og['Wk9-Lecture'] = m6og['Wk9-Lecture'].replace({'N': 0 , 'Y': 1})"
   ]
  },
  {
   "cell_type": "code",
   "execution_count": 88,
   "metadata": {},
   "outputs": [
    {
     "name": "stdout",
     "output_type": "stream",
     "text": [
      "0    1\n",
      "1    1\n",
      "2    0\n",
      "3    1\n",
      "4    1\n",
      "Name: Wk9-Lecture, dtype: int64\n"
     ]
    }
   ],
   "source": [
    "# Print the results to verify\n",
    "print(m6og['Wk9-Lecture'].head())"
   ]
  },
  {
   "cell_type": "code",
   "execution_count": 90,
   "metadata": {},
   "outputs": [],
   "source": [
    "\n",
    "# Replace 'no' with 0 and 'yes' with 1 in 'Wk1-Lecture'  in Module 6\n",
    "\n",
    "#m6og['Wk1-Lecture'] = m6og['Wk1-Lecture'].replace({'N': 0 , 'Y': 1})"
   ]
  },
  {
   "cell_type": "code",
   "execution_count": 91,
   "metadata": {},
   "outputs": [
    {
     "data": {
      "text/html": [
       "<div>\n",
       "<style>\n",
       "    .dataframe thead tr:only-child th {\n",
       "        text-align: right;\n",
       "    }\n",
       "\n",
       "    .dataframe thead th {\n",
       "        text-align: left;\n",
       "    }\n",
       "\n",
       "    .dataframe tbody tr th {\n",
       "        vertical-align: top;\n",
       "    }\n",
       "</style>\n",
       "<table border=\"1\" class=\"dataframe\">\n",
       "  <thead>\n",
       "    <tr style=\"text-align: right;\">\n",
       "      <th></th>\n",
       "      <th>ID number</th>\n",
       "      <th>First Name</th>\n",
       "      <th>Surname</th>\n",
       "      <th>Group</th>\n",
       "      <th>Total CA Mark / 100</th>\n",
       "      <th>Final Grade</th>\n",
       "      <th>CA1 Theory Test / 35</th>\n",
       "      <th>CA2 Lab Test / 45</th>\n",
       "      <th>Labs CA / 20</th>\n",
       "      <th>Wk1-Lecture</th>\n",
       "      <th>...</th>\n",
       "      <th>wk10-Lecture</th>\n",
       "      <th>wk10-Lab</th>\n",
       "      <th>wk10-CA / 2.5</th>\n",
       "      <th>wk10-CA / 3</th>\n",
       "      <th>wl11-Lecture</th>\n",
       "      <th>wk11-CA2</th>\n",
       "      <th>wk0-CA / 2.5</th>\n",
       "      <th>engaged</th>\n",
       "      <th>Engaged</th>\n",
       "      <th>Engaged Students Module 6</th>\n",
       "    </tr>\n",
       "  </thead>\n",
       "  <tbody>\n",
       "    <tr>\n",
       "      <th>0</th>\n",
       "      <td>Cg2xJ2Si</td>\n",
       "      <td>ag2x</td>\n",
       "      <td>bJ2S</td>\n",
       "      <td>1</td>\n",
       "      <td>42.306667</td>\n",
       "      <td>C</td>\n",
       "      <td>20.79</td>\n",
       "      <td>14.85</td>\n",
       "      <td>6.666667</td>\n",
       "      <td>1</td>\n",
       "      <td>...</td>\n",
       "      <td>0</td>\n",
       "      <td>0</td>\n",
       "      <td>0.0</td>\n",
       "      <td>0</td>\n",
       "      <td>0</td>\n",
       "      <td>1</td>\n",
       "      <td>0.000000</td>\n",
       "      <td>0</td>\n",
       "      <td>False</td>\n",
       "      <td>False</td>\n",
       "    </tr>\n",
       "    <tr>\n",
       "      <th>1</th>\n",
       "      <td>z2miDkoM</td>\n",
       "      <td>a2mi</td>\n",
       "      <td>bDko</td>\n",
       "      <td>2</td>\n",
       "      <td>84.453333</td>\n",
       "      <td>A</td>\n",
       "      <td>26.12</td>\n",
       "      <td>45.00</td>\n",
       "      <td>13.333333</td>\n",
       "      <td>1</td>\n",
       "      <td>...</td>\n",
       "      <td>0</td>\n",
       "      <td>1</td>\n",
       "      <td>2.5</td>\n",
       "      <td>3</td>\n",
       "      <td>0</td>\n",
       "      <td>1</td>\n",
       "      <td>1.666667</td>\n",
       "      <td>1</td>\n",
       "      <td>True</td>\n",
       "      <td>True</td>\n",
       "    </tr>\n",
       "  </tbody>\n",
       "</table>\n",
       "<p>2 rows × 50 columns</p>\n",
       "</div>"
      ],
      "text/plain": [
       "  ID number First Name Surname  Group  Total CA Mark / 100 Final Grade  \\\n",
       "0  Cg2xJ2Si       ag2x    bJ2S      1            42.306667           C   \n",
       "1  z2miDkoM       a2mi    bDko      2            84.453333           A   \n",
       "\n",
       "   CA1 Theory Test / 35  CA2 Lab Test / 45  Labs CA / 20  Wk1-Lecture  \\\n",
       "0                 20.79              14.85      6.666667            1   \n",
       "1                 26.12              45.00     13.333333            1   \n",
       "\n",
       "             ...            wk10-Lecture wk10-Lab wk10-CA / 2.5  wk10-CA / 3  \\\n",
       "0            ...                       0        0           0.0            0   \n",
       "1            ...                       0        1           2.5            3   \n",
       "\n",
       "   wl11-Lecture wk11-CA2 wk0-CA / 2.5  engaged  Engaged  \\\n",
       "0             0        1     0.000000        0    False   \n",
       "1             0        1     1.666667        1     True   \n",
       "\n",
       "  Engaged Students Module 6  \n",
       "0                     False  \n",
       "1                      True  \n",
       "\n",
       "[2 rows x 50 columns]"
      ]
     },
     "execution_count": 91,
     "metadata": {},
     "output_type": "execute_result"
    }
   ],
   "source": [
    "m6og.head(2)"
   ]
  },
  {
   "cell_type": "code",
   "execution_count": 43,
   "metadata": {
    "collapsed": true
   },
   "outputs": [],
   "source": [
    "m6og_subset = m6og"
   ]
  },
  {
   "cell_type": "code",
   "execution_count": 46,
   "metadata": {},
   "outputs": [
    {
     "data": {
      "text/plain": [
       "28"
      ]
     },
     "execution_count": 46,
     "metadata": {},
     "output_type": "execute_result"
    }
   ],
   "source": [
    "len(m6og_subset)"
   ]
  },
  {
   "cell_type": "code",
   "execution_count": 44,
   "metadata": {},
   "outputs": [],
   "source": [
    "m6og_subset_tidy = m6og_subset.rename(columns = {'First Name': 'First name',}, inplace = False)"
   ]
  },
  {
   "cell_type": "code",
   "execution_count": 45,
   "metadata": {},
   "outputs": [
    {
     "data": {
      "text/html": [
       "<div>\n",
       "<style>\n",
       "    .dataframe thead tr:only-child th {\n",
       "        text-align: right;\n",
       "    }\n",
       "\n",
       "    .dataframe thead th {\n",
       "        text-align: left;\n",
       "    }\n",
       "\n",
       "    .dataframe tbody tr th {\n",
       "        vertical-align: top;\n",
       "    }\n",
       "</style>\n",
       "<table border=\"1\" class=\"dataframe\">\n",
       "  <thead>\n",
       "    <tr style=\"text-align: right;\">\n",
       "      <th></th>\n",
       "      <th>ID number</th>\n",
       "      <th>First name</th>\n",
       "      <th>Surname</th>\n",
       "      <th>Group</th>\n",
       "      <th>Total CA Mark / 100</th>\n",
       "      <th>Final Grade</th>\n",
       "      <th>CA1 Theory Test / 35</th>\n",
       "      <th>CA2 Lab Test / 45</th>\n",
       "      <th>Labs CA / 20</th>\n",
       "      <th>Wk1-Lecture</th>\n",
       "      <th>...</th>\n",
       "      <th>Wk9-Lecture</th>\n",
       "      <th>Wk9-Lab</th>\n",
       "      <th>Wk9-CA / 3</th>\n",
       "      <th>wk10-Lecture</th>\n",
       "      <th>wk10-Lab</th>\n",
       "      <th>wk10-CA / 2.5</th>\n",
       "      <th>wk10-CA / 3</th>\n",
       "      <th>wl11-Lecture</th>\n",
       "      <th>wk11-CA2</th>\n",
       "      <th>wk0-CA / 2.5</th>\n",
       "    </tr>\n",
       "  </thead>\n",
       "  <tbody>\n",
       "    <tr>\n",
       "      <th>0</th>\n",
       "      <td>Cg2xJ2Si</td>\n",
       "      <td>ag2x</td>\n",
       "      <td>bJ2S</td>\n",
       "      <td>1</td>\n",
       "      <td>42.306667</td>\n",
       "      <td>C</td>\n",
       "      <td>20.79</td>\n",
       "      <td>14.85</td>\n",
       "      <td>6.666667</td>\n",
       "      <td>1</td>\n",
       "      <td>...</td>\n",
       "      <td>Y</td>\n",
       "      <td>N</td>\n",
       "      <td>0</td>\n",
       "      <td>N</td>\n",
       "      <td>N</td>\n",
       "      <td>0.0</td>\n",
       "      <td>0</td>\n",
       "      <td>N</td>\n",
       "      <td>Y</td>\n",
       "      <td>0.000000</td>\n",
       "    </tr>\n",
       "    <tr>\n",
       "      <th>1</th>\n",
       "      <td>z2miDkoM</td>\n",
       "      <td>a2mi</td>\n",
       "      <td>bDko</td>\n",
       "      <td>2</td>\n",
       "      <td>84.453333</td>\n",
       "      <td>A</td>\n",
       "      <td>26.12</td>\n",
       "      <td>45.00</td>\n",
       "      <td>13.333333</td>\n",
       "      <td>1</td>\n",
       "      <td>...</td>\n",
       "      <td>Y</td>\n",
       "      <td>Y</td>\n",
       "      <td>2</td>\n",
       "      <td>N</td>\n",
       "      <td>Y</td>\n",
       "      <td>2.5</td>\n",
       "      <td>3</td>\n",
       "      <td>N</td>\n",
       "      <td>Y</td>\n",
       "      <td>1.666667</td>\n",
       "    </tr>\n",
       "  </tbody>\n",
       "</table>\n",
       "<p>2 rows × 47 columns</p>\n",
       "</div>"
      ],
      "text/plain": [
       "  ID number First name Surname  Group  Total CA Mark / 100 Final Grade  \\\n",
       "0  Cg2xJ2Si       ag2x    bJ2S      1            42.306667           C   \n",
       "1  z2miDkoM       a2mi    bDko      2            84.453333           A   \n",
       "\n",
       "   CA1 Theory Test / 35  CA2 Lab Test / 45  Labs CA / 20  Wk1-Lecture  \\\n",
       "0                 20.79              14.85      6.666667            1   \n",
       "1                 26.12              45.00     13.333333            1   \n",
       "\n",
       "      ...      Wk9-Lecture Wk9-Lab Wk9-CA / 3  wk10-Lecture  wk10-Lab  \\\n",
       "0     ...                Y       N          0             N         N   \n",
       "1     ...                Y       Y          2             N         Y   \n",
       "\n",
       "  wk10-CA / 2.5 wk10-CA / 3  wl11-Lecture  wk11-CA2 wk0-CA / 2.5  \n",
       "0           0.0           0             N         Y     0.000000  \n",
       "1           2.5           3             N         Y     1.666667  \n",
       "\n",
       "[2 rows x 47 columns]"
      ]
     },
     "execution_count": 45,
     "metadata": {},
     "output_type": "execute_result"
    }
   ],
   "source": [
    "m6og_subset_tidy.head(2)"
   ]
  },
  {
   "cell_type": "code",
   "execution_count": 49,
   "metadata": {
    "collapsed": true
   },
   "outputs": [],
   "source": [
    "#Columns6 cleanup\n"
   ]
  },
  {
   "cell_type": "code",
   "execution_count": 50,
   "metadata": {},
   "outputs": [
    {
     "data": {
      "text/html": [
       "<div>\n",
       "<style>\n",
       "    .dataframe thead tr:only-child th {\n",
       "        text-align: right;\n",
       "    }\n",
       "\n",
       "    .dataframe thead th {\n",
       "        text-align: left;\n",
       "    }\n",
       "\n",
       "    .dataframe tbody tr th {\n",
       "        vertical-align: top;\n",
       "    }\n",
       "</style>\n",
       "<table border=\"1\" class=\"dataframe\">\n",
       "  <thead>\n",
       "    <tr style=\"text-align: right;\">\n",
       "      <th></th>\n",
       "      <th>First name</th>\n",
       "      <th>Surname</th>\n",
       "      <th>ID number</th>\n",
       "      <th>Email address</th>\n",
       "      <th>Quiz: CA1 - Theory Test (Real)</th>\n",
       "      <th>Last downloaded from this course</th>\n",
       "    </tr>\n",
       "  </thead>\n",
       "  <tbody>\n",
       "    <tr>\n",
       "      <th>0</th>\n",
       "      <td>a8NM</td>\n",
       "      <td>bDqB</td>\n",
       "      <td>U8NMDqBG</td>\n",
       "      <td>U8NMDqBG@student.itb.ie</td>\n",
       "      <td>0.0</td>\n",
       "      <td>1553878127</td>\n",
       "    </tr>\n",
       "    <tr>\n",
       "      <th>1</th>\n",
       "      <td>aSnR</td>\n",
       "      <td>bGk9</td>\n",
       "      <td>VSnRGk9O</td>\n",
       "      <td>VSnRGk9O@student.itb.ie</td>\n",
       "      <td>0.0</td>\n",
       "      <td>1553878127</td>\n",
       "    </tr>\n",
       "  </tbody>\n",
       "</table>\n",
       "</div>"
      ],
      "text/plain": [
       "  First name Surname ID number            Email address  \\\n",
       "0       a8NM    bDqB  U8NMDqBG  U8NMDqBG@student.itb.ie   \n",
       "1       aSnR    bGk9  VSnRGk9O  VSnRGk9O@student.itb.ie   \n",
       "\n",
       "   Quiz: CA1 - Theory Test (Real)  Last downloaded from this course  \n",
       "0                             0.0                        1553878127  \n",
       "1                             0.0                        1553878127  "
      ]
     },
     "execution_count": 50,
     "metadata": {},
     "output_type": "execute_result"
    }
   ],
   "source": [
    "module6mg.head(2)"
   ]
  },
  {
   "cell_type": "code",
   "execution_count": 51,
   "metadata": {
    "collapsed": true
   },
   "outputs": [],
   "source": [
    "m6mg = module6mg[['First name', 'Surname', 'ID number', 'Quiz: CA1 - Theory Test (Real)']]"
   ]
  },
  {
   "cell_type": "code",
   "execution_count": 52,
   "metadata": {
    "collapsed": true
   },
   "outputs": [],
   "source": [
    "m6mg_subset = m6mg"
   ]
  },
  {
   "cell_type": "code",
   "execution_count": 53,
   "metadata": {
    "collapsed": true
   },
   "outputs": [],
   "source": [
    "m6ml = module6ml[[ 'Date','Time', 'User full name','Event context','Component','Event name',]]\n"
   ]
  },
  {
   "cell_type": "code",
   "execution_count": 54,
   "metadata": {},
   "outputs": [
    {
     "data": {
      "text/html": [
       "<div>\n",
       "<style>\n",
       "    .dataframe thead tr:only-child th {\n",
       "        text-align: right;\n",
       "    }\n",
       "\n",
       "    .dataframe thead th {\n",
       "        text-align: left;\n",
       "    }\n",
       "\n",
       "    .dataframe tbody tr th {\n",
       "        vertical-align: top;\n",
       "    }\n",
       "</style>\n",
       "<table border=\"1\" class=\"dataframe\">\n",
       "  <thead>\n",
       "    <tr style=\"text-align: right;\">\n",
       "      <th></th>\n",
       "      <th>Date</th>\n",
       "      <th>Time</th>\n",
       "      <th>User full name</th>\n",
       "      <th>Event context</th>\n",
       "      <th>Component</th>\n",
       "      <th>Event name</th>\n",
       "    </tr>\n",
       "  </thead>\n",
       "  <tbody>\n",
       "    <tr>\n",
       "      <th>41</th>\n",
       "      <td>2019-01-21</td>\n",
       "      <td>22:03</td>\n",
       "      <td>afDK bEXb</td>\n",
       "      <td>File: Lecture 11 - b a Small N</td>\n",
       "      <td>File</td>\n",
       "      <td>Course module viewed</td>\n",
       "    </tr>\n",
       "    <tr>\n",
       "      <th>42</th>\n",
       "      <td>2019-01-21</td>\n",
       "      <td>22:03</td>\n",
       "      <td>afDK bEXb</td>\n",
       "      <td>File: Lecture 10 - t and a l</td>\n",
       "      <td>File</td>\n",
       "      <td>Course module viewed</td>\n",
       "    </tr>\n",
       "  </tbody>\n",
       "</table>\n",
       "</div>"
      ],
      "text/plain": [
       "         Date    Time User full name                   Event context  \\\n",
       "41 2019-01-21   22:03      afDK bEXb  File: Lecture 11 - b a Small N   \n",
       "42 2019-01-21   22:03      afDK bEXb    File: Lecture 10 - t and a l   \n",
       "\n",
       "   Component            Event name  \n",
       "41      File  Course module viewed  \n",
       "42      File  Course module viewed  "
      ]
     },
     "execution_count": 54,
     "metadata": {},
     "output_type": "execute_result"
    }
   ],
   "source": [
    "m6ml.head(2)"
   ]
  },
  {
   "cell_type": "code",
   "execution_count": 55,
   "metadata": {},
   "outputs": [
    {
     "data": {
      "text/html": [
       "<div>\n",
       "<style>\n",
       "    .dataframe thead tr:only-child th {\n",
       "        text-align: right;\n",
       "    }\n",
       "\n",
       "    .dataframe thead th {\n",
       "        text-align: left;\n",
       "    }\n",
       "\n",
       "    .dataframe tbody tr th {\n",
       "        vertical-align: top;\n",
       "    }\n",
       "</style>\n",
       "<table border=\"1\" class=\"dataframe\">\n",
       "  <thead>\n",
       "    <tr style=\"text-align: right;\">\n",
       "      <th></th>\n",
       "      <th>ID number</th>\n",
       "      <th>First Name</th>\n",
       "      <th>Surname</th>\n",
       "      <th>Group</th>\n",
       "      <th>Total CA Mark / 100</th>\n",
       "      <th>Final Grade</th>\n",
       "      <th>CA1 Theory Test / 35</th>\n",
       "      <th>CA2 Lab Test / 45</th>\n",
       "      <th>Labs CA / 20</th>\n",
       "      <th>Wk1-Lecture</th>\n",
       "      <th>...</th>\n",
       "      <th>Wk9-Lecture</th>\n",
       "      <th>Wk9-Lab</th>\n",
       "      <th>Wk9-CA / 3</th>\n",
       "      <th>wk10-Lecture</th>\n",
       "      <th>wk10-Lab</th>\n",
       "      <th>wk10-CA / 2.5</th>\n",
       "      <th>wk10-CA / 3</th>\n",
       "      <th>wl11-Lecture</th>\n",
       "      <th>wk11-CA2</th>\n",
       "      <th>wk0-CA / 2.5</th>\n",
       "    </tr>\n",
       "  </thead>\n",
       "  <tbody>\n",
       "    <tr>\n",
       "      <th>0</th>\n",
       "      <td>Cg2xJ2Si</td>\n",
       "      <td>ag2x</td>\n",
       "      <td>bJ2S</td>\n",
       "      <td>1</td>\n",
       "      <td>42.306667</td>\n",
       "      <td>C</td>\n",
       "      <td>20.79</td>\n",
       "      <td>14.85</td>\n",
       "      <td>6.666667</td>\n",
       "      <td>1</td>\n",
       "      <td>...</td>\n",
       "      <td>Y</td>\n",
       "      <td>N</td>\n",
       "      <td>0</td>\n",
       "      <td>N</td>\n",
       "      <td>N</td>\n",
       "      <td>0.0</td>\n",
       "      <td>0</td>\n",
       "      <td>N</td>\n",
       "      <td>Y</td>\n",
       "      <td>0.000000</td>\n",
       "    </tr>\n",
       "    <tr>\n",
       "      <th>1</th>\n",
       "      <td>z2miDkoM</td>\n",
       "      <td>a2mi</td>\n",
       "      <td>bDko</td>\n",
       "      <td>2</td>\n",
       "      <td>84.453333</td>\n",
       "      <td>A</td>\n",
       "      <td>26.12</td>\n",
       "      <td>45.00</td>\n",
       "      <td>13.333333</td>\n",
       "      <td>1</td>\n",
       "      <td>...</td>\n",
       "      <td>Y</td>\n",
       "      <td>Y</td>\n",
       "      <td>2</td>\n",
       "      <td>N</td>\n",
       "      <td>Y</td>\n",
       "      <td>2.5</td>\n",
       "      <td>3</td>\n",
       "      <td>N</td>\n",
       "      <td>Y</td>\n",
       "      <td>1.666667</td>\n",
       "    </tr>\n",
       "  </tbody>\n",
       "</table>\n",
       "<p>2 rows × 47 columns</p>\n",
       "</div>"
      ],
      "text/plain": [
       "  ID number First Name Surname  Group  Total CA Mark / 100 Final Grade  \\\n",
       "0  Cg2xJ2Si       ag2x    bJ2S      1            42.306667           C   \n",
       "1  z2miDkoM       a2mi    bDko      2            84.453333           A   \n",
       "\n",
       "   CA1 Theory Test / 35  CA2 Lab Test / 45  Labs CA / 20  Wk1-Lecture  \\\n",
       "0                 20.79              14.85      6.666667            1   \n",
       "1                 26.12              45.00     13.333333            1   \n",
       "\n",
       "      ...      Wk9-Lecture Wk9-Lab Wk9-CA / 3  wk10-Lecture  wk10-Lab  \\\n",
       "0     ...                Y       N          0             N         N   \n",
       "1     ...                Y       Y          2             N         Y   \n",
       "\n",
       "  wk10-CA / 2.5 wk10-CA / 3  wl11-Lecture  wk11-CA2 wk0-CA / 2.5  \n",
       "0           0.0           0             N         Y     0.000000  \n",
       "1           2.5           3             N         Y     1.666667  \n",
       "\n",
       "[2 rows x 47 columns]"
      ]
     },
     "execution_count": 55,
     "metadata": {},
     "output_type": "execute_result"
    }
   ],
   "source": [
    "m6og.head(2)"
   ]
  },
  {
   "cell_type": "code",
   "execution_count": 56,
   "metadata": {
    "collapsed": true
   },
   "outputs": [],
   "source": [
    "#Engaged = > 55\n",
    "engaged6 = m6og['Total CA Mark / 100'] > 55\n"
   ]
  },
  {
   "cell_type": "code",
   "execution_count": 57,
   "metadata": {
    "collapsed": true
   },
   "outputs": [],
   "source": [
    "# Create a new column called df.engaged where the value is yes\n",
    "# if df.age is greater than 55 and no if not\n",
    "m6og['engaged'] = np.where(m6og['Total CA Mark / 100']>=55, '1', '0')\n"
   ]
  },
  {
   "cell_type": "code",
   "execution_count": 58,
   "metadata": {
    "collapsed": true
   },
   "outputs": [],
   "source": [
    "m6og['engaged'] = pd.to_numeric(m6og['engaged'])\n"
   ]
  },
  {
   "cell_type": "code",
   "execution_count": 59,
   "metadata": {},
   "outputs": [
    {
     "name": "stdout",
     "output_type": "stream",
     "text": [
      "1    15\n",
      "0    13\n",
      "Name: engaged, dtype: int64\n"
     ]
    }
   ],
   "source": [
    "print(m6og['engaged'].value_counts(dropna=False))"
   ]
  },
  {
   "cell_type": "code",
   "execution_count": 60,
   "metadata": {},
   "outputs": [
    {
     "data": {
      "text/plain": [
       "ID number                object\n",
       "First Name               object\n",
       "Surname                  object\n",
       "Group                     int64\n",
       "Total CA Mark / 100     float64\n",
       "Final Grade              object\n",
       "CA1 Theory Test / 35    float64\n",
       "CA2 Lab Test / 45       float64\n",
       "Labs CA / 20            float64\n",
       "Wk1-Lecture               int64\n",
       "Wk1-Lab                  object\n",
       "Wk2-Lecture              object\n",
       "Wk2-Lab                  object\n",
       "Wk2-CA / 3                int64\n",
       "wk2-CA / 2.5            float64\n",
       "Wk3-Lecture              object\n",
       "Wk3-Lab                  object\n",
       "wk3-CA / 3                int64\n",
       "wk3-Ca/2.5              float64\n",
       "Wk4-Lecture              object\n",
       "Wk4-Lab                  object\n",
       "wk4-CA/2.5              float64\n",
       "wk4-ca/3                  int64\n",
       "Wk5-Lecture              object\n",
       "Wk5-Lab                  object\n",
       "wk5-Ca/2.5              float64\n",
       "wk5-CA / 3                int64\n",
       "Wk6-Lecture              object\n",
       "Wk6-Lab                  object\n",
       "wk6-CA/2.5              float64\n",
       "wk6-CA / 3                int64\n",
       "wk7-Lecture              object\n",
       "wk7-Lab                  object\n",
       "wk7-CA / 3                int64\n",
       "wk7-CA / 2.5            float64\n",
       "Wk8-Lecture              object\n",
       "Wk8-CA1                  object\n",
       "Wk9-Lecture              object\n",
       "Wk9-Lab                  object\n",
       "Wk9-CA / 3                int64\n",
       "wk10-Lecture             object\n",
       "wk10-Lab                 object\n",
       "wk10-CA / 2.5           float64\n",
       "wk10-CA / 3               int64\n",
       "wl11-Lecture             object\n",
       "wk11-CA2                 object\n",
       "wk0-CA / 2.5            float64\n",
       "engaged                   int64\n",
       "dtype: object"
      ]
     },
     "execution_count": 60,
     "metadata": {},
     "output_type": "execute_result"
    }
   ],
   "source": [
    "m6og.dtypes"
   ]
  },
  {
   "cell_type": "code",
   "execution_count": 61,
   "metadata": {},
   "outputs": [
    {
     "data": {
      "text/html": [
       "<div>\n",
       "<style>\n",
       "    .dataframe thead tr:only-child th {\n",
       "        text-align: right;\n",
       "    }\n",
       "\n",
       "    .dataframe thead th {\n",
       "        text-align: left;\n",
       "    }\n",
       "\n",
       "    .dataframe tbody tr th {\n",
       "        vertical-align: top;\n",
       "    }\n",
       "</style>\n",
       "<table border=\"1\" class=\"dataframe\">\n",
       "  <thead>\n",
       "    <tr style=\"text-align: right;\">\n",
       "      <th></th>\n",
       "      <th>ID number</th>\n",
       "      <th>First Name</th>\n",
       "      <th>Surname</th>\n",
       "      <th>Group</th>\n",
       "      <th>Total CA Mark / 100</th>\n",
       "      <th>Final Grade</th>\n",
       "      <th>CA1 Theory Test / 35</th>\n",
       "      <th>CA2 Lab Test / 45</th>\n",
       "      <th>Labs CA / 20</th>\n",
       "      <th>Wk1-Lecture</th>\n",
       "      <th>...</th>\n",
       "      <th>Wk9-Lab</th>\n",
       "      <th>Wk9-CA / 3</th>\n",
       "      <th>wk10-Lecture</th>\n",
       "      <th>wk10-Lab</th>\n",
       "      <th>wk10-CA / 2.5</th>\n",
       "      <th>wk10-CA / 3</th>\n",
       "      <th>wl11-Lecture</th>\n",
       "      <th>wk11-CA2</th>\n",
       "      <th>wk0-CA / 2.5</th>\n",
       "      <th>engaged</th>\n",
       "    </tr>\n",
       "  </thead>\n",
       "  <tbody>\n",
       "    <tr>\n",
       "      <th>0</th>\n",
       "      <td>Cg2xJ2Si</td>\n",
       "      <td>ag2x</td>\n",
       "      <td>bJ2S</td>\n",
       "      <td>1</td>\n",
       "      <td>42.306667</td>\n",
       "      <td>C</td>\n",
       "      <td>20.79</td>\n",
       "      <td>14.85</td>\n",
       "      <td>6.666667</td>\n",
       "      <td>1</td>\n",
       "      <td>...</td>\n",
       "      <td>N</td>\n",
       "      <td>0</td>\n",
       "      <td>N</td>\n",
       "      <td>N</td>\n",
       "      <td>0.0</td>\n",
       "      <td>0</td>\n",
       "      <td>N</td>\n",
       "      <td>Y</td>\n",
       "      <td>0.000000</td>\n",
       "      <td>0</td>\n",
       "    </tr>\n",
       "    <tr>\n",
       "      <th>1</th>\n",
       "      <td>z2miDkoM</td>\n",
       "      <td>a2mi</td>\n",
       "      <td>bDko</td>\n",
       "      <td>2</td>\n",
       "      <td>84.453333</td>\n",
       "      <td>A</td>\n",
       "      <td>26.12</td>\n",
       "      <td>45.00</td>\n",
       "      <td>13.333333</td>\n",
       "      <td>1</td>\n",
       "      <td>...</td>\n",
       "      <td>Y</td>\n",
       "      <td>2</td>\n",
       "      <td>N</td>\n",
       "      <td>Y</td>\n",
       "      <td>2.5</td>\n",
       "      <td>3</td>\n",
       "      <td>N</td>\n",
       "      <td>Y</td>\n",
       "      <td>1.666667</td>\n",
       "      <td>1</td>\n",
       "    </tr>\n",
       "  </tbody>\n",
       "</table>\n",
       "<p>2 rows × 48 columns</p>\n",
       "</div>"
      ],
      "text/plain": [
       "  ID number First Name Surname  Group  Total CA Mark / 100 Final Grade  \\\n",
       "0  Cg2xJ2Si       ag2x    bJ2S      1            42.306667           C   \n",
       "1  z2miDkoM       a2mi    bDko      2            84.453333           A   \n",
       "\n",
       "   CA1 Theory Test / 35  CA2 Lab Test / 45  Labs CA / 20  Wk1-Lecture   ...    \\\n",
       "0                 20.79              14.85      6.666667            1   ...     \n",
       "1                 26.12              45.00     13.333333            1   ...     \n",
       "\n",
       "  Wk9-Lab Wk9-CA / 3 wk10-Lecture  wk10-Lab  wk10-CA / 2.5 wk10-CA / 3  \\\n",
       "0       N          0            N         N            0.0           0   \n",
       "1       Y          2            N         Y            2.5           3   \n",
       "\n",
       "  wl11-Lecture  wk11-CA2  wk0-CA / 2.5 engaged  \n",
       "0            N         Y      0.000000       0  \n",
       "1            N         Y      1.666667       1  \n",
       "\n",
       "[2 rows x 48 columns]"
      ]
     },
     "execution_count": 61,
     "metadata": {},
     "output_type": "execute_result"
    }
   ],
   "source": [
    "m6og.head(2)"
   ]
  },
  {
   "cell_type": "code",
   "execution_count": 63,
   "metadata": {
    "collapsed": true
   },
   "outputs": [],
   "source": [
    "engagedst6 = m6og['Total CA Mark / 100'] > 55\n"
   ]
  },
  {
   "cell_type": "code",
   "execution_count": 66,
   "metadata": {
    "collapsed": true
   },
   "outputs": [],
   "source": [
    "# Using 'passed6' as the column name \n",
    "# and equating it to the list \n",
    "m6og['Engaged Students Module 6'] = engagedst6 \n"
   ]
  },
  {
   "cell_type": "code",
   "execution_count": 67,
   "metadata": {},
   "outputs": [
    {
     "data": {
      "text/plain": [
       "<matplotlib.axes._subplots.AxesSubplot at 0x2128b048860>"
      ]
     },
     "execution_count": 67,
     "metadata": {},
     "output_type": "execute_result"
    },
    {
     "data": {
      "image/png": "[encoded data removed]",
      "text/plain": [
       "<matplotlib.figure.Figure at 0x2128ad8ce80>"
      ]
     },
     "metadata": {},
     "output_type": "display_data"
    }
   ],
   "source": [
    "sns.boxplot(x = 'Engaged Students Module 6', y = 'Total CA Mark / 100', data = m6og)"
   ]
  },
  {
   "cell_type": "code",
   "execution_count": 70,
   "metadata": {},
   "outputs": [
    {
     "name": "stdout",
     "output_type": "stream",
     "text": [
      "                              Group  Total CA Mark / 100  \\\n",
      "Engaged Students Module 6                                  \n",
      "False                      1.384615            25.292308   \n",
      "True                       1.600000            70.693778   \n",
      "\n",
      "                           CA1 Theory Test / 35  CA2 Lab Test / 45  \\\n",
      "Engaged Students Module 6                                            \n",
      "False                                 11.403846               5.85   \n",
      "True                                  21.199333              33.45   \n",
      "\n",
      "                           Labs CA / 20  Wk1-Lecture  Wk2-CA / 3  \\\n",
      "Engaged Students Module 6                                          \n",
      "False                          7.884615     0.846154    1.461538   \n",
      "True                          15.944444     1.000000    2.666667   \n",
      "\n",
      "                           wk2-CA / 2.5  wk3-CA / 3  wk3-Ca/2.5   ...     \\\n",
      "Engaged Students Module 6                                         ...      \n",
      "False                          1.217949    2.076923    1.730769   ...      \n",
      "True                           2.222222    2.533333    2.111111   ...      \n",
      "\n",
      "                           wk6-CA/2.5  wk6-CA / 3  wk7-CA / 3  wk7-CA / 2.5  \\\n",
      "Engaged Students Module 6                                                     \n",
      "False                        0.897436    1.076923    1.230769      1.025641   \n",
      "True                         1.944444    2.333333    2.133333      1.777778   \n",
      "\n",
      "                           Wk9-CA / 3  wk10-CA / 2.5  wk10-CA / 3  \\\n",
      "Engaged Students Module 6                                           \n",
      "False                        0.230769       0.512821     0.615385   \n",
      "True                         2.000000       2.111111     2.533333   \n",
      "\n",
      "                           wk0-CA / 2.5  engaged  Engaged  \n",
      "Engaged Students Module 6                                  \n",
      "False                          0.192308      0.0    False  \n",
      "True                           1.666667      1.0     True  \n",
      "\n",
      "[2 rows x 24 columns]\n"
     ]
    }
   ],
   "source": [
    "# Group Module Own Grades  by 'Pass' and compute the mean\n",
    "print(m6og.groupby(['Engaged Students Module 6']).mean())\n"
   ]
  },
  {
   "cell_type": "code",
   "execution_count": 71,
   "metadata": {},
   "outputs": [
    {
     "data": {
      "text/html": [
       "<div>\n",
       "<style>\n",
       "    .dataframe thead tr:only-child th {\n",
       "        text-align: right;\n",
       "    }\n",
       "\n",
       "    .dataframe thead th {\n",
       "        text-align: left;\n",
       "    }\n",
       "\n",
       "    .dataframe tbody tr th {\n",
       "        vertical-align: top;\n",
       "    }\n",
       "</style>\n",
       "<table border=\"1\" class=\"dataframe\">\n",
       "  <thead>\n",
       "    <tr style=\"text-align: right;\">\n",
       "      <th></th>\n",
       "      <th>Date</th>\n",
       "      <th>Time</th>\n",
       "      <th>User full name</th>\n",
       "      <th>Event context</th>\n",
       "      <th>Component</th>\n",
       "      <th>Event name</th>\n",
       "    </tr>\n",
       "  </thead>\n",
       "  <tbody>\n",
       "    <tr>\n",
       "      <th>41</th>\n",
       "      <td>2019-01-21</td>\n",
       "      <td>22:03</td>\n",
       "      <td>afDK bEXb</td>\n",
       "      <td>File: Lecture 11 - b a Small N</td>\n",
       "      <td>File</td>\n",
       "      <td>Course module viewed</td>\n",
       "    </tr>\n",
       "    <tr>\n",
       "      <th>42</th>\n",
       "      <td>2019-01-21</td>\n",
       "      <td>22:03</td>\n",
       "      <td>afDK bEXb</td>\n",
       "      <td>File: Lecture 10 - t and a l</td>\n",
       "      <td>File</td>\n",
       "      <td>Course module viewed</td>\n",
       "    </tr>\n",
       "  </tbody>\n",
       "</table>\n",
       "</div>"
      ],
      "text/plain": [
       "         Date    Time User full name                   Event context  \\\n",
       "41 2019-01-21   22:03      afDK bEXb  File: Lecture 11 - b a Small N   \n",
       "42 2019-01-21   22:03      afDK bEXb    File: Lecture 10 - t and a l   \n",
       "\n",
       "   Component            Event name  \n",
       "41      File  Course module viewed  \n",
       "42      File  Course module viewed  "
      ]
     },
     "execution_count": 71,
     "metadata": {},
     "output_type": "execute_result"
    }
   ],
   "source": [
    "m6ml.head(2)"
   ]
  },
  {
   "cell_type": "code",
   "execution_count": 72,
   "metadata": {},
   "outputs": [
    {
     "name": "stdout",
     "output_type": "stream",
     "text": [
      "<class 'pandas.core.frame.DataFrame'>\n",
      "Int64Index: 4408 entries, 41 to 5504\n",
      "Data columns (total 8 columns):\n",
      "Time              4408 non-null object\n",
      "User full name    4408 non-null object\n",
      "Event context     4408 non-null object\n",
      "Component         4408 non-null object\n",
      "Event name        4408 non-null object\n",
      "Date              4408 non-null datetime64[ns]\n",
      "First name        4408 non-null object\n",
      "Last name         4408 non-null object\n",
      "dtypes: datetime64[ns](1), object(7)\n",
      "memory usage: 309.9+ KB\n"
     ]
    }
   ],
   "source": [
    "module6ml.info()"
   ]
  },
  {
   "cell_type": "code",
   "execution_count": 73,
   "metadata": {},
   "outputs": [
    {
     "name": "stdout",
     "output_type": "stream",
     "text": [
      "<class 'pandas.core.frame.DataFrame'>\n",
      "RangeIndex: 28 entries, 0 to 27\n",
      "Data columns (total 6 columns):\n",
      "First name                          28 non-null object\n",
      "Surname                             28 non-null object\n",
      "ID number                           28 non-null object\n",
      "Email address                       28 non-null object\n",
      "Quiz: CA1 - Theory Test (Real)      28 non-null float64\n",
      "Last downloaded from this course    28 non-null int64\n",
      "dtypes: float64(1), int64(1), object(4)\n",
      "memory usage: 1.4+ KB\n"
     ]
    }
   ],
   "source": [
    "module6mg.info()"
   ]
  },
  {
   "cell_type": "code",
   "execution_count": 74,
   "metadata": {},
   "outputs": [
    {
     "data": {
      "text/plain": [
       "<matplotlib.axes._subplots.AxesSubplot at 0x2128b8f85f8>"
      ]
     },
     "execution_count": 74,
     "metadata": {},
     "output_type": "execute_result"
    },
    {
     "data": {
      "image/png": "[encoded data removed]",
      "text/plain": [
       "<matplotlib.figure.Figure at 0x2128b8ee390>"
      ]
     },
     "metadata": {},
     "output_type": "display_data"
    }
   ],
   "source": [
    "m6mg_subset['Quiz: CA1 - Theory Test (Real)'].plot('hist')"
   ]
  },
  {
   "cell_type": "code",
   "execution_count": 75,
   "metadata": {},
   "outputs": [
    {
     "data": {
      "text/plain": [
       "<matplotlib.axes._subplots.AxesSubplot at 0x2128afa3630>"
      ]
     },
     "execution_count": 75,
     "metadata": {},
     "output_type": "execute_result"
    },
    {
     "data": {
      "image/png": "[encoded data removed]",
      "text/plain": [
       "<matplotlib.figure.Figure at 0x2128b8ee780>"
      ]
     },
     "metadata": {},
     "output_type": "display_data"
    }
   ],
   "source": [
    "m6og['Total CA Mark / 100'].plot('hist')"
   ]
  },
  {
   "cell_type": "code",
   "execution_count": 76,
   "metadata": {},
   "outputs": [
    {
     "data": {
      "text/plain": [
       "<matplotlib.axes._subplots.AxesSubplot at 0x2128ba81e80>"
      ]
     },
     "execution_count": 76,
     "metadata": {},
     "output_type": "execute_result"
    },
    {
     "data": {
      "image/png": "[encoded data removed]",
      "text/plain": [
       "<matplotlib.figure.Figure at 0x2128b986f98>"
      ]
     },
     "metadata": {},
     "output_type": "display_data"
    }
   ],
   "source": [
    "sns.distplot(m6mg['Quiz: CA1 - Theory Test (Real)'])"
   ]
  }
 ],
 "metadata": {
  "kernelspec": {
   "display_name": "Python 3",
   "language": "python",
   "name": "python3"
  },
  "language_info": {
   "codemirror_mode": {
    "name": "ipython",
    "version": 3
   },
   "file_extension": ".py",
   "mimetype": "text/x-python",
   "name": "python",
   "nbconvert_exporter": "python",
   "pygments_lexer": "ipython3",
   "version": "3.6.2"
  }
 },
 "nbformat": 4,
 "nbformat_minor": 2
}
