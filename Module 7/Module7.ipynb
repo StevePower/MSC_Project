{
 "cells": [
  {
   "cell_type": "code",
   "execution_count": 1,
   "metadata": {
    "collapsed": true
   },
   "outputs": [],
   "source": [
    "\n",
    "# Importing libraries\n",
    "import pandas as pd\n",
    "import matplotlib.pyplot as plt\n",
    "from matplotlib import pyplot as plt\n",
    "#import missingno as msno\n",
    "from scipy import stats\n",
    "\n",
    "import numpy as np\n",
    "import datetime\n",
    "import seaborn as sns\n",
    "from sklearn.svm import SVC\n",
    "from sklearn.preprocessing import LabelEncoder\n",
    "from sklearn.cluster import KMeans\n",
    "from sklearn.feature_selection import SelectKBest\n",
    "from sklearn.feature_selection import chi2\n",
    "# Import DecisionTreeClassifier\n",
    "from sklearn.tree import DecisionTreeClassifier\n",
    "# Import RandomForestClassifier\n",
    "from sklearn.ensemble import RandomForestClassifier\n",
    "\n",
    "# Import precision_score\n",
    "from sklearn.metrics import precision_score\n",
    "\n",
    "from sklearn import metrics #Import scikit-learn metrics module for accuracy calculation\n",
    "\n",
    "\n",
    "# Import necessary modules\n",
    "from sklearn.linear_model import LinearRegression\n",
    "from sklearn.model_selection import cross_val_score\n",
    "\n",
    "\n",
    "\n",
    "# Import recall_score\n",
    "from sklearn.metrics import recall_score\n",
    "\n",
    "#from sklearn.metrics import roc_auc_curve\n",
    "# Import roc_curve\n",
    "from sklearn.metrics import roc_curve\n",
    "\n",
    "\n",
    "\n",
    "from sklearn.svm import SVC\n",
    "\n",
    "# Import confusion matrix\n",
    "from sklearn.metrics import confusion_matrix\n",
    "\n",
    "from sklearn.tree import export_graphviz\n",
    "from sklearn.externals.six import StringIO  \n",
    "from IPython.display import Image  \n",
    "#import pydotplus\n",
    "\n",
    "\n",
    "\n",
    "# Import train_test_split\n",
    "from sklearn.model_selection import train_test_split\n",
    "\n",
    "# Import LogisticRegression\n",
    "from sklearn.linear_model import LogisticRegression\n",
    "\n",
    "\n",
    "from sklearn import metrics #Import scikit-learn metrics module for accuracy calculation\n",
    "\n",
    "\n",
    "\n",
    "import scipy.stats as st\n",
    "#import pandas_profiling\n",
    "import requests \n",
    "%matplotlib inline\n"
   ]
  },
  {
   "cell_type": "code",
   "execution_count": 2,
   "metadata": {
    "collapsed": true
   },
   "outputs": [],
   "source": [
    "# Semester Start Date:\n",
    "StartDate = '2018-09-17' \n",
    "StartDate = pd.to_datetime(StartDate)\n"
   ]
  },
  {
   "cell_type": "code",
   "execution_count": 3,
   "metadata": {
    "collapsed": true
   },
   "outputs": [],
   "source": [
    "# Semester End Date:\n",
    "EndDate = '2019-01-21' \n",
    "EndDate = pd.to_datetime(EndDate)"
   ]
  },
  {
   "cell_type": "code",
   "execution_count": 4,
   "metadata": {
    "collapsed": true
   },
   "outputs": [],
   "source": [
    "TriOne = '2018-10-22'\n",
    "TriOne = pd.to_datetime(TriOne)"
   ]
  },
  {
   "cell_type": "code",
   "execution_count": 5,
   "metadata": {
    "collapsed": true
   },
   "outputs": [],
   "source": [
    "TriTwo = '2018-11-26'\n",
    "TriTwo = pd.to_datetime(TriTwo)"
   ]
  },
  {
   "cell_type": "code",
   "execution_count": 7,
   "metadata": {
    "collapsed": true
   },
   "outputs": [],
   "source": [
    "#BEGIN7\n",
    "#Will use own grades and moodle logs to merge\n",
    "# Module 7 has weeks and 14 students grades.14 passed the module with 0 failures.\n",
    "#Module 7 is a 2nd year group and would be considered more mature and settled.\n",
    "#The class sizes are very small (<15).Module 7 has two continuous assessments.\n",
    "#\n",
    "#"
   ]
  },
  {
   "cell_type": "code",
   "execution_count": 6,
   "metadata": {
    "collapsed": true
   },
   "outputs": [],
   "source": [
    "# Begin7 Data Preperation Module 7\n",
    "# 3 Files in Module 7\n",
    "# Module 7\n",
    "\n",
    "module7ml = pd.read_csv('Module7-MoodleLogs.csv')"
   ]
  },
  {
   "cell_type": "code",
   "execution_count": 8,
   "metadata": {
    "collapsed": true
   },
   "outputs": [],
   "source": [
    "module7mg = pd.read_csv('Module7-MoodleGrades.csv')"
   ]
  },
  {
   "cell_type": "code",
   "execution_count": 9,
   "metadata": {
    "collapsed": true
   },
   "outputs": [],
   "source": [
    "module7og = pd.read_csv('Module7-OwnGrades.csv')"
   ]
  },
  {
   "cell_type": "code",
   "execution_count": 10,
   "metadata": {},
   "outputs": [
    {
     "name": "stdout",
     "output_type": "stream",
     "text": [
      "['First name', 'Surname', 'ID number', 'Email address', 'CA2 - Practical Exam (Real)', 'Quiz: CA3 - Theory Test (Real)', 'Last downloaded from this course']\n"
     ]
    }
   ],
   "source": [
    "print (module7mg.columns.tolist())\n"
   ]
  },
  {
   "cell_type": "code",
   "execution_count": 11,
   "metadata": {},
   "outputs": [
    {
     "name": "stdout",
     "output_type": "stream",
     "text": [
      "First name                          14\n",
      "Surname                             14\n",
      "ID number                           14\n",
      "Email address                       14\n",
      "CA2 - Practical Exam (Real)         14\n",
      "Quiz: CA3 - Theory Test (Real)      14\n",
      "Last downloaded from this course     1\n",
      "dtype: int64\n"
     ]
    }
   ],
   "source": [
    "# Print the number of unique values in each modul7mg column\n",
    "print(module7mg.nunique())"
   ]
  },
  {
   "cell_type": "code",
   "execution_count": 12,
   "metadata": {},
   "outputs": [
    {
     "name": "stdout",
     "output_type": "stream",
     "text": [
      "['ID number', 'First Name', 'Surname', 'Total CA Mark / 100', 'Final Grade', 'CA1 Report / 20', 'CA2 Lab Test / 35', 'CA3 Theory Test / 35', 'Labs CA / 10', 'Wk1-Lab', 'Wk1-Lecture', 'Wk2-CA / 1', 'Wk2-Lab', 'Wk2-Lecture', 'Wk3-CA / 1', 'Wk3-Lab', 'Wk3-Lecture', 'Wk4-CA / 1', 'Wk4-Lab', 'Wk4-Lecture', 'Wk5-CA / 1.5', 'Wk5-Lab', 'Wk5-Lecture', 'Wk6-CA / 1', 'Wk6-Lab', 'Wk6-Lecture', 'Wk7-CA / 1', 'Wk7-Lab', 'Wk7-Lecture', 'Wk8-CA / 1.5', 'Wk8-Lab', 'Wk8-Lecture', 'Wk9-CA2', 'Wk9-Lecture', 'Wk10-CA / 1', 'Wk10-Lab', 'Wk10-Lecture', 'Wk11-CA / 1', 'Wk11-Lab', 'Wk11-Lecture', 'Wk12-CA3', 'Wk12-Lecture', 'Wk15-Lecture']\n"
     ]
    }
   ],
   "source": [
    "print (module7og.columns.tolist())\n"
   ]
  },
  {
   "cell_type": "code",
   "execution_count": 13,
   "metadata": {},
   "outputs": [
    {
     "data": {
      "text/plain": [
       "ID number                object\n",
       "First Name               object\n",
       "Surname                  object\n",
       "Total CA Mark / 100     float64\n",
       "Final Grade              object\n",
       "CA1 Report / 20         float64\n",
       "CA2 Lab Test / 35       float64\n",
       "CA3 Theory Test / 35    float64\n",
       "Labs CA / 10            float64\n",
       "Wk1-Lab                  object\n",
       "Wk1-Lecture              object\n",
       "Wk2-CA / 1                int64\n",
       "Wk2-Lab                  object\n",
       "Wk2-Lecture              object\n",
       "Wk3-CA / 1              float64\n",
       "Wk3-Lab                  object\n",
       "Wk3-Lecture              object\n",
       "Wk4-CA / 1                int64\n",
       "Wk4-Lab                  object\n",
       "Wk4-Lecture              object\n",
       "Wk5-CA / 1.5            float64\n",
       "Wk5-Lab                  object\n",
       "Wk5-Lecture              object\n",
       "Wk6-CA / 1              float64\n",
       "Wk6-Lab                  object\n",
       "Wk6-Lecture              object\n",
       "Wk7-CA / 1              float64\n",
       "Wk7-Lab                  object\n",
       "Wk7-Lecture              object\n",
       "Wk8-CA / 1.5            float64\n",
       "Wk8-Lab                  object\n",
       "Wk8-Lecture              object\n",
       "Wk9-CA2                  object\n",
       "Wk9-Lecture              object\n",
       "Wk10-CA / 1             float64\n",
       "Wk10-Lab                 object\n",
       "Wk10-Lecture             object\n",
       "Wk11-CA / 1             float64\n",
       "Wk11-Lab                 object\n",
       "Wk11-Lecture             object\n",
       "Wk12-CA3                 object\n",
       "Wk12-Lecture             object\n",
       "Wk15-Lecture             object\n",
       "dtype: object"
      ]
     },
     "execution_count": 13,
     "metadata": {},
     "output_type": "execute_result"
    }
   ],
   "source": [
    "module7og.dtypes\n"
   ]
  },
  {
   "cell_type": "code",
   "execution_count": 14,
   "metadata": {
    "collapsed": true
   },
   "outputs": [],
   "source": [
    "m7og = module7og"
   ]
  },
  {
   "cell_type": "code",
   "execution_count": 15,
   "metadata": {
    "collapsed": true
   },
   "outputs": [],
   "source": [
    "#Cleanup7OG"
   ]
  },
  {
   "cell_type": "code",
   "execution_count": 16,
   "metadata": {
    "collapsed": true
   },
   "outputs": [],
   "source": [
    "# Replace 'no' with 0 and 'yes' with 1 in 'Wk1-Lecture'  in Module 7\n",
    "\n",
    "m7og['Wk1-Lecture'] = m7og['Wk1-Lecture'].replace({'N': 0 , 'Y': 1})\n"
   ]
  },
  {
   "cell_type": "code",
   "execution_count": 17,
   "metadata": {
    "collapsed": true
   },
   "outputs": [],
   "source": [
    "# Replace 'no' with 0 and 'yes' with 1 in 'Wk1-Lecture'  in Module 7\n",
    "\n",
    "m7og['Wk2-Lecture'] = m7og['Wk2-Lecture'].replace({'N': 0 , 'Y': 1})\n"
   ]
  },
  {
   "cell_type": "code",
   "execution_count": 18,
   "metadata": {
    "collapsed": true
   },
   "outputs": [],
   "source": [
    "# Replace 'no' with 0 and 'yes' with 1 in 'Wk1-Lecture'  in Module 7\n",
    "\n",
    "m7og['Wk3-Lecture'] = m7og['Wk3-Lecture'].replace({'N': 0 , 'Y': 1})\n"
   ]
  },
  {
   "cell_type": "code",
   "execution_count": 19,
   "metadata": {
    "collapsed": true
   },
   "outputs": [],
   "source": [
    "# Replace 'no' with 0 and 'yes' with 1 in 'Wk1-Lecture'  in Module 7\n",
    "\n",
    "m7og['Wk4-Lecture'] = m7og['Wk4-Lecture'].replace({'N': 0 , 'Y': 1})\n"
   ]
  },
  {
   "cell_type": "code",
   "execution_count": 20,
   "metadata": {
    "collapsed": true
   },
   "outputs": [],
   "source": [
    "# Replace 'no' with 0 and 'yes' with 1 in 'Wk1-Lecture'  in Module 7\n",
    "\n",
    "m7og['Wk5-Lecture'] = m7og['Wk5-Lecture'].replace({'N': 0 , 'Y': 1})"
   ]
  },
  {
   "cell_type": "code",
   "execution_count": 21,
   "metadata": {
    "collapsed": true
   },
   "outputs": [],
   "source": [
    "# Replace 'no' with 0 and 'yes' with 1 in 'Wk1-Lecture'  in Module 7\n",
    "\n",
    "m7og['Wk6-Lecture'] = m7og['Wk6-Lecture'].replace({'N': 0 , 'Y': 1})"
   ]
  },
  {
   "cell_type": "code",
   "execution_count": 22,
   "metadata": {
    "collapsed": true
   },
   "outputs": [],
   "source": [
    "# Replace 'no' with 0 and 'yes' with 1 in 'Wk1-Lecture'  in Module 7\n",
    "\n",
    "m7og['Wk7-Lecture'] = m7og['Wk7-Lecture'].replace({'N': 0 , 'Y': 1})"
   ]
  },
  {
   "cell_type": "code",
   "execution_count": 23,
   "metadata": {
    "collapsed": true
   },
   "outputs": [],
   "source": [
    "# Replace 'no' with 0 and 'yes' with 1 in 'Wk1-Lecture'  in Module 7\n",
    "\n",
    "m7og['Wk8-Lecture'] = m7og['Wk8-Lecture'].replace({'N': 0 , 'Y': 1})"
   ]
  },
  {
   "cell_type": "code",
   "execution_count": 24,
   "metadata": {
    "collapsed": true
   },
   "outputs": [],
   "source": [
    "# Replace 'no' with 0 and 'yes' with 1 in 'Wk1-Lecture'  in Module 7\n",
    "\n",
    "m7og['Wk9-Lecture'] = m7og['Wk9-Lecture'].replace({'N': 0 , 'Y': 1})"
   ]
  },
  {
   "cell_type": "code",
   "execution_count": 25,
   "metadata": {
    "collapsed": true
   },
   "outputs": [],
   "source": [
    "# Replace 'no' with 0 and 'yes' with 1 in 'Wk1-Lecture'  in Module 7\n",
    "\n",
    "m7og['Wk10-Lecture'] = m7og['Wk10-Lecture'].replace({'N': 0 , 'Y': 1})"
   ]
  },
  {
   "cell_type": "code",
   "execution_count": 26,
   "metadata": {
    "collapsed": true
   },
   "outputs": [],
   "source": [
    "# Replace 'no' with 0 and 'yes' with 1 in 'Wk1-Lecture'  in Module 7\n",
    "\n",
    "m7og['Wk11-Lecture'] = m7og['Wk11-Lecture'].replace({'N': 0 , 'Y': 1})"
   ]
  },
  {
   "cell_type": "code",
   "execution_count": 27,
   "metadata": {
    "collapsed": true
   },
   "outputs": [],
   "source": [
    "# Replace 'no' with 0 and 'yes' with 1 in 'Wk1-Lecture'  in Module 7\n",
    "\n",
    "m7og['Wk12-Lecture'] = m7og['Wk12-Lecture'].replace({'N': 0 , 'Y': 1})"
   ]
  },
  {
   "cell_type": "code",
   "execution_count": 28,
   "metadata": {
    "collapsed": true
   },
   "outputs": [],
   "source": [
    "# Replace 'no' with 0 and 'yes' with 1 in 'Wk1-Lecture'  in Module 7\n",
    "\n",
    "m7og['Wk15-Lecture'] = m7og['Wk15-Lecture'].replace({'N': 0 , 'Y': 1})"
   ]
  },
  {
   "cell_type": "code",
   "execution_count": 29,
   "metadata": {
    "collapsed": true
   },
   "outputs": [],
   "source": [
    "# Replace 'no' with 0 and 'yes' with 1 in 'Wk1-Lecture'  in Module 7\n",
    "\n",
    "m7og['Wk1-Lab'] = m7og['Wk1-Lab'].replace({'N': 0 , 'Y': 1})"
   ]
  },
  {
   "cell_type": "code",
   "execution_count": 30,
   "metadata": {
    "collapsed": true
   },
   "outputs": [],
   "source": [
    "# Replace 'no' with 0 and 'yes' with 1 in 'Wk1-Lecture'  in Module 7\n",
    "\n",
    "m7og['Wk2-Lab'] = m7og['Wk2-Lab'].replace({'N': 0 , 'Y': 1})"
   ]
  },
  {
   "cell_type": "code",
   "execution_count": 31,
   "metadata": {
    "collapsed": true
   },
   "outputs": [],
   "source": [
    "# Replace 'no' with 0 and 'yes' with 1 in 'Wk1-Lecture'  in Module 7\n",
    "\n",
    "m7og['Wk3-Lab'] = m7og['Wk3-Lab'].replace({'N': 0 , 'Y': 1})"
   ]
  },
  {
   "cell_type": "code",
   "execution_count": 32,
   "metadata": {
    "collapsed": true
   },
   "outputs": [],
   "source": [
    "# Replace 'no' with 0 and 'yes' with 1 in 'Wk1-Lecture'  in Module 7\n",
    "\n",
    "m7og['Wk4-Lab'] = m7og['Wk4-Lab'].replace({'N': 0 , 'Y': 1})"
   ]
  },
  {
   "cell_type": "code",
   "execution_count": 33,
   "metadata": {
    "collapsed": true
   },
   "outputs": [],
   "source": [
    "# Replace 'no' with 0 and 'yes' with 1 in 'Wk1-Lecture'  in Module 7\n",
    "\n",
    "m7og['Wk5-Lab'] = m7og['Wk5-Lab'].replace({'N': 0 , 'Y': 1})"
   ]
  },
  {
   "cell_type": "code",
   "execution_count": 34,
   "metadata": {
    "collapsed": true
   },
   "outputs": [],
   "source": [
    "# Replace 'no' with 0 and 'yes' with 1 in 'W6-Lecture'  in Module 7\n",
    "\n",
    "m7og['Wk6-Lab'] = m7og['Wk6-Lab'].replace({'N': 0 , 'Y': 1})"
   ]
  },
  {
   "cell_type": "code",
   "execution_count": 35,
   "metadata": {
    "collapsed": true
   },
   "outputs": [],
   "source": [
    "# Replace 'no' with 0 and 'yes' with 1 in 'Wk7-Lecture'  in Module 7\n",
    "\n",
    "m7og['Wk7-Lab'] = m7og['Wk7-Lab'].replace({'N': 0 , 'Y': 1})"
   ]
  },
  {
   "cell_type": "code",
   "execution_count": 36,
   "metadata": {
    "collapsed": true
   },
   "outputs": [],
   "source": [
    "# Replace 'no' with 0 and 'yes' with 1 in 'Wk8-Lecture'  in Module 7\n",
    "\n",
    "m7og['Wk8-Lab'] = m7og['Wk8-Lab'].replace({'N': 0 , 'Y': 1})"
   ]
  },
  {
   "cell_type": "code",
   "execution_count": 37,
   "metadata": {
    "collapsed": true
   },
   "outputs": [],
   "source": [
    "# Replace 'no' with 0 and 'yes' with 1 in 'Wk9-Lecture'  in Module 7\n",
    "\n",
    "m7og['Wk9-CA2'] = m7og['Wk9-CA2'].replace({'N': 0 , 'Y': 1})"
   ]
  },
  {
   "cell_type": "code",
   "execution_count": 38,
   "metadata": {
    "collapsed": true
   },
   "outputs": [],
   "source": [
    "# Replace 'no' with 0 and 'yes' with 1 in 'Wk1-Lecture'  in Module 7\n",
    "\n",
    "m7og['Wk10-Lab'] = m7og['Wk10-Lab'].replace({'N': 0 , 'Y': 1})"
   ]
  },
  {
   "cell_type": "code",
   "execution_count": 39,
   "metadata": {
    "collapsed": true
   },
   "outputs": [],
   "source": [
    "# Replace 'no' with 0 and 'yes' with 1 in 'Wk1-Lecture'  in Module 7\n",
    "\n",
    "m7og['Wk11-Lab'] = m7og['Wk11-Lab'].replace({'N': 0 , 'Y': 1})"
   ]
  },
  {
   "cell_type": "code",
   "execution_count": 40,
   "metadata": {
    "collapsed": true
   },
   "outputs": [],
   "source": [
    "# Replace 'no' with 0 and 'yes' with 1 in 'Wk1-Lecture'  in Module 7\n",
    "\n",
    "m7og['Wk12-CA3'] = m7og['Wk12-CA3'].replace({'N': 0 , 'Y': 1})"
   ]
  },
  {
   "cell_type": "code",
   "execution_count": 41,
   "metadata": {},
   "outputs": [
    {
     "data": {
      "text/html": [
       "<div>\n",
       "<style>\n",
       "    .dataframe thead tr:only-child th {\n",
       "        text-align: right;\n",
       "    }\n",
       "\n",
       "    .dataframe thead th {\n",
       "        text-align: left;\n",
       "    }\n",
       "\n",
       "    .dataframe tbody tr th {\n",
       "        vertical-align: top;\n",
       "    }\n",
       "</style>\n",
       "<table border=\"1\" class=\"dataframe\">\n",
       "  <thead>\n",
       "    <tr style=\"text-align: right;\">\n",
       "      <th></th>\n",
       "      <th>ID number</th>\n",
       "      <th>First Name</th>\n",
       "      <th>Surname</th>\n",
       "      <th>Total CA Mark / 100</th>\n",
       "      <th>Final Grade</th>\n",
       "      <th>CA1 Report / 20</th>\n",
       "      <th>CA2 Lab Test / 35</th>\n",
       "      <th>CA3 Theory Test / 35</th>\n",
       "      <th>Labs CA / 10</th>\n",
       "      <th>Wk1-Lab</th>\n",
       "      <th>...</th>\n",
       "      <th>Wk9-Lecture</th>\n",
       "      <th>Wk10-CA / 1</th>\n",
       "      <th>Wk10-Lab</th>\n",
       "      <th>Wk10-Lecture</th>\n",
       "      <th>Wk11-CA / 1</th>\n",
       "      <th>Wk11-Lab</th>\n",
       "      <th>Wk11-Lecture</th>\n",
       "      <th>Wk12-CA3</th>\n",
       "      <th>Wk12-Lecture</th>\n",
       "      <th>Wk15-Lecture</th>\n",
       "    </tr>\n",
       "  </thead>\n",
       "  <tbody>\n",
       "    <tr>\n",
       "      <th>0</th>\n",
       "      <td>tzCYvQBD</td>\n",
       "      <td>azCY</td>\n",
       "      <td>bvQB</td>\n",
       "      <td>71.850</td>\n",
       "      <td>B+</td>\n",
       "      <td>8.8</td>\n",
       "      <td>27.650</td>\n",
       "      <td>25.40</td>\n",
       "      <td>10.00</td>\n",
       "      <td>1</td>\n",
       "      <td>...</td>\n",
       "      <td>1</td>\n",
       "      <td>1.0</td>\n",
       "      <td>1</td>\n",
       "      <td>1</td>\n",
       "      <td>1.00</td>\n",
       "      <td>1</td>\n",
       "      <td>1</td>\n",
       "      <td>1</td>\n",
       "      <td>1</td>\n",
       "      <td>1</td>\n",
       "    </tr>\n",
       "    <tr>\n",
       "      <th>1</th>\n",
       "      <td>FjdRQnjO</td>\n",
       "      <td>ajdR</td>\n",
       "      <td>bQnj</td>\n",
       "      <td>89.885</td>\n",
       "      <td>A</td>\n",
       "      <td>16.2</td>\n",
       "      <td>30.975</td>\n",
       "      <td>33.05</td>\n",
       "      <td>9.66</td>\n",
       "      <td>1</td>\n",
       "      <td>...</td>\n",
       "      <td>1</td>\n",
       "      <td>1.0</td>\n",
       "      <td>1</td>\n",
       "      <td>1</td>\n",
       "      <td>0.66</td>\n",
       "      <td>1</td>\n",
       "      <td>1</td>\n",
       "      <td>1</td>\n",
       "      <td>1</td>\n",
       "      <td>1</td>\n",
       "    </tr>\n",
       "  </tbody>\n",
       "</table>\n",
       "<p>2 rows × 43 columns</p>\n",
       "</div>"
      ],
      "text/plain": [
       "  ID number First Name Surname  Total CA Mark / 100 Final Grade  \\\n",
       "0  tzCYvQBD       azCY    bvQB               71.850          B+   \n",
       "1  FjdRQnjO       ajdR    bQnj               89.885           A   \n",
       "\n",
       "   CA1 Report / 20  CA2 Lab Test / 35  CA3 Theory Test / 35  Labs CA / 10  \\\n",
       "0              8.8             27.650                 25.40         10.00   \n",
       "1             16.2             30.975                 33.05          9.66   \n",
       "\n",
       "   Wk1-Lab      ...       Wk9-Lecture  Wk10-CA / 1  Wk10-Lab  Wk10-Lecture  \\\n",
       "0        1      ...                 1          1.0         1             1   \n",
       "1        1      ...                 1          1.0         1             1   \n",
       "\n",
       "   Wk11-CA / 1  Wk11-Lab  Wk11-Lecture  Wk12-CA3  Wk12-Lecture  Wk15-Lecture  \n",
       "0         1.00         1             1         1             1             1  \n",
       "1         0.66         1             1         1             1             1  \n",
       "\n",
       "[2 rows x 43 columns]"
      ]
     },
     "execution_count": 41,
     "metadata": {},
     "output_type": "execute_result"
    }
   ],
   "source": [
    "m7og.head(2)"
   ]
  },
  {
   "cell_type": "code",
   "execution_count": 42,
   "metadata": {
    "collapsed": true
   },
   "outputs": [],
   "source": [
    "m7og_subset = m7og"
   ]
  }
 ],
 "metadata": {
  "kernelspec": {
   "display_name": "Python 3",
   "language": "python",
   "name": "python3"
  },
  "language_info": {
   "codemirror_mode": {
    "name": "ipython",
    "version": 3
   },
   "file_extension": ".py",
   "mimetype": "text/x-python",
   "name": "python",
   "nbconvert_exporter": "python",
   "pygments_lexer": "ipython3",
   "version": "3.6.2"
  }
 },
 "nbformat": 4,
 "nbformat_minor": 2
}
