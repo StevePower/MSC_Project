{
 "cells": [
  {
   "cell_type": "code",
   "execution_count": 2,
   "metadata": {
    "collapsed": true
   },
   "outputs": [],
   "source": [
    "\n",
    "# Importing libraries\n",
    "import pandas as pd\n",
    "import matplotlib.pyplot as plt\n",
    "from matplotlib import pyplot as plt\n",
    "#import missingno as msno\n",
    "from scipy import stats\n",
    "\n",
    "import numpy as np\n",
    "import datetime\n",
    "import seaborn as sns\n",
    "from sklearn.svm import SVC\n",
    "from sklearn.preprocessing import LabelEncoder\n",
    "from sklearn.cluster import KMeans\n",
    "from sklearn.feature_selection import SelectKBest\n",
    "from sklearn.feature_selection import chi2\n",
    "# Import DecisionTreeClassifier\n",
    "from sklearn.tree import DecisionTreeClassifier\n",
    "# Import RandomForestClassifier\n",
    "from sklearn.ensemble import RandomForestClassifier\n",
    "\n",
    "# Import precision_score\n",
    "from sklearn.metrics import precision_score\n",
    "\n",
    "from sklearn import metrics #Import scikit-learn metrics module for accuracy calculation\n",
    "\n",
    "\n",
    "# Import necessary modules\n",
    "from sklearn.linear_model import LinearRegression\n",
    "from sklearn.model_selection import cross_val_score\n",
    "\n",
    "\n",
    "\n",
    "# Import recall_score\n",
    "from sklearn.metrics import recall_score\n",
    "\n",
    "#from sklearn.metrics import roc_auc_curve\n",
    "# Import roc_curve\n",
    "from sklearn.metrics import roc_curve\n",
    "\n",
    "\n",
    "\n",
    "from sklearn.svm import SVC\n",
    "\n",
    "# Import confusion matrix\n",
    "from sklearn.metrics import confusion_matrix\n",
    "\n",
    "from sklearn.tree import export_graphviz\n",
    "from sklearn.externals.six import StringIO  \n",
    "from IPython.display import Image  \n",
    "#import pydotplus\n",
    "\n",
    "\n",
    "\n",
    "# Import train_test_split\n",
    "from sklearn.model_selection import train_test_split\n",
    "\n",
    "# Import LogisticRegression\n",
    "from sklearn.linear_model import LogisticRegression\n",
    "\n",
    "\n",
    "from sklearn import metrics #Import scikit-learn metrics module for accuracy calculation\n",
    "\n",
    "\n",
    "\n",
    "import scipy.stats as st\n",
    "#import pandas_profiling\n",
    "import requests \n",
    "%matplotlib inline\n"
   ]
  },
  {
   "cell_type": "code",
   "execution_count": 9,
   "metadata": {
    "collapsed": true
   },
   "outputs": [],
   "source": [
    "# Semester Start Date:\n",
    "StartDate = '2018-09-17' \n",
    "StartDate = pd.to_datetime(StartDate)\n"
   ]
  },
  {
   "cell_type": "code",
   "execution_count": 10,
   "metadata": {
    "collapsed": true
   },
   "outputs": [],
   "source": [
    "# Semester End Date:\n",
    "EndDate = '2019-01-21' \n",
    "EndDate = pd.to_datetime(EndDate)"
   ]
  },
  {
   "cell_type": "code",
   "execution_count": 11,
   "metadata": {
    "collapsed": true
   },
   "outputs": [],
   "source": [
    "TriOne = '2018-10-22'\n",
    "TriOne = pd.to_datetime(TriOne)"
   ]
  },
  {
   "cell_type": "code",
   "execution_count": 12,
   "metadata": {
    "collapsed": true
   },
   "outputs": [],
   "source": [
    "TriTwo = '2018-11-26'\n",
    "TriTwo = pd.to_datetime(TriTwo)"
   ]
  },
  {
   "cell_type": "code",
   "execution_count": 3,
   "metadata": {},
   "outputs": [],
   "source": [
    "# Data Preperation Module 2\n",
    "# There are two files in module 2\n",
    "# Module 2\n",
    "\n",
    "module2mg = pd.read_csv('Module2-MoodleGrades.csv')"
   ]
  },
  {
   "cell_type": "code",
   "execution_count": 4,
   "metadata": {
    "collapsed": true
   },
   "outputs": [],
   "source": [
    "module2ml = pd.read_csv('Module2-MoodleLog.csv')"
   ]
  },
  {
   "cell_type": "code",
   "execution_count": 14,
   "metadata": {
    "collapsed": true
   },
   "outputs": [],
   "source": [
    "# Time2\n",
    "time2 = module2ml[\"Time\"].str.split(\",\", n = 1, expand = True)\n"
   ]
  },
  {
   "cell_type": "code",
   "execution_count": 15,
   "metadata": {
    "collapsed": true
   },
   "outputs": [],
   "source": [
    "# making separate Date column from new data frame \n",
    "module2ml[\"Date\"]= time2[0] \n",
    "\n",
    "# making seperate Time column from new data frame\n",
    "module2ml['Time']= time2[1]\n"
   ]
  },
  {
   "cell_type": "code",
   "execution_count": 16,
   "metadata": {
    "collapsed": true
   },
   "outputs": [],
   "source": [
    "# Convert the date column to datetime64\n",
    "module2ml.Date = pd.to_datetime(module2ml.Date)\n"
   ]
  },
  {
   "cell_type": "code",
   "execution_count": null,
   "metadata": {
    "collapsed": true
   },
   "outputs": [],
   "source": []
  },
  {
   "cell_type": "code",
   "execution_count": 17,
   "metadata": {},
   "outputs": [
    {
     "data": {
      "text/plain": [
       "15794"
      ]
     },
     "execution_count": 17,
     "metadata": {},
     "output_type": "execute_result"
    }
   ],
   "source": [
    "#Remove activity outside semester start and end dates range -Timeedit2\n",
    "mask2 = (module2ml['Date'] >= StartDate) & (module2ml['Date'] <= EndDate)\n",
    "\n",
    "module2ml = module2ml.loc[mask2]\n",
    "\n",
    "len(module2ml)"
   ]
  },
  {
   "cell_type": "code",
   "execution_count": 18,
   "metadata": {},
   "outputs": [
    {
     "data": {
      "text/plain": [
       "7508"
      ]
     },
     "execution_count": 18,
     "metadata": {},
     "output_type": "execute_result"
    }
   ],
   "source": [
    "#Remove activity outside semester start and end dates range -Timeedit1\n",
    "week5_2 = (module2ml['Date'] >= StartDate) & (module2ml['Date'] <= TriOne)\n",
    "\n",
    "FirstFive2 = module2ml.loc[week5_2]\n",
    "\n",
    "len(FirstFive2)\n"
   ]
  },
  {
   "cell_type": "code",
   "execution_count": 19,
   "metadata": {},
   "outputs": [
    {
     "data": {
      "text/plain": [
       "4084"
      ]
     },
     "execution_count": 19,
     "metadata": {},
     "output_type": "execute_result"
    }
   ],
   "source": [
    "#Remove activity outside semester start and end dates range -Timeedit1\n",
    "week10_2 = (module2ml['Date'] >= TriOne) & (module2ml['Date'] <= TriTwo)\n",
    "\n",
    "FirstTen2 = module2ml.loc[week10_2]\n",
    "\n",
    "len(FirstTen2)\n"
   ]
  },
  {
   "cell_type": "code",
   "execution_count": 20,
   "metadata": {},
   "outputs": [
    {
     "data": {
      "text/plain": [
       "4826"
      ]
     },
     "execution_count": 20,
     "metadata": {},
     "output_type": "execute_result"
    }
   ],
   "source": [
    "#Remove activity outside semester start and end dates range -Timeedit1\n",
    "week15_2 = (module2ml['Date'] >= TriTwo) & (module2ml['Date'] <= EndDate)\n",
    "\n",
    "FirstFivt2 = module2ml.loc[week15_2]\n",
    "\n",
    "len(FirstFivt2)\n"
   ]
  },
  {
   "cell_type": "code",
   "execution_count": 5,
   "metadata": {},
   "outputs": [
    {
     "name": "stdout",
     "output_type": "stream",
     "text": [
      "['First name', 'Surname', 'ID number', 'Email address', 'Quiz: CA3 - QUIZ  (Real)', 'Assignment: UPLOAD ASSIGNMENT 1 - POWERPOINT PRESENTATION (Real)', 'Assignment: UPLOAD ASSIGNMENT 2 - REFLECTIVE WRITING (Real)', 'Course total (Real)', 'Last downloaded from this course']\n"
     ]
    }
   ],
   "source": [
    "print (module2mg.columns.tolist())\n",
    "# Note Quiz: CA3 - QUIZ  (Real) has a couple of spaces in it"
   ]
  },
  {
   "cell_type": "code",
   "execution_count": 6,
   "metadata": {},
   "outputs": [
    {
     "name": "stdout",
     "output_type": "stream",
     "text": [
      "First name                                                          138\n",
      "Surname                                                             138\n",
      "ID number                                                           138\n",
      "Email address                                                       138\n",
      "Quiz: CA3 - QUIZ  (Real)                                             81\n",
      "Assignment: UPLOAD ASSIGNMENT 1 - POWERPOINT PRESENTATION (Real)     18\n",
      "Assignment: UPLOAD ASSIGNMENT 2 - REFLECTIVE WRITING (Real)          34\n",
      "Course total (Real)                                                 118\n",
      "Last downloaded from this course                                      1\n",
      "dtype: int64\n"
     ]
    }
   ],
   "source": [
    "# Print the number of unique values in each modul2mg column\n",
    "print(module2mg.nunique())"
   ]
  },
  {
   "cell_type": "code",
   "execution_count": 7,
   "metadata": {},
   "outputs": [
    {
     "name": "stdout",
     "output_type": "stream",
     "text": [
      "Time              10003\n",
      "User full name      138\n",
      "Affected user         1\n",
      "Event context        68\n",
      "Component             9\n",
      "Event name           25\n",
      "Description          40\n",
      "IP address            1\n",
      "Origin                2\n",
      "dtype: int64\n"
     ]
    }
   ],
   "source": [
    "# Print the number of unique values in each modul2ml column\n",
    "print(module2ml.nunique())"
   ]
  },
  {
   "cell_type": "code",
   "execution_count": 21,
   "metadata": {
    "collapsed": true
   },
   "outputs": [],
   "source": [
    "# Cleanup2\n",
    "module2ml = module2ml.drop(module2ml[['IP address','Origin','Description','Affected user']], axis=1)"
   ]
  },
  {
   "cell_type": "code",
   "execution_count": 22,
   "metadata": {},
   "outputs": [
    {
     "data": {
      "text/plain": [
       "Time                      object\n",
       "User full name            object\n",
       "Event context             object\n",
       "Component                 object\n",
       "Event name                object\n",
       "Date              datetime64[ns]\n",
       "dtype: object"
      ]
     },
     "execution_count": 22,
     "metadata": {},
     "output_type": "execute_result"
    }
   ],
   "source": [
    "module2ml.dtypes"
   ]
  },
  {
   "cell_type": "code",
   "execution_count": 23,
   "metadata": {
    "collapsed": true
   },
   "outputs": [],
   "source": [
    "# new data frame with split value columns \n",
    "new2 = module2ml[\"User full name\"].str.split(\" \", n = 1, expand = True)\n"
   ]
  },
  {
   "cell_type": "code",
   "execution_count": 24,
   "metadata": {
    "collapsed": true
   },
   "outputs": [],
   "source": [
    "# making separate first name column from new data frame \n",
    "module2ml[\"First name\"]= new2[0] \n",
    "\n",
    "# making separate last name column from new data frame \n",
    "module2ml[\"Last name\"]= new2[1] \n"
   ]
  },
  {
   "cell_type": "code",
   "execution_count": 25,
   "metadata": {},
   "outputs": [
    {
     "data": {
      "text/plain": [
       "Time                      object\n",
       "User full name            object\n",
       "Event context             object\n",
       "Component                 object\n",
       "Event name                object\n",
       "Date              datetime64[ns]\n",
       "First name                object\n",
       "Last name                 object\n",
       "dtype: object"
      ]
     },
     "execution_count": 25,
     "metadata": {},
     "output_type": "execute_result"
    }
   ],
   "source": [
    "module2ml.dtypes"
   ]
  },
  {
   "cell_type": "code",
   "execution_count": 27,
   "metadata": {},
   "outputs": [
    {
     "data": {
      "text/html": [
       "<div>\n",
       "<style>\n",
       "    .dataframe thead tr:only-child th {\n",
       "        text-align: right;\n",
       "    }\n",
       "\n",
       "    .dataframe thead th {\n",
       "        text-align: left;\n",
       "    }\n",
       "\n",
       "    .dataframe tbody tr th {\n",
       "        vertical-align: top;\n",
       "    }\n",
       "</style>\n",
       "<table border=\"1\" class=\"dataframe\">\n",
       "  <thead>\n",
       "    <tr style=\"text-align: right;\">\n",
       "      <th></th>\n",
       "      <th>Time</th>\n",
       "      <th>User full name</th>\n",
       "      <th>Event context</th>\n",
       "      <th>Component</th>\n",
       "      <th>Event name</th>\n",
       "      <th>Date</th>\n",
       "      <th>First name</th>\n",
       "      <th>Last name</th>\n",
       "    </tr>\n",
       "  </thead>\n",
       "  <tbody>\n",
       "    <tr>\n",
       "      <th>4</th>\n",
       "      <td>20:32</td>\n",
       "      <td>ae3w bhew</td>\n",
       "      <td>Course: Module 2</td>\n",
       "      <td>System</td>\n",
       "      <td>Course user report viewed</td>\n",
       "      <td>2019-01-21</td>\n",
       "      <td>ae3w</td>\n",
       "      <td>bhew</td>\n",
       "    </tr>\n",
       "    <tr>\n",
       "      <th>5</th>\n",
       "      <td>17:39</td>\n",
       "      <td>agtk bqpc</td>\n",
       "      <td>Assignment: UPLOAD ASSIGNMENT 2 - REFLECTIVE W...</td>\n",
       "      <td>Assignment</td>\n",
       "      <td>The status of the submission has been viewed.</td>\n",
       "      <td>2019-01-21</td>\n",
       "      <td>agtk</td>\n",
       "      <td>bqpc</td>\n",
       "    </tr>\n",
       "  </tbody>\n",
       "</table>\n",
       "</div>"
      ],
      "text/plain": [
       "     Time User full name                                      Event context  \\\n",
       "4   20:32      ae3w bhew                                   Course: Module 2   \n",
       "5   17:39      agtk bqpc  Assignment: UPLOAD ASSIGNMENT 2 - REFLECTIVE W...   \n",
       "\n",
       "    Component                                     Event name       Date  \\\n",
       "4      System                      Course user report viewed 2019-01-21   \n",
       "5  Assignment  The status of the submission has been viewed. 2019-01-21   \n",
       "\n",
       "  First name Last name  \n",
       "4       ae3w      bhew  \n",
       "5       agtk      bqpc  "
      ]
     },
     "execution_count": 27,
     "metadata": {},
     "output_type": "execute_result"
    }
   ],
   "source": [
    "module2ml.head(2)"
   ]
  },
  {
   "cell_type": "code",
   "execution_count": 28,
   "metadata": {},
   "outputs": [
    {
     "data": {
      "image/png": "[encoded data removed]",
      "text/plain": [
       "<matplotlib.figure.Figure at 0x22dcf273240>"
      ]
     },
     "metadata": {},
     "output_type": "display_data"
    }
   ],
   "source": [
    "labels = module2ml['Event context'].astype('category').cat.categories.tolist()\n",
    "counts = module2ml['Event context'].value_counts()\n",
    "sizes = [counts[var_cat] for var_cat in labels]\n",
    "fig1, ax1 = plt.subplots()\n",
    "ax1.pie(sizes, labels=labels, autopct='%1.1f%%', shadow=True) #autopct is show the % on plot\n",
    "ax1.axis('equal')\n",
    "plt.show()"
   ]
  },
  {
   "cell_type": "code",
   "execution_count": 29,
   "metadata": {},
   "outputs": [
    {
     "data": {
      "text/plain": [
       "Course: Module 2                                                               5576\n",
       "Assignment: UPLOAD ASSIGNMENT 1 - POWERPOINT PRESENTATION                      1754\n",
       "Assignment: UPLOAD ASSIGNMENT 2 - REFLECTIVE WRITING                           1474\n",
       "File: ASSIGNMENT 2 - REFLECTIVE WRITING                                         745\n",
       "File: TEMPLATE FOR ASSIGNMENT 2                                                 727\n",
       "File: ASSIGNMENT 1 - POWERPOINT PRESENTATION                                    529\n",
       "File: Using Gibbs Reflective Cycle in Coursework                                426\n",
       "URL: ENTER YOUR NAME HERE TO RECEIVE YOUR TOPIC NUMBER                          389\n",
       "File: Assignment Declaration Form                                               387\n",
       "File: ITB Harvard Referencing Guide                                             206\n",
       "File: Sample Presentation Layout                                                202\n",
       "File: Lab Activity 2 - Evaluating Information                                   199\n",
       "URL: Lab Activity 2 - Harvard Referencing                                       192\n",
       "URL: 7 Expert Secrets to Improving your Writing - Eric Barker                   183\n",
       "File: Academic Calendar 2018 -19                                                178\n",
       "File: LECTURE 4 - HARVARD REFERENCING BASICS                                    175\n",
       "URL: Lab Activity 1 - Evaluating Information                                    163\n",
       "File: LECTURE 1 - EFFECTIVE PRESENTATIONS                                       144\n",
       "File: LECTURE 2 - STRUCTURING PRESENTATIONS                                     142\n",
       "URL: TUTORIAL - How to Create a Basic PowerPoint Document                       118\n",
       "Forum: News forum                                                               115\n",
       "File: Reflective Writing Guidance Notes for Students                            105\n",
       "File: Discussion Articles - Shared Responsibility &amp; Student Entitlement     101\n",
       "File: 2. Work/Life Balance Calculator                                            99\n",
       "File: Staffordshire University Harvard Referencing Guide                         95\n",
       "File: Lab Activity 1 - Referencing Exercise                                      88\n",
       "File: MODULE OVERVIEW                                                            87\n",
       "URL: 3. Survey - How effective is your Time Management?                          86\n",
       "URL: Reflective Thinking &amp; Writing                                           86\n",
       "URL: Revision Strategies &amp; Tips - Palgrave Study Skills                      83\n",
       "                                                                               ... \n",
       "URL: How to Give an Awesome Presentation                                         49\n",
       "URL: Citing &amp; Referencing Tutorial                                           41\n",
       "URL: Harvard Referencing Tutorial for Humanities Students at ITB                 40\n",
       "URL: ITB Student Information Hub - Access to info you may need.                  38\n",
       "URL: Very Helpful Library Resources                                              36\n",
       "File: LECTURE 3 - PLAGIARISM                                                     36\n",
       "Quiz: CA3 - QUIZ                                                                 36\n",
       "URL: Lab Activity 2 - Avoiding Plagiarism                                        34\n",
       "URL: Lab Activity 1 - What is Plagiarism                                         33\n",
       "URL: How NOT to Deliver Your Presentation                                        31\n",
       "File: 5. Weekly Planner                                                          22\n",
       "URL: How to Deliver the Talk of Your Life                                        20\n",
       "File: NATIONAL LEARNING NETWORK LECTURE                                          13\n",
       "URL: Online Tutorial - Critical Thinking &amp; Reflection                        12\n",
       "File: LECTURE 6 - THE WRITING PROCESS PART 1                                     11\n",
       "File: LECTURE 7 - THE WRITING PROCESS PART 2                                     10\n",
       "URL: Lab Activity 1 - VARK Survey                                                10\n",
       "URL: Literature Reviews                                                           7\n",
       "File: Evaluating Information Sources                                              6\n",
       "URL: The Art of 'Digging Deeper' ClipArt                                          5\n",
       "URL: Jumbled Letters                                                              5\n",
       "File: Step by Step Guide to Exam Success                                          4\n",
       "File: LECTURE 5 - REVIEWING LIT. &amp; CRITICAL THINKING                          4\n",
       "URL: Video 1 - How To Separate Fact from Fiction Online                           4\n",
       "File: LECTURE 10 - EXAM  REVISION STRATEGIES                                      3\n",
       "URL: Evaluating Information Sources                                               2\n",
       "URL: Student Counselling Service                                                  2\n",
       "URL: Video 2 - Beware of Online Filter Bubbles                                    1\n",
       "URL: Lab Activity 2 - Learning Preferences                                        1\n",
       "File: Learning Preferences                                                        1\n",
       "Name: Event context, Length: 66, dtype: int64"
      ]
     },
     "execution_count": 29,
     "metadata": {},
     "output_type": "execute_result"
    }
   ],
   "source": [
    "module2ml[\"Event context\"].value_counts()\n",
    "# The Most frequent are assignment: upload assignment 1\n",
    "# "
   ]
  },
  {
   "cell_type": "code",
   "execution_count": 30,
   "metadata": {},
   "outputs": [
    {
     "data": {
      "text/plain": [
       "Course module viewed                                      6916\n",
       "Course viewed                                             4507\n",
       "The status of the submission has been viewed.             1508\n",
       "Submission form viewed.                                    461\n",
       "Grade user report viewed                                   422\n",
       "A submission has been submitted.                           317\n",
       "A file has been uploaded.                                  317\n",
       "The user has accepted the statement of the submission.     308\n",
       "Submission created.                                        256\n",
       "User enrolled in course                                    135\n",
       "Role assigned                                              135\n",
       "Course user report viewed                                  126\n",
       "User list viewed                                            94\n",
       "Course module instance list viewed                          79\n",
       "Discussion viewed                                           70\n",
       "Submission updated.                                         61\n",
       "User profile viewed                                         45\n",
       "Grade overview report viewed                                28\n",
       "Badge listing viewed                                         3\n",
       "User graded                                                  1\n",
       "Quiz attempt summary viewed                                  1\n",
       "Quiz attempt submitted                                       1\n",
       "Quiz attempt viewed                                          1\n",
       "Course searched                                              1\n",
       "Quiz attempt started                                         1\n",
       "Name: Event name, dtype: int64"
      ]
     },
     "execution_count": 30,
     "metadata": {},
     "output_type": "execute_result"
    }
   ],
   "source": [
    "module2ml[\"Event name\"].value_counts()\n",
    "# Actions\n"
   ]
  },
  {
   "cell_type": "code",
   "execution_count": 32,
   "metadata": {},
   "outputs": [
    {
     "data": {
      "image/png": "[encoded data removed]",
      "text/plain": [
       "<matplotlib.figure.Figure at 0x22dcf273b38>"
      ]
     },
     "metadata": {},
     "output_type": "display_data"
    }
   ],
   "source": [
    "labels = module2ml['Event name'].astype('category').cat.categories.tolist()\n",
    "counts = module2ml['Event name'].value_counts()\n",
    "sizes = [counts[var_cat] for var_cat in labels]\n",
    "fig1, ax1 = plt.subplots()\n",
    "ax1.pie(sizes, labels=labels, autopct='%1.1f%%', shadow=True) #autopct is show the % on plot\n",
    "ax1.axis('equal')\n",
    "plt.show()"
   ]
  },
  {
   "cell_type": "code",
   "execution_count": 33,
   "metadata": {
    "collapsed": true
   },
   "outputs": [],
   "source": [
    "m2mg = module2mg[[ 'First name', 'Surname','ID number','Quiz: CA3 - QUIZ  (Real)','Course total (Real)','Assignment: UPLOAD ASSIGNMENT 1 - POWERPOINT PRESENTATION (Real)','Assignment: UPLOAD ASSIGNMENT 2 - REFLECTIVE WRITING (Real)']]\n",
    "#'Quiz: CA3 - QUIZ (Real) , Quiz: CA3 - QUIZ (Real) not in index\n",
    "# Tidy up on colums without "
   ]
  },
  {
   "cell_type": "code",
   "execution_count": 34,
   "metadata": {},
   "outputs": [
    {
     "data": {
      "text/plain": [
       "<matplotlib.axes._subplots.AxesSubplot at 0x22dd06b5630>"
      ]
     },
     "execution_count": 34,
     "metadata": {},
     "output_type": "execute_result"
    },
    {
     "data": {
      "image/png": "[encoded data removed]",
      "text/plain": [
       "<matplotlib.figure.Figure at 0x22dcf1e0518>"
      ]
     },
     "metadata": {},
     "output_type": "display_data"
    }
   ],
   "source": [
    "m2mg.plot(kind='scatter', x='Course total (Real)', y='Quiz: CA3 - QUIZ  (Real)', rot=70)\n"
   ]
  },
  {
   "cell_type": "code",
   "execution_count": 35,
   "metadata": {
    "collapsed": true
   },
   "outputs": [],
   "source": [
    "plt.show()"
   ]
  },
  {
   "cell_type": "code",
   "execution_count": 37,
   "metadata": {},
   "outputs": [
    {
     "data": {
      "text/html": [
       "<div>\n",
       "<style>\n",
       "    .dataframe thead tr:only-child th {\n",
       "        text-align: right;\n",
       "    }\n",
       "\n",
       "    .dataframe thead th {\n",
       "        text-align: left;\n",
       "    }\n",
       "\n",
       "    .dataframe tbody tr th {\n",
       "        vertical-align: top;\n",
       "    }\n",
       "</style>\n",
       "<table border=\"1\" class=\"dataframe\">\n",
       "  <thead>\n",
       "    <tr style=\"text-align: right;\">\n",
       "      <th></th>\n",
       "      <th>Time</th>\n",
       "      <th>User full name</th>\n",
       "      <th>Event context</th>\n",
       "      <th>Component</th>\n",
       "      <th>Event name</th>\n",
       "      <th>Date</th>\n",
       "      <th>First name</th>\n",
       "      <th>Last name</th>\n",
       "    </tr>\n",
       "  </thead>\n",
       "  <tbody>\n",
       "    <tr>\n",
       "      <th>4</th>\n",
       "      <td>20:32</td>\n",
       "      <td>ae3w bhew</td>\n",
       "      <td>Course: Module 2</td>\n",
       "      <td>System</td>\n",
       "      <td>Course user report viewed</td>\n",
       "      <td>2019-01-21</td>\n",
       "      <td>ae3w</td>\n",
       "      <td>bhew</td>\n",
       "    </tr>\n",
       "    <tr>\n",
       "      <th>5</th>\n",
       "      <td>17:39</td>\n",
       "      <td>agtk bqpc</td>\n",
       "      <td>Assignment: UPLOAD ASSIGNMENT 2 - REFLECTIVE W...</td>\n",
       "      <td>Assignment</td>\n",
       "      <td>The status of the submission has been viewed.</td>\n",
       "      <td>2019-01-21</td>\n",
       "      <td>agtk</td>\n",
       "      <td>bqpc</td>\n",
       "    </tr>\n",
       "  </tbody>\n",
       "</table>\n",
       "</div>"
      ],
      "text/plain": [
       "     Time User full name                                      Event context  \\\n",
       "4   20:32      ae3w bhew                                   Course: Module 2   \n",
       "5   17:39      agtk bqpc  Assignment: UPLOAD ASSIGNMENT 2 - REFLECTIVE W...   \n",
       "\n",
       "    Component                                     Event name       Date  \\\n",
       "4      System                      Course user report viewed 2019-01-21   \n",
       "5  Assignment  The status of the submission has been viewed. 2019-01-21   \n",
       "\n",
       "  First name Last name  \n",
       "4       ae3w      bhew  \n",
       "5       agtk      bqpc  "
      ]
     },
     "execution_count": 37,
     "metadata": {},
     "output_type": "execute_result"
    }
   ],
   "source": [
    "module2ml.head(2)"
   ]
  },
  {
   "cell_type": "code",
   "execution_count": 38,
   "metadata": {},
   "outputs": [],
   "source": [
    "#\n",
    "#Engaged = > 55\n",
    "engaged2 = module2mg['Course total (Real)'] > 55\n"
   ]
  },
  {
   "cell_type": "code",
   "execution_count": 39,
   "metadata": {
    "collapsed": true
   },
   "outputs": [],
   "source": [
    "\n",
    "# Create a new column called df.engaged where the value is yes\n",
    "# if df.age is greater than 55 and no if not\n",
    "module2mg['engaged'] = np.where(module2mg['Course total (Real)']>=55, '1', '0')\n",
    "\n",
    "\n"
   ]
  },
  {
   "cell_type": "code",
   "execution_count": 41,
   "metadata": {
    "collapsed": true
   },
   "outputs": [],
   "source": [
    "module2mg['engaged'] = pd.to_numeric(module2mg['engaged'])"
   ]
  },
  {
   "cell_type": "code",
   "execution_count": 42,
   "metadata": {},
   "outputs": [
    {
     "data": {
      "text/html": [
       "<div>\n",
       "<style>\n",
       "    .dataframe thead tr:only-child th {\n",
       "        text-align: right;\n",
       "    }\n",
       "\n",
       "    .dataframe thead th {\n",
       "        text-align: left;\n",
       "    }\n",
       "\n",
       "    .dataframe tbody tr th {\n",
       "        vertical-align: top;\n",
       "    }\n",
       "</style>\n",
       "<table border=\"1\" class=\"dataframe\">\n",
       "  <thead>\n",
       "    <tr style=\"text-align: right;\">\n",
       "      <th></th>\n",
       "      <th>First name</th>\n",
       "      <th>Surname</th>\n",
       "      <th>ID number</th>\n",
       "      <th>Email address</th>\n",
       "      <th>Quiz: CA3 - QUIZ  (Real)</th>\n",
       "      <th>Assignment: UPLOAD ASSIGNMENT 1 - POWERPOINT PRESENTATION (Real)</th>\n",
       "      <th>Assignment: UPLOAD ASSIGNMENT 2 - REFLECTIVE WRITING (Real)</th>\n",
       "      <th>Course total (Real)</th>\n",
       "      <th>Last downloaded from this course</th>\n",
       "      <th>engaged</th>\n",
       "    </tr>\n",
       "  </thead>\n",
       "  <tbody>\n",
       "    <tr>\n",
       "      <th>0</th>\n",
       "      <td>a8NM</td>\n",
       "      <td>bDqB</td>\n",
       "      <td>U8NMDqBG</td>\n",
       "      <td>U8NMDqBG@student.itb.ie</td>\n",
       "      <td>7.30</td>\n",
       "      <td>13</td>\n",
       "      <td>32</td>\n",
       "      <td>52.30</td>\n",
       "      <td>1548158947</td>\n",
       "      <td>0</td>\n",
       "    </tr>\n",
       "    <tr>\n",
       "      <th>1</th>\n",
       "      <td>aSnR</td>\n",
       "      <td>bGk9</td>\n",
       "      <td>VSnRGk9O</td>\n",
       "      <td>VSnRGk9O@student.itb.ie</td>\n",
       "      <td>8.55</td>\n",
       "      <td>10</td>\n",
       "      <td>38</td>\n",
       "      <td>56.55</td>\n",
       "      <td>1548158947</td>\n",
       "      <td>1</td>\n",
       "    </tr>\n",
       "  </tbody>\n",
       "</table>\n",
       "</div>"
      ],
      "text/plain": [
       "  First name Surname ID number            Email address  \\\n",
       "0       a8NM    bDqB  U8NMDqBG  U8NMDqBG@student.itb.ie   \n",
       "1       aSnR    bGk9  VSnRGk9O  VSnRGk9O@student.itb.ie   \n",
       "\n",
       "   Quiz: CA3 - QUIZ  (Real)  \\\n",
       "0                      7.30   \n",
       "1                      8.55   \n",
       "\n",
       "   Assignment: UPLOAD ASSIGNMENT 1 - POWERPOINT PRESENTATION (Real)  \\\n",
       "0                                                 13                  \n",
       "1                                                 10                  \n",
       "\n",
       "   Assignment: UPLOAD ASSIGNMENT 2 - REFLECTIVE WRITING (Real)  \\\n",
       "0                                                 32             \n",
       "1                                                 38             \n",
       "\n",
       "   Course total (Real)  Last downloaded from this course  engaged  \n",
       "0                52.30                        1548158947        0  \n",
       "1                56.55                        1548158947        1  "
      ]
     },
     "execution_count": 42,
     "metadata": {},
     "output_type": "execute_result"
    }
   ],
   "source": [
    "module2mg.head(2)"
   ]
  },
  {
   "cell_type": "code",
   "execution_count": 43,
   "metadata": {
    "collapsed": true
   },
   "outputs": [],
   "source": [
    "disengaged2 = module2mg['Course total (Real)'] < 55"
   ]
  },
  {
   "cell_type": "code",
   "execution_count": 44,
   "metadata": {},
   "outputs": [
    {
     "data": {
      "text/plain": [
       "138"
      ]
     },
     "execution_count": 44,
     "metadata": {},
     "output_type": "execute_result"
    }
   ],
   "source": [
    "disengaged2.count()"
   ]
  },
  {
   "cell_type": "code",
   "execution_count": 45,
   "metadata": {},
   "outputs": [
    {
     "data": {
      "text/plain": [
       "138"
      ]
     },
     "execution_count": 45,
     "metadata": {},
     "output_type": "execute_result"
    }
   ],
   "source": [
    "engaged2.count()"
   ]
  },
  {
   "cell_type": "code",
   "execution_count": 46,
   "metadata": {},
   "outputs": [
    {
     "name": "stdout",
     "output_type": "stream",
     "text": [
      "1    84\n",
      "0    54\n",
      "Name: engaged, dtype: int64\n"
     ]
    }
   ],
   "source": [
    "print(module2mg['engaged'].value_counts(dropna=False))"
   ]
  },
  {
   "cell_type": "code",
   "execution_count": 47,
   "metadata": {},
   "outputs": [
    {
     "data": {
      "text/plain": [
       "First name                                                           object\n",
       "Surname                                                              object\n",
       "ID number                                                            object\n",
       "Email address                                                        object\n",
       "Quiz: CA3 - QUIZ  (Real)                                            float64\n",
       "Assignment: UPLOAD ASSIGNMENT 1 - POWERPOINT PRESENTATION (Real)      int64\n",
       "Assignment: UPLOAD ASSIGNMENT 2 - REFLECTIVE WRITING (Real)           int64\n",
       "Course total (Real)                                                 float64\n",
       "Last downloaded from this course                                      int64\n",
       "engaged                                                               int64\n",
       "dtype: object"
      ]
     },
     "execution_count": 47,
     "metadata": {},
     "output_type": "execute_result"
    }
   ],
   "source": [
    "module2mg.dtypes"
   ]
  },
  {
   "cell_type": "code",
   "execution_count": 48,
   "metadata": {
    "collapsed": true
   },
   "outputs": [],
   "source": [
    "m2mg_subset = module2mg.drop(module2mg[['Email address','Last downloaded from this course']], axis=1)\n",
    "#dropcolumnsm2mg"
   ]
  },
  {
   "cell_type": "code",
   "execution_count": 49,
   "metadata": {},
   "outputs": [
    {
     "data": {
      "text/plain": [
       "First name                                                           object\n",
       "Surname                                                              object\n",
       "ID number                                                            object\n",
       "Quiz: CA3 - QUIZ  (Real)                                            float64\n",
       "Assignment: UPLOAD ASSIGNMENT 1 - POWERPOINT PRESENTATION (Real)      int64\n",
       "Assignment: UPLOAD ASSIGNMENT 2 - REFLECTIVE WRITING (Real)           int64\n",
       "Course total (Real)                                                 float64\n",
       "engaged                                                               int64\n",
       "dtype: object"
      ]
     },
     "execution_count": 49,
     "metadata": {},
     "output_type": "execute_result"
    }
   ],
   "source": [
    "m2mg_subset.dtypes"
   ]
  },
  {
   "cell_type": "code",
   "execution_count": 50,
   "metadata": {},
   "outputs": [
    {
     "data": {
      "text/html": [
       "<div>\n",
       "<style>\n",
       "    .dataframe thead tr:only-child th {\n",
       "        text-align: right;\n",
       "    }\n",
       "\n",
       "    .dataframe thead th {\n",
       "        text-align: left;\n",
       "    }\n",
       "\n",
       "    .dataframe tbody tr th {\n",
       "        vertical-align: top;\n",
       "    }\n",
       "</style>\n",
       "<table border=\"1\" class=\"dataframe\">\n",
       "  <thead>\n",
       "    <tr style=\"text-align: right;\">\n",
       "      <th></th>\n",
       "      <th>First name</th>\n",
       "      <th>Surname</th>\n",
       "      <th>ID number</th>\n",
       "      <th>Quiz: CA3 - QUIZ  (Real)</th>\n",
       "      <th>Assignment: UPLOAD ASSIGNMENT 1 - POWERPOINT PRESENTATION (Real)</th>\n",
       "      <th>Assignment: UPLOAD ASSIGNMENT 2 - REFLECTIVE WRITING (Real)</th>\n",
       "      <th>Course total (Real)</th>\n",
       "      <th>engaged</th>\n",
       "    </tr>\n",
       "  </thead>\n",
       "  <tbody>\n",
       "    <tr>\n",
       "      <th>0</th>\n",
       "      <td>a8NM</td>\n",
       "      <td>bDqB</td>\n",
       "      <td>U8NMDqBG</td>\n",
       "      <td>7.30</td>\n",
       "      <td>13</td>\n",
       "      <td>32</td>\n",
       "      <td>52.30</td>\n",
       "      <td>0</td>\n",
       "    </tr>\n",
       "    <tr>\n",
       "      <th>1</th>\n",
       "      <td>aSnR</td>\n",
       "      <td>bGk9</td>\n",
       "      <td>VSnRGk9O</td>\n",
       "      <td>8.55</td>\n",
       "      <td>10</td>\n",
       "      <td>38</td>\n",
       "      <td>56.55</td>\n",
       "      <td>1</td>\n",
       "    </tr>\n",
       "  </tbody>\n",
       "</table>\n",
       "</div>"
      ],
      "text/plain": [
       "  First name Surname ID number  Quiz: CA3 - QUIZ  (Real)  \\\n",
       "0       a8NM    bDqB  U8NMDqBG                      7.30   \n",
       "1       aSnR    bGk9  VSnRGk9O                      8.55   \n",
       "\n",
       "   Assignment: UPLOAD ASSIGNMENT 1 - POWERPOINT PRESENTATION (Real)  \\\n",
       "0                                                 13                  \n",
       "1                                                 10                  \n",
       "\n",
       "   Assignment: UPLOAD ASSIGNMENT 2 - REFLECTIVE WRITING (Real)  \\\n",
       "0                                                 32             \n",
       "1                                                 38             \n",
       "\n",
       "   Course total (Real)  engaged  \n",
       "0                52.30        0  \n",
       "1                56.55        1  "
      ]
     },
     "execution_count": 50,
     "metadata": {},
     "output_type": "execute_result"
    }
   ],
   "source": [
    "m2mg_subset.head(2)"
   ]
  },
  {
   "cell_type": "code",
   "execution_count": 51,
   "metadata": {
    "collapsed": true
   },
   "outputs": [],
   "source": [
    "Xm2mg = m2mg_subset.iloc[:,3:6]  #independent columns\n",
    "ym2mg = m2mg_subset.iloc[:,-1]    #target column i.e engaged\n"
   ]
  },
  {
   "cell_type": "code",
   "execution_count": 52,
   "metadata": {},
   "outputs": [
    {
     "data": {
      "text/html": [
       "<div>\n",
       "<style>\n",
       "    .dataframe thead tr:only-child th {\n",
       "        text-align: right;\n",
       "    }\n",
       "\n",
       "    .dataframe thead th {\n",
       "        text-align: left;\n",
       "    }\n",
       "\n",
       "    .dataframe tbody tr th {\n",
       "        vertical-align: top;\n",
       "    }\n",
       "</style>\n",
       "<table border=\"1\" class=\"dataframe\">\n",
       "  <thead>\n",
       "    <tr style=\"text-align: right;\">\n",
       "      <th></th>\n",
       "      <th>Quiz: CA3 - QUIZ  (Real)</th>\n",
       "      <th>Assignment: UPLOAD ASSIGNMENT 1 - POWERPOINT PRESENTATION (Real)</th>\n",
       "      <th>Assignment: UPLOAD ASSIGNMENT 2 - REFLECTIVE WRITING (Real)</th>\n",
       "    </tr>\n",
       "  </thead>\n",
       "  <tbody>\n",
       "    <tr>\n",
       "      <th>0</th>\n",
       "      <td>7.30</td>\n",
       "      <td>13</td>\n",
       "      <td>32</td>\n",
       "    </tr>\n",
       "    <tr>\n",
       "      <th>1</th>\n",
       "      <td>8.55</td>\n",
       "      <td>10</td>\n",
       "      <td>38</td>\n",
       "    </tr>\n",
       "  </tbody>\n",
       "</table>\n",
       "</div>"
      ],
      "text/plain": [
       "   Quiz: CA3 - QUIZ  (Real)  \\\n",
       "0                      7.30   \n",
       "1                      8.55   \n",
       "\n",
       "   Assignment: UPLOAD ASSIGNMENT 1 - POWERPOINT PRESENTATION (Real)  \\\n",
       "0                                                 13                  \n",
       "1                                                 10                  \n",
       "\n",
       "   Assignment: UPLOAD ASSIGNMENT 2 - REFLECTIVE WRITING (Real)  \n",
       "0                                                 32            \n",
       "1                                                 38            "
      ]
     },
     "execution_count": 52,
     "metadata": {},
     "output_type": "execute_result"
    }
   ],
   "source": [
    "Xm2mg.head(2)"
   ]
  },
  {
   "cell_type": "code",
   "execution_count": 53,
   "metadata": {},
   "outputs": [
    {
     "data": {
      "text/plain": [
       "0    0\n",
       "1    1\n",
       "Name: engaged, dtype: int64"
      ]
     },
     "execution_count": 53,
     "metadata": {},
     "output_type": "execute_result"
    }
   ],
   "source": [
    "ym2mg.head(2)"
   ]
  },
  {
   "cell_type": "code",
   "execution_count": 54,
   "metadata": {},
   "outputs": [
    {
     "name": "stdout",
     "output_type": "stream",
     "text": [
      "                                               Specs       Score\n",
      "2  Assignment: UPLOAD ASSIGNMENT 2 - REFLECTIVE W...  255.571899\n",
      "1  Assignment: UPLOAD ASSIGNMENT 1 - POWERPOINT P...   59.808132\n",
      "0                           Quiz: CA3 - QUIZ  (Real)   33.564287\n"
     ]
    }
   ],
   "source": [
    "#apply SelectKBest class to extract top 4 best features\n",
    "bestfeatures = SelectKBest(score_func=chi2, k=3)\n",
    "fit = bestfeatures.fit(Xm2mg,ym2mg)\n",
    "dfscores = pd.DataFrame(fit.scores_)\n",
    "dfcolumns = pd.DataFrame(Xm2mg.columns)\n",
    "#concat two dataframes for better visualization \n",
    "featureScores = pd.concat([dfcolumns,dfscores],axis=1)\n",
    "featureScores.columns = ['Specs','Score']  #naming the dataframe columns\n",
    "print(featureScores.nlargest(10,'Score'))  #print 10 best features\n",
    "#https://towardsdatascience.com/feature-selection-techniques-in-machine-learning-with-python-f24e7da3f36e\n"
   ]
  },
  {
   "cell_type": "code",
   "execution_count": 55,
   "metadata": {},
   "outputs": [
    {
     "name": "stdout",
     "output_type": "stream",
     "text": [
      "[ 0.19969996  0.26787527  0.53242477]\n"
     ]
    },
    {
     "data": {
      "image/png": "[encoded data removed]",
      "text/plain": [
       "<matplotlib.figure.Figure at 0x22dcf647390>"
      ]
     },
     "metadata": {},
     "output_type": "display_data"
    }
   ],
   "source": [
    "from sklearn.ensemble import ExtraTreesClassifier\n",
    "import matplotlib.pyplot as plt\n",
    "model = ExtraTreesClassifier()\n",
    "model.fit(Xm2mg,ym2mg)\n",
    "print(model.feature_importances_) #use inbuilt class feature_importances of tree based classifiers\n",
    "#plot graph of feature importances for better visualization\n",
    "feat_importances = pd.Series(model.feature_importances_, index=Xm2mg.columns)\n",
    "feat_importances.nlargest(10).plot(kind='barh')\n",
    "plt.show()\n"
   ]
  },
  {
   "cell_type": "code",
   "execution_count": 56,
   "metadata": {},
   "outputs": [
    {
     "data": {
      "image/png": "[encoded data removed]",
      "text/plain": [
       "<matplotlib.figure.Figure at 0x22dd0784320>"
      ]
     },
     "metadata": {},
     "output_type": "display_data"
    }
   ],
   "source": [
    "#get correlations of each features in dataset\n",
    "corrmat = m2mg_subset.corr()\n",
    "top_corr_features = corrmat.index\n",
    "plt.figure(figsize=(20,20))\n",
    "#plot heat map\n",
    "g=sns.heatmap(m2mg_subset[top_corr_features].corr(),annot=True,cmap=\"RdYlGn\")\n",
    "\n"
   ]
  },
  {
   "cell_type": "code",
   "execution_count": 57,
   "metadata": {},
   "outputs": [
    {
     "data": {
      "text/plain": [
       "<matplotlib.axes._subplots.AxesSubplot at 0x22dd075cc88>"
      ]
     },
     "execution_count": 57,
     "metadata": {},
     "output_type": "execute_result"
    },
    {
     "data": {
      "image/png": "[encoded data removed]",
      "text/plain": [
       "<matplotlib.figure.Figure at 0x22dcf6733c8>"
      ]
     },
     "metadata": {},
     "output_type": "display_data"
    }
   ],
   "source": [
    "sns.distplot(m2mg['Course total (Real)'])"
   ]
  },
  {
   "cell_type": "code",
   "execution_count": 63,
   "metadata": {},
   "outputs": [
    {
     "data": {
      "text/plain": [
       "<matplotlib.axes._subplots.AxesSubplot at 0x22dd0564fd0>"
      ]
     },
     "execution_count": 63,
     "metadata": {},
     "output_type": "execute_result"
    },
    {
     "data": {
      "image/png": "[encoded data removed]",
      "text/plain": [
       "<matplotlib.figure.Figure at 0x22dcf6d2438>"
      ]
     },
     "metadata": {},
     "output_type": "display_data"
    }
   ],
   "source": [
    "module2mg['Course total (Real)'].plot('hist')"
   ]
  },
  {
   "cell_type": "code",
   "execution_count": 59,
   "metadata": {},
   "outputs": [
    {
     "data": {
      "text/html": [
       "<div>\n",
       "<style>\n",
       "    .dataframe thead tr:only-child th {\n",
       "        text-align: right;\n",
       "    }\n",
       "\n",
       "    .dataframe thead th {\n",
       "        text-align: left;\n",
       "    }\n",
       "\n",
       "    .dataframe tbody tr th {\n",
       "        vertical-align: top;\n",
       "    }\n",
       "</style>\n",
       "<table border=\"1\" class=\"dataframe\">\n",
       "  <thead>\n",
       "    <tr style=\"text-align: right;\">\n",
       "      <th></th>\n",
       "      <th>Time</th>\n",
       "      <th>User full name</th>\n",
       "      <th>Event context</th>\n",
       "      <th>Component</th>\n",
       "      <th>Event name</th>\n",
       "      <th>Date</th>\n",
       "      <th>First name</th>\n",
       "      <th>Last name</th>\n",
       "    </tr>\n",
       "  </thead>\n",
       "  <tbody>\n",
       "    <tr>\n",
       "      <th>4</th>\n",
       "      <td>20:32</td>\n",
       "      <td>ae3w bhew</td>\n",
       "      <td>Course: Module 2</td>\n",
       "      <td>System</td>\n",
       "      <td>Course user report viewed</td>\n",
       "      <td>2019-01-21</td>\n",
       "      <td>ae3w</td>\n",
       "      <td>bhew</td>\n",
       "    </tr>\n",
       "    <tr>\n",
       "      <th>5</th>\n",
       "      <td>17:39</td>\n",
       "      <td>agtk bqpc</td>\n",
       "      <td>Assignment: UPLOAD ASSIGNMENT 2 - REFLECTIVE W...</td>\n",
       "      <td>Assignment</td>\n",
       "      <td>The status of the submission has been viewed.</td>\n",
       "      <td>2019-01-21</td>\n",
       "      <td>agtk</td>\n",
       "      <td>bqpc</td>\n",
       "    </tr>\n",
       "  </tbody>\n",
       "</table>\n",
       "</div>"
      ],
      "text/plain": [
       "     Time User full name                                      Event context  \\\n",
       "4   20:32      ae3w bhew                                   Course: Module 2   \n",
       "5   17:39      agtk bqpc  Assignment: UPLOAD ASSIGNMENT 2 - REFLECTIVE W...   \n",
       "\n",
       "    Component                                     Event name       Date  \\\n",
       "4      System                      Course user report viewed 2019-01-21   \n",
       "5  Assignment  The status of the submission has been viewed. 2019-01-21   \n",
       "\n",
       "  First name Last name  \n",
       "4       ae3w      bhew  \n",
       "5       agtk      bqpc  "
      ]
     },
     "execution_count": 59,
     "metadata": {},
     "output_type": "execute_result"
    }
   ],
   "source": [
    "module2ml.head(2)"
   ]
  },
  {
   "cell_type": "code",
   "execution_count": 64,
   "metadata": {},
   "outputs": [
    {
     "data": {
      "text/plain": [
       "Course: Module 2                                             5576\n",
       "Assignment: UPLOAD ASSIGNMENT 1 - POWERPOINT PRESENTATION    1754\n",
       "Assignment: UPLOAD ASSIGNMENT 2 - REFLECTIVE WRITING         1474\n",
       "File: ASSIGNMENT 2 - REFLECTIVE WRITING                       745\n",
       "File: TEMPLATE FOR ASSIGNMENT 2                               727\n",
       "Name: Event context, dtype: int64"
      ]
     },
     "execution_count": 64,
     "metadata": {},
     "output_type": "execute_result"
    }
   ],
   "source": [
    "module2ml['Event context'].value_counts(dropna=False).head()"
   ]
  },
  {
   "cell_type": "code",
   "execution_count": 65,
   "metadata": {},
   "outputs": [
    {
     "data": {
      "text/plain": [
       "Course module viewed                             6916\n",
       "Course viewed                                    4507\n",
       "The status of the submission has been viewed.    1508\n",
       "Submission form viewed.                           461\n",
       "Grade user report viewed                          422\n",
       "Name: Event name, dtype: int64"
      ]
     },
     "execution_count": 65,
     "metadata": {},
     "output_type": "execute_result"
    }
   ],
   "source": [
    "module2ml['Event name'].value_counts(dropna=False).head()"
   ]
  },
  {
   "cell_type": "code",
   "execution_count": 66,
   "metadata": {},
   "outputs": [
    {
     "data": {
      "text/plain": [
       "an9y b7rk    483\n",
       "aiG1 bhcI    301\n",
       "ag2x bJ2S    209\n",
       "aoJd bWB4    208\n",
       "ahsi bWD5    207\n",
       "Name: User full name, dtype: int64"
      ]
     },
     "execution_count": 66,
     "metadata": {},
     "output_type": "execute_result"
    }
   ],
   "source": [
    "module2ml['User full name'].value_counts(dropna=False).head()"
   ]
  },
  {
   "cell_type": "code",
   "execution_count": 60,
   "metadata": {},
   "outputs": [],
   "source": [
    "# Selecting columns\n",
    "m2ml = module2ml[[ 'Time','User full name','Event context','Component','Event name','Date','First name','Last name']]"
   ]
  },
  {
   "cell_type": "code",
   "execution_count": 61,
   "metadata": {},
   "outputs": [
    {
     "data": {
      "text/html": [
       "<div>\n",
       "<style>\n",
       "    .dataframe thead tr:only-child th {\n",
       "        text-align: right;\n",
       "    }\n",
       "\n",
       "    .dataframe thead th {\n",
       "        text-align: left;\n",
       "    }\n",
       "\n",
       "    .dataframe tbody tr th {\n",
       "        vertical-align: top;\n",
       "    }\n",
       "</style>\n",
       "<table border=\"1\" class=\"dataframe\">\n",
       "  <thead>\n",
       "    <tr style=\"text-align: right;\">\n",
       "      <th></th>\n",
       "      <th>count</th>\n",
       "      <th>unique</th>\n",
       "      <th>top</th>\n",
       "      <th>freq</th>\n",
       "      <th>first</th>\n",
       "      <th>last</th>\n",
       "    </tr>\n",
       "  </thead>\n",
       "  <tbody>\n",
       "    <tr>\n",
       "      <th>Time</th>\n",
       "      <td>15794</td>\n",
       "      <td>1142</td>\n",
       "      <td>12:07</td>\n",
       "      <td>105</td>\n",
       "      <td>NaN</td>\n",
       "      <td>NaN</td>\n",
       "    </tr>\n",
       "    <tr>\n",
       "      <th>User full name</th>\n",
       "      <td>15794</td>\n",
       "      <td>138</td>\n",
       "      <td>an9y b7rk</td>\n",
       "      <td>483</td>\n",
       "      <td>NaN</td>\n",
       "      <td>NaN</td>\n",
       "    </tr>\n",
       "    <tr>\n",
       "      <th>Event context</th>\n",
       "      <td>15794</td>\n",
       "      <td>66</td>\n",
       "      <td>Course: Module 2</td>\n",
       "      <td>5576</td>\n",
       "      <td>NaN</td>\n",
       "      <td>NaN</td>\n",
       "    </tr>\n",
       "    <tr>\n",
       "      <th>Component</th>\n",
       "      <td>15794</td>\n",
       "      <td>9</td>\n",
       "      <td>File</td>\n",
       "      <td>5091</td>\n",
       "      <td>NaN</td>\n",
       "      <td>NaN</td>\n",
       "    </tr>\n",
       "    <tr>\n",
       "      <th>Event name</th>\n",
       "      <td>15794</td>\n",
       "      <td>25</td>\n",
       "      <td>Course module viewed</td>\n",
       "      <td>6916</td>\n",
       "      <td>NaN</td>\n",
       "      <td>NaN</td>\n",
       "    </tr>\n",
       "    <tr>\n",
       "      <th>Date</th>\n",
       "      <td>15794</td>\n",
       "      <td>88</td>\n",
       "      <td>2018-10-18 00:00:00</td>\n",
       "      <td>1583</td>\n",
       "      <td>2018-09-18 00:00:00</td>\n",
       "      <td>2019-01-21 00:00:00</td>\n",
       "    </tr>\n",
       "    <tr>\n",
       "      <th>First name</th>\n",
       "      <td>15794</td>\n",
       "      <td>138</td>\n",
       "      <td>an9y</td>\n",
       "      <td>483</td>\n",
       "      <td>NaN</td>\n",
       "      <td>NaN</td>\n",
       "    </tr>\n",
       "    <tr>\n",
       "      <th>Last name</th>\n",
       "      <td>15794</td>\n",
       "      <td>138</td>\n",
       "      <td>b7rk</td>\n",
       "      <td>483</td>\n",
       "      <td>NaN</td>\n",
       "      <td>NaN</td>\n",
       "    </tr>\n",
       "  </tbody>\n",
       "</table>\n",
       "</div>"
      ],
      "text/plain": [
       "                count unique                   top  freq                first  \\\n",
       "Time            15794   1142                 12:07   105                  NaN   \n",
       "User full name  15794    138             an9y b7rk   483                  NaN   \n",
       "Event context   15794     66      Course: Module 2  5576                  NaN   \n",
       "Component       15794      9                  File  5091                  NaN   \n",
       "Event name      15794     25  Course module viewed  6916                  NaN   \n",
       "Date            15794     88   2018-10-18 00:00:00  1583  2018-09-18 00:00:00   \n",
       "First name      15794    138                  an9y   483                  NaN   \n",
       "Last name       15794    138                  b7rk   483                  NaN   \n",
       "\n",
       "                               last  \n",
       "Time                            NaN  \n",
       "User full name                  NaN  \n",
       "Event context                   NaN  \n",
       "Component                       NaN  \n",
       "Event name                      NaN  \n",
       "Date            2019-01-21 00:00:00  \n",
       "First name                      NaN  \n",
       "Last name                       NaN  "
      ]
     },
     "execution_count": 61,
     "metadata": {},
     "output_type": "execute_result"
    }
   ],
   "source": [
    "m2ml.describe().transpose()\n",
    "# Most frequent student = an9y b7rk\n",
    "# Course Module 2 most viewed\n",
    "# \n",
    "\n",
    "#Attribute Information:\n",
    "\n",
    "#Affected user: It contains the name of the user if the action is related to them.This has been removed as it is blank\n",
    "#Time: It contains the date, month and time stamp of the log entry when it was recorded. (Year infomration may or may not be included)\n",
    "#User full name: Name of the user is listed in this column.\n",
    "#Event context: It displays the name of the activity or resource. Ex: Course: Module 2 was most frequent\n",
    "#Component: It displays the type of the activity or resource. Ex: File, System, Assignment, Quiz ... System was most frequent\n",
    "#Event name: Displays in relation to users' actions.A user can do CRUD actions in Moodle - Create, View, Update and Delete.Course module viewed is the most popular\n",
    "#Description: It contains descriptive information about the action performed by the user.This will be removed\n",
    "#IP address: Shows the IP address of the user.This will be removed as this does not provide any information\n",
    "#Origin: It indicates whether the user performed an action using a desktop/laptop or mobile. Any user activity from a mobile device will be recorded as 'ws'.\n"
   ]
  },
  {
   "cell_type": "code",
   "execution_count": 62,
   "metadata": {},
   "outputs": [
    {
     "data": {
      "text/html": [
       "<div>\n",
       "<style>\n",
       "    .dataframe thead tr:only-child th {\n",
       "        text-align: right;\n",
       "    }\n",
       "\n",
       "    .dataframe thead th {\n",
       "        text-align: left;\n",
       "    }\n",
       "\n",
       "    .dataframe tbody tr th {\n",
       "        vertical-align: top;\n",
       "    }\n",
       "</style>\n",
       "<table border=\"1\" class=\"dataframe\">\n",
       "  <thead>\n",
       "    <tr style=\"text-align: right;\">\n",
       "      <th></th>\n",
       "      <th>Time</th>\n",
       "      <th>User full name</th>\n",
       "      <th>Event context</th>\n",
       "      <th>Component</th>\n",
       "      <th>Event name</th>\n",
       "      <th>Date</th>\n",
       "      <th>First name</th>\n",
       "      <th>Last name</th>\n",
       "    </tr>\n",
       "  </thead>\n",
       "  <tbody>\n",
       "    <tr>\n",
       "      <th>4</th>\n",
       "      <td>20:32</td>\n",
       "      <td>ae3w bhew</td>\n",
       "      <td>Course: Module 2</td>\n",
       "      <td>System</td>\n",
       "      <td>Course user report viewed</td>\n",
       "      <td>2019-01-21</td>\n",
       "      <td>ae3w</td>\n",
       "      <td>bhew</td>\n",
       "    </tr>\n",
       "    <tr>\n",
       "      <th>5</th>\n",
       "      <td>17:39</td>\n",
       "      <td>agtk bqpc</td>\n",
       "      <td>Assignment: UPLOAD ASSIGNMENT 2 - REFLECTIVE W...</td>\n",
       "      <td>Assignment</td>\n",
       "      <td>The status of the submission has been viewed.</td>\n",
       "      <td>2019-01-21</td>\n",
       "      <td>agtk</td>\n",
       "      <td>bqpc</td>\n",
       "    </tr>\n",
       "  </tbody>\n",
       "</table>\n",
       "</div>"
      ],
      "text/plain": [
       "     Time User full name                                      Event context  \\\n",
       "4   20:32      ae3w bhew                                   Course: Module 2   \n",
       "5   17:39      agtk bqpc  Assignment: UPLOAD ASSIGNMENT 2 - REFLECTIVE W...   \n",
       "\n",
       "    Component                                     Event name       Date  \\\n",
       "4      System                      Course user report viewed 2019-01-21   \n",
       "5  Assignment  The status of the submission has been viewed. 2019-01-21   \n",
       "\n",
       "  First name Last name  \n",
       "4       ae3w      bhew  \n",
       "5       agtk      bqpc  "
      ]
     },
     "execution_count": 62,
     "metadata": {},
     "output_type": "execute_result"
    }
   ],
   "source": [
    "m2ml.head(2)"
   ]
  },
  {
   "cell_type": "code",
   "execution_count": 68,
   "metadata": {},
   "outputs": [
    {
     "data": {
      "text/html": [
       "<div>\n",
       "<style>\n",
       "    .dataframe thead tr:only-child th {\n",
       "        text-align: right;\n",
       "    }\n",
       "\n",
       "    .dataframe thead th {\n",
       "        text-align: left;\n",
       "    }\n",
       "\n",
       "    .dataframe tbody tr th {\n",
       "        vertical-align: top;\n",
       "    }\n",
       "</style>\n",
       "<table border=\"1\" class=\"dataframe\">\n",
       "  <thead>\n",
       "    <tr style=\"text-align: right;\">\n",
       "      <th></th>\n",
       "      <th>First name</th>\n",
       "      <th>Surname</th>\n",
       "      <th>ID number</th>\n",
       "      <th>Quiz: CA3 - QUIZ  (Real)</th>\n",
       "      <th>Course total (Real)</th>\n",
       "      <th>Assignment: UPLOAD ASSIGNMENT 1 - POWERPOINT PRESENTATION (Real)</th>\n",
       "      <th>Assignment: UPLOAD ASSIGNMENT 2 - REFLECTIVE WRITING (Real)</th>\n",
       "    </tr>\n",
       "  </thead>\n",
       "  <tbody>\n",
       "    <tr>\n",
       "      <th>0</th>\n",
       "      <td>a8NM</td>\n",
       "      <td>bDqB</td>\n",
       "      <td>U8NMDqBG</td>\n",
       "      <td>7.30</td>\n",
       "      <td>52.30</td>\n",
       "      <td>13</td>\n",
       "      <td>32</td>\n",
       "    </tr>\n",
       "    <tr>\n",
       "      <th>1</th>\n",
       "      <td>aSnR</td>\n",
       "      <td>bGk9</td>\n",
       "      <td>VSnRGk9O</td>\n",
       "      <td>8.55</td>\n",
       "      <td>56.55</td>\n",
       "      <td>10</td>\n",
       "      <td>38</td>\n",
       "    </tr>\n",
       "  </tbody>\n",
       "</table>\n",
       "</div>"
      ],
      "text/plain": [
       "  First name Surname ID number  Quiz: CA3 - QUIZ  (Real)  Course total (Real)  \\\n",
       "0       a8NM    bDqB  U8NMDqBG                      7.30                52.30   \n",
       "1       aSnR    bGk9  VSnRGk9O                      8.55                56.55   \n",
       "\n",
       "   Assignment: UPLOAD ASSIGNMENT 1 - POWERPOINT PRESENTATION (Real)  \\\n",
       "0                                                 13                  \n",
       "1                                                 10                  \n",
       "\n",
       "   Assignment: UPLOAD ASSIGNMENT 2 - REFLECTIVE WRITING (Real)  \n",
       "0                                                 32            \n",
       "1                                                 38            "
      ]
     },
     "execution_count": 68,
     "metadata": {},
     "output_type": "execute_result"
    }
   ],
   "source": [
    "m2mg.head(2)"
   ]
  },
  {
   "cell_type": "code",
   "execution_count": 69,
   "metadata": {},
   "outputs": [
    {
     "data": {
      "text/html": [
       "<div>\n",
       "<style>\n",
       "    .dataframe thead tr:only-child th {\n",
       "        text-align: right;\n",
       "    }\n",
       "\n",
       "    .dataframe thead th {\n",
       "        text-align: left;\n",
       "    }\n",
       "\n",
       "    .dataframe tbody tr th {\n",
       "        vertical-align: top;\n",
       "    }\n",
       "</style>\n",
       "<table border=\"1\" class=\"dataframe\">\n",
       "  <thead>\n",
       "    <tr style=\"text-align: right;\">\n",
       "      <th></th>\n",
       "      <th>Quiz: CA3 - QUIZ  (Real)</th>\n",
       "      <th>Course total (Real)</th>\n",
       "      <th>Assignment: UPLOAD ASSIGNMENT 1 - POWERPOINT PRESENTATION (Real)</th>\n",
       "      <th>Assignment: UPLOAD ASSIGNMENT 2 - REFLECTIVE WRITING (Real)</th>\n",
       "    </tr>\n",
       "  </thead>\n",
       "  <tbody>\n",
       "    <tr>\n",
       "      <th>count</th>\n",
       "      <td>138.000000</td>\n",
       "      <td>138.000000</td>\n",
       "      <td>138.000000</td>\n",
       "      <td>138.000000</td>\n",
       "    </tr>\n",
       "    <tr>\n",
       "      <th>mean</th>\n",
       "      <td>8.273913</td>\n",
       "      <td>55.665290</td>\n",
       "      <td>11.739130</td>\n",
       "      <td>34.572464</td>\n",
       "    </tr>\n",
       "    <tr>\n",
       "      <th>std</th>\n",
       "      <td>3.370353</td>\n",
       "      <td>16.672961</td>\n",
       "      <td>3.897041</td>\n",
       "      <td>12.775940</td>\n",
       "    </tr>\n",
       "    <tr>\n",
       "      <th>min</th>\n",
       "      <td>0.000000</td>\n",
       "      <td>0.000000</td>\n",
       "      <td>0.000000</td>\n",
       "      <td>0.000000</td>\n",
       "    </tr>\n",
       "    <tr>\n",
       "      <th>25%</th>\n",
       "      <td>7.212500</td>\n",
       "      <td>51.800000</td>\n",
       "      <td>11.000000</td>\n",
       "      <td>32.250000</td>\n",
       "    </tr>\n",
       "    <tr>\n",
       "      <th>50%</th>\n",
       "      <td>9.175000</td>\n",
       "      <td>58.100000</td>\n",
       "      <td>12.000000</td>\n",
       "      <td>37.000000</td>\n",
       "    </tr>\n",
       "    <tr>\n",
       "      <th>75%</th>\n",
       "      <td>10.737500</td>\n",
       "      <td>64.587500</td>\n",
       "      <td>14.000000</td>\n",
       "      <td>42.000000</td>\n",
       "    </tr>\n",
       "    <tr>\n",
       "      <th>max</th>\n",
       "      <td>13.400000</td>\n",
       "      <td>79.900000</td>\n",
       "      <td>19.000000</td>\n",
       "      <td>54.000000</td>\n",
       "    </tr>\n",
       "  </tbody>\n",
       "</table>\n",
       "</div>"
      ],
      "text/plain": [
       "       Quiz: CA3 - QUIZ  (Real)  Course total (Real)  \\\n",
       "count                138.000000           138.000000   \n",
       "mean                   8.273913            55.665290   \n",
       "std                    3.370353            16.672961   \n",
       "min                    0.000000             0.000000   \n",
       "25%                    7.212500            51.800000   \n",
       "50%                    9.175000            58.100000   \n",
       "75%                   10.737500            64.587500   \n",
       "max                   13.400000            79.900000   \n",
       "\n",
       "       Assignment: UPLOAD ASSIGNMENT 1 - POWERPOINT PRESENTATION (Real)  \\\n",
       "count                                         138.000000                  \n",
       "mean                                           11.739130                  \n",
       "std                                             3.897041                  \n",
       "min                                             0.000000                  \n",
       "25%                                            11.000000                  \n",
       "50%                                            12.000000                  \n",
       "75%                                            14.000000                  \n",
       "max                                            19.000000                  \n",
       "\n",
       "       Assignment: UPLOAD ASSIGNMENT 2 - REFLECTIVE WRITING (Real)  \n",
       "count                                         138.000000            \n",
       "mean                                           34.572464            \n",
       "std                                            12.775940            \n",
       "min                                             0.000000            \n",
       "25%                                            32.250000            \n",
       "50%                                            37.000000            \n",
       "75%                                            42.000000            \n",
       "max                                            54.000000            "
      ]
     },
     "execution_count": 69,
     "metadata": {},
     "output_type": "execute_result"
    }
   ],
   "source": [
    "m2mg.describe()"
   ]
  },
  {
   "cell_type": "code",
   "execution_count": null,
   "metadata": {
    "collapsed": true
   },
   "outputs": [],
   "source": [
    "#\n",
    "#\n",
    "#"
   ]
  },
  {
   "cell_type": "code",
   "execution_count": 70,
   "metadata": {
    "collapsed": true
   },
   "outputs": [],
   "source": [
    "m2ml_subset = module2ml"
   ]
  },
  {
   "cell_type": "code",
   "execution_count": 71,
   "metadata": {},
   "outputs": [
    {
     "name": "stdout",
     "output_type": "stream",
     "text": [
      "     Time User full name       Date First name Last name  \\\n",
      "4   20:32      ae3w bhew 2019-01-21       ae3w      bhew   \n",
      "5   17:39      agtk bqpc 2019-01-21       agtk      bqpc   \n",
      "6   17:37      aiJL bn2Z 2019-01-21       aiJL      bn2Z   \n",
      "7   17:37      aiJL bn2Z 2019-01-21       aiJL      bn2Z   \n",
      "8   15:04      aAWa b0mw 2019-01-21       aAWa      b0mw   \n",
      "\n",
      "   Event name_A file has been uploaded.  \\\n",
      "4                                     0   \n",
      "5                                     0   \n",
      "6                                     0   \n",
      "7                                     0   \n",
      "8                                     0   \n",
      "\n",
      "   Event name_A submission has been submitted.  \\\n",
      "4                                            0   \n",
      "5                                            0   \n",
      "6                                            0   \n",
      "7                                            0   \n",
      "8                                            0   \n",
      "\n",
      "   Event name_Badge listing viewed  \\\n",
      "4                                0   \n",
      "5                                0   \n",
      "6                                0   \n",
      "7                                0   \n",
      "8                                0   \n",
      "\n",
      "   Event name_Course module instance list viewed  \\\n",
      "4                                              0   \n",
      "5                                              0   \n",
      "6                                              0   \n",
      "7                                              0   \n",
      "8                                              0   \n",
      "\n",
      "   Event name_Course module viewed          ...            \\\n",
      "4                                0          ...             \n",
      "5                                0          ...             \n",
      "6                                1          ...             \n",
      "7                                0          ...             \n",
      "8                                0          ...             \n",
      "\n",
      "   Event context_URL: Video 2 - Beware of Online Filter Bubbles  \\\n",
      "4                                                  0              \n",
      "5                                                  0              \n",
      "6                                                  0              \n",
      "7                                                  0              \n",
      "8                                                  0              \n",
      "\n",
      "   Component_Assignment  Component_File  Component_File submissions  \\\n",
      "4                     0               0                           0   \n",
      "5                     1               0                           0   \n",
      "6                     0               1                           0   \n",
      "7                     0               0                           0   \n",
      "8                     0               0                           0   \n",
      "\n",
      "   Component_Forum  Component_Overview report  Component_Quiz  \\\n",
      "4                0                          0               0   \n",
      "5                0                          0               0   \n",
      "6                0                          0               0   \n",
      "7                0                          0               0   \n",
      "8                0                          0               0   \n",
      "\n",
      "   Component_System  Component_URL  Component_User report  \n",
      "4                 1              0                      0  \n",
      "5                 0              0                      0  \n",
      "6                 0              0                      0  \n",
      "7                 1              0                      0  \n",
      "8                 0              0                      1  \n",
      "\n",
      "[5 rows x 105 columns]\n"
     ]
    }
   ],
   "source": [
    "module2ml_onehot = m2ml_subset.copy()\n",
    "module2ml_onehot = pd.get_dummies(module2ml_onehot, columns=['Event name'], prefix = ['Event name'])\n",
    "module2ml_onehot = pd.get_dummies(module2ml_onehot, columns=['Event context'], prefix = ['Event context'])\n",
    "module2ml_onehot = pd.get_dummies(module2ml_onehot, columns=['Component'], prefix = ['Component'])\n",
    "\n",
    "\n",
    "print(module2ml_onehot.head())\n",
    "\n",
    "### Onehot2\n",
    "#\n",
    "# One-Hot encoding\n",
    "# The basic strategy is to convert each category value into a new column and assign a 1 or 0 (True/False) value to the column.\n",
    "# This has the benefit of not weighting a value improperly.\n",
    "# https://www.datacamp.com/community/tutorials/categorical-data"
   ]
  },
  {
   "cell_type": "code",
   "execution_count": 72,
   "metadata": {},
   "outputs": [
    {
     "data": {
      "text/html": [
       "<div>\n",
       "<style>\n",
       "    .dataframe thead tr:only-child th {\n",
       "        text-align: right;\n",
       "    }\n",
       "\n",
       "    .dataframe thead th {\n",
       "        text-align: left;\n",
       "    }\n",
       "\n",
       "    .dataframe tbody tr th {\n",
       "        vertical-align: top;\n",
       "    }\n",
       "</style>\n",
       "<table border=\"1\" class=\"dataframe\">\n",
       "  <thead>\n",
       "    <tr style=\"text-align: right;\">\n",
       "      <th></th>\n",
       "      <th>Time</th>\n",
       "      <th>User full name</th>\n",
       "      <th>Date</th>\n",
       "      <th>First name</th>\n",
       "      <th>Last name</th>\n",
       "      <th>Event name_A file has been uploaded.</th>\n",
       "      <th>Event name_A submission has been submitted.</th>\n",
       "      <th>Event name_Badge listing viewed</th>\n",
       "      <th>Event name_Course module instance list viewed</th>\n",
       "      <th>Event name_Course module viewed</th>\n",
       "      <th>...</th>\n",
       "      <th>Event context_URL: Video 2 - Beware of Online Filter Bubbles</th>\n",
       "      <th>Component_Assignment</th>\n",
       "      <th>Component_File</th>\n",
       "      <th>Component_File submissions</th>\n",
       "      <th>Component_Forum</th>\n",
       "      <th>Component_Overview report</th>\n",
       "      <th>Component_Quiz</th>\n",
       "      <th>Component_System</th>\n",
       "      <th>Component_URL</th>\n",
       "      <th>Component_User report</th>\n",
       "    </tr>\n",
       "  </thead>\n",
       "  <tbody>\n",
       "    <tr>\n",
       "      <th>4</th>\n",
       "      <td>20:32</td>\n",
       "      <td>ae3w bhew</td>\n",
       "      <td>2019-01-21</td>\n",
       "      <td>ae3w</td>\n",
       "      <td>bhew</td>\n",
       "      <td>0</td>\n",
       "      <td>0</td>\n",
       "      <td>0</td>\n",
       "      <td>0</td>\n",
       "      <td>0</td>\n",
       "      <td>...</td>\n",
       "      <td>0</td>\n",
       "      <td>0</td>\n",
       "      <td>0</td>\n",
       "      <td>0</td>\n",
       "      <td>0</td>\n",
       "      <td>0</td>\n",
       "      <td>0</td>\n",
       "      <td>1</td>\n",
       "      <td>0</td>\n",
       "      <td>0</td>\n",
       "    </tr>\n",
       "    <tr>\n",
       "      <th>5</th>\n",
       "      <td>17:39</td>\n",
       "      <td>agtk bqpc</td>\n",
       "      <td>2019-01-21</td>\n",
       "      <td>agtk</td>\n",
       "      <td>bqpc</td>\n",
       "      <td>0</td>\n",
       "      <td>0</td>\n",
       "      <td>0</td>\n",
       "      <td>0</td>\n",
       "      <td>0</td>\n",
       "      <td>...</td>\n",
       "      <td>0</td>\n",
       "      <td>1</td>\n",
       "      <td>0</td>\n",
       "      <td>0</td>\n",
       "      <td>0</td>\n",
       "      <td>0</td>\n",
       "      <td>0</td>\n",
       "      <td>0</td>\n",
       "      <td>0</td>\n",
       "      <td>0</td>\n",
       "    </tr>\n",
       "  </tbody>\n",
       "</table>\n",
       "<p>2 rows × 105 columns</p>\n",
       "</div>"
      ],
      "text/plain": [
       "     Time User full name       Date First name Last name  \\\n",
       "4   20:32      ae3w bhew 2019-01-21       ae3w      bhew   \n",
       "5   17:39      agtk bqpc 2019-01-21       agtk      bqpc   \n",
       "\n",
       "   Event name_A file has been uploaded.  \\\n",
       "4                                     0   \n",
       "5                                     0   \n",
       "\n",
       "   Event name_A submission has been submitted.  \\\n",
       "4                                            0   \n",
       "5                                            0   \n",
       "\n",
       "   Event name_Badge listing viewed  \\\n",
       "4                                0   \n",
       "5                                0   \n",
       "\n",
       "   Event name_Course module instance list viewed  \\\n",
       "4                                              0   \n",
       "5                                              0   \n",
       "\n",
       "   Event name_Course module viewed          ...            \\\n",
       "4                                0          ...             \n",
       "5                                0          ...             \n",
       "\n",
       "   Event context_URL: Video 2 - Beware of Online Filter Bubbles  \\\n",
       "4                                                  0              \n",
       "5                                                  0              \n",
       "\n",
       "   Component_Assignment  Component_File  Component_File submissions  \\\n",
       "4                     0               0                           0   \n",
       "5                     1               0                           0   \n",
       "\n",
       "   Component_Forum  Component_Overview report  Component_Quiz  \\\n",
       "4                0                          0               0   \n",
       "5                0                          0               0   \n",
       "\n",
       "   Component_System  Component_URL  Component_User report  \n",
       "4                 1              0                      0  \n",
       "5                 0              0                      0  \n",
       "\n",
       "[2 rows x 105 columns]"
      ]
     },
     "execution_count": 72,
     "metadata": {},
     "output_type": "execute_result"
    }
   ],
   "source": [
    "module2ml_onehot.head(2)"
   ]
  },
  {
   "cell_type": "code",
   "execution_count": 73,
   "metadata": {},
   "outputs": [
    {
     "data": {
      "text/html": [
       "<div>\n",
       "<style>\n",
       "    .dataframe thead tr:only-child th {\n",
       "        text-align: right;\n",
       "    }\n",
       "\n",
       "    .dataframe thead th {\n",
       "        text-align: left;\n",
       "    }\n",
       "\n",
       "    .dataframe tbody tr th {\n",
       "        vertical-align: top;\n",
       "    }\n",
       "</style>\n",
       "<table border=\"1\" class=\"dataframe\">\n",
       "  <thead>\n",
       "    <tr style=\"text-align: right;\">\n",
       "      <th></th>\n",
       "      <th>First name</th>\n",
       "      <th>Surname</th>\n",
       "      <th>ID number</th>\n",
       "      <th>Quiz: CA3 - QUIZ  (Real)</th>\n",
       "      <th>Assignment: UPLOAD ASSIGNMENT 1 - POWERPOINT PRESENTATION (Real)</th>\n",
       "      <th>Assignment: UPLOAD ASSIGNMENT 2 - REFLECTIVE WRITING (Real)</th>\n",
       "      <th>Course total (Real)</th>\n",
       "      <th>engaged</th>\n",
       "    </tr>\n",
       "  </thead>\n",
       "  <tbody>\n",
       "    <tr>\n",
       "      <th>0</th>\n",
       "      <td>a8NM</td>\n",
       "      <td>bDqB</td>\n",
       "      <td>U8NMDqBG</td>\n",
       "      <td>7.30</td>\n",
       "      <td>13</td>\n",
       "      <td>32</td>\n",
       "      <td>52.30</td>\n",
       "      <td>0</td>\n",
       "    </tr>\n",
       "    <tr>\n",
       "      <th>1</th>\n",
       "      <td>aSnR</td>\n",
       "      <td>bGk9</td>\n",
       "      <td>VSnRGk9O</td>\n",
       "      <td>8.55</td>\n",
       "      <td>10</td>\n",
       "      <td>38</td>\n",
       "      <td>56.55</td>\n",
       "      <td>1</td>\n",
       "    </tr>\n",
       "  </tbody>\n",
       "</table>\n",
       "</div>"
      ],
      "text/plain": [
       "  First name Surname ID number  Quiz: CA3 - QUIZ  (Real)  \\\n",
       "0       a8NM    bDqB  U8NMDqBG                      7.30   \n",
       "1       aSnR    bGk9  VSnRGk9O                      8.55   \n",
       "\n",
       "   Assignment: UPLOAD ASSIGNMENT 1 - POWERPOINT PRESENTATION (Real)  \\\n",
       "0                                                 13                  \n",
       "1                                                 10                  \n",
       "\n",
       "   Assignment: UPLOAD ASSIGNMENT 2 - REFLECTIVE WRITING (Real)  \\\n",
       "0                                                 32             \n",
       "1                                                 38             \n",
       "\n",
       "   Course total (Real)  engaged  \n",
       "0                52.30        0  \n",
       "1                56.55        1  "
      ]
     },
     "execution_count": 73,
     "metadata": {},
     "output_type": "execute_result"
    }
   ],
   "source": [
    "m2mg_subset.head(2)"
   ]
  },
  {
   "cell_type": "code",
   "execution_count": 74,
   "metadata": {
    "collapsed": true
   },
   "outputs": [],
   "source": [
    "#Merge_subset2\n",
    "merge_subset2 = pd.merge(module2ml_onehot,m2mg_subset[['First name','engaged']],on='First name', how='left')"
   ]
  },
  {
   "cell_type": "code",
   "execution_count": 75,
   "metadata": {},
   "outputs": [
    {
     "data": {
      "text/html": [
       "<div>\n",
       "<style>\n",
       "    .dataframe thead tr:only-child th {\n",
       "        text-align: right;\n",
       "    }\n",
       "\n",
       "    .dataframe thead th {\n",
       "        text-align: left;\n",
       "    }\n",
       "\n",
       "    .dataframe tbody tr th {\n",
       "        vertical-align: top;\n",
       "    }\n",
       "</style>\n",
       "<table border=\"1\" class=\"dataframe\">\n",
       "  <thead>\n",
       "    <tr style=\"text-align: right;\">\n",
       "      <th></th>\n",
       "      <th>Time</th>\n",
       "      <th>User full name</th>\n",
       "      <th>Date</th>\n",
       "      <th>First name</th>\n",
       "      <th>Last name</th>\n",
       "      <th>Event name_A file has been uploaded.</th>\n",
       "      <th>Event name_A submission has been submitted.</th>\n",
       "      <th>Event name_Badge listing viewed</th>\n",
       "      <th>Event name_Course module instance list viewed</th>\n",
       "      <th>Event name_Course module viewed</th>\n",
       "      <th>...</th>\n",
       "      <th>Component_Assignment</th>\n",
       "      <th>Component_File</th>\n",
       "      <th>Component_File submissions</th>\n",
       "      <th>Component_Forum</th>\n",
       "      <th>Component_Overview report</th>\n",
       "      <th>Component_Quiz</th>\n",
       "      <th>Component_System</th>\n",
       "      <th>Component_URL</th>\n",
       "      <th>Component_User report</th>\n",
       "      <th>engaged</th>\n",
       "    </tr>\n",
       "  </thead>\n",
       "  <tbody>\n",
       "    <tr>\n",
       "      <th>0</th>\n",
       "      <td>20:32</td>\n",
       "      <td>ae3w bhew</td>\n",
       "      <td>2019-01-21</td>\n",
       "      <td>ae3w</td>\n",
       "      <td>bhew</td>\n",
       "      <td>0</td>\n",
       "      <td>0</td>\n",
       "      <td>0</td>\n",
       "      <td>0</td>\n",
       "      <td>0</td>\n",
       "      <td>...</td>\n",
       "      <td>0</td>\n",
       "      <td>0</td>\n",
       "      <td>0</td>\n",
       "      <td>0</td>\n",
       "      <td>0</td>\n",
       "      <td>0</td>\n",
       "      <td>1</td>\n",
       "      <td>0</td>\n",
       "      <td>0</td>\n",
       "      <td>1</td>\n",
       "    </tr>\n",
       "    <tr>\n",
       "      <th>1</th>\n",
       "      <td>17:39</td>\n",
       "      <td>agtk bqpc</td>\n",
       "      <td>2019-01-21</td>\n",
       "      <td>agtk</td>\n",
       "      <td>bqpc</td>\n",
       "      <td>0</td>\n",
       "      <td>0</td>\n",
       "      <td>0</td>\n",
       "      <td>0</td>\n",
       "      <td>0</td>\n",
       "      <td>...</td>\n",
       "      <td>1</td>\n",
       "      <td>0</td>\n",
       "      <td>0</td>\n",
       "      <td>0</td>\n",
       "      <td>0</td>\n",
       "      <td>0</td>\n",
       "      <td>0</td>\n",
       "      <td>0</td>\n",
       "      <td>0</td>\n",
       "      <td>1</td>\n",
       "    </tr>\n",
       "  </tbody>\n",
       "</table>\n",
       "<p>2 rows × 106 columns</p>\n",
       "</div>"
      ],
      "text/plain": [
       "     Time User full name       Date First name Last name  \\\n",
       "0   20:32      ae3w bhew 2019-01-21       ae3w      bhew   \n",
       "1   17:39      agtk bqpc 2019-01-21       agtk      bqpc   \n",
       "\n",
       "   Event name_A file has been uploaded.  \\\n",
       "0                                     0   \n",
       "1                                     0   \n",
       "\n",
       "   Event name_A submission has been submitted.  \\\n",
       "0                                            0   \n",
       "1                                            0   \n",
       "\n",
       "   Event name_Badge listing viewed  \\\n",
       "0                                0   \n",
       "1                                0   \n",
       "\n",
       "   Event name_Course module instance list viewed  \\\n",
       "0                                              0   \n",
       "1                                              0   \n",
       "\n",
       "   Event name_Course module viewed   ...     Component_Assignment  \\\n",
       "0                                0   ...                        0   \n",
       "1                                0   ...                        1   \n",
       "\n",
       "   Component_File  Component_File submissions  Component_Forum  \\\n",
       "0               0                           0                0   \n",
       "1               0                           0                0   \n",
       "\n",
       "   Component_Overview report  Component_Quiz  Component_System  Component_URL  \\\n",
       "0                          0               0                 1              0   \n",
       "1                          0               0                 0              0   \n",
       "\n",
       "   Component_User report  engaged  \n",
       "0                      0        1  \n",
       "1                      0        1  \n",
       "\n",
       "[2 rows x 106 columns]"
      ]
     },
     "execution_count": 75,
     "metadata": {},
     "output_type": "execute_result"
    }
   ],
   "source": [
    "merge_subset2.head(2)"
   ]
  },
  {
   "cell_type": "code",
   "execution_count": 76,
   "metadata": {
    "collapsed": true
   },
   "outputs": [],
   "source": [
    "X2s = merge_subset2.iloc[:,5:105]  #independent columns\n",
    "y2s = merge_subset2.iloc[:,-1]    #target column i.e engaged\n"
   ]
  },
  {
   "cell_type": "code",
   "execution_count": 77,
   "metadata": {},
   "outputs": [
    {
     "data": {
      "text/plain": [
       "0    1\n",
       "1    1\n",
       "Name: engaged, dtype: int64"
      ]
     },
     "execution_count": 77,
     "metadata": {},
     "output_type": "execute_result"
    }
   ],
   "source": [
    "y2s.head(2)"
   ]
  },
  {
   "cell_type": "code",
   "execution_count": 78,
   "metadata": {},
   "outputs": [
    {
     "data": {
      "text/html": [
       "<div>\n",
       "<style>\n",
       "    .dataframe thead tr:only-child th {\n",
       "        text-align: right;\n",
       "    }\n",
       "\n",
       "    .dataframe thead th {\n",
       "        text-align: left;\n",
       "    }\n",
       "\n",
       "    .dataframe tbody tr th {\n",
       "        vertical-align: top;\n",
       "    }\n",
       "</style>\n",
       "<table border=\"1\" class=\"dataframe\">\n",
       "  <thead>\n",
       "    <tr style=\"text-align: right;\">\n",
       "      <th></th>\n",
       "      <th>Event name_A file has been uploaded.</th>\n",
       "      <th>Event name_A submission has been submitted.</th>\n",
       "      <th>Event name_Badge listing viewed</th>\n",
       "      <th>Event name_Course module instance list viewed</th>\n",
       "      <th>Event name_Course module viewed</th>\n",
       "      <th>Event name_Course searched</th>\n",
       "      <th>Event name_Course user report viewed</th>\n",
       "      <th>Event name_Course viewed</th>\n",
       "      <th>Event name_Discussion viewed</th>\n",
       "      <th>Event name_Grade overview report viewed</th>\n",
       "      <th>...</th>\n",
       "      <th>Event context_URL: Video 2 - Beware of Online Filter Bubbles</th>\n",
       "      <th>Component_Assignment</th>\n",
       "      <th>Component_File</th>\n",
       "      <th>Component_File submissions</th>\n",
       "      <th>Component_Forum</th>\n",
       "      <th>Component_Overview report</th>\n",
       "      <th>Component_Quiz</th>\n",
       "      <th>Component_System</th>\n",
       "      <th>Component_URL</th>\n",
       "      <th>Component_User report</th>\n",
       "    </tr>\n",
       "  </thead>\n",
       "  <tbody>\n",
       "    <tr>\n",
       "      <th>0</th>\n",
       "      <td>0</td>\n",
       "      <td>0</td>\n",
       "      <td>0</td>\n",
       "      <td>0</td>\n",
       "      <td>0</td>\n",
       "      <td>0</td>\n",
       "      <td>1</td>\n",
       "      <td>0</td>\n",
       "      <td>0</td>\n",
       "      <td>0</td>\n",
       "      <td>...</td>\n",
       "      <td>0</td>\n",
       "      <td>0</td>\n",
       "      <td>0</td>\n",
       "      <td>0</td>\n",
       "      <td>0</td>\n",
       "      <td>0</td>\n",
       "      <td>0</td>\n",
       "      <td>1</td>\n",
       "      <td>0</td>\n",
       "      <td>0</td>\n",
       "    </tr>\n",
       "    <tr>\n",
       "      <th>1</th>\n",
       "      <td>0</td>\n",
       "      <td>0</td>\n",
       "      <td>0</td>\n",
       "      <td>0</td>\n",
       "      <td>0</td>\n",
       "      <td>0</td>\n",
       "      <td>0</td>\n",
       "      <td>0</td>\n",
       "      <td>0</td>\n",
       "      <td>0</td>\n",
       "      <td>...</td>\n",
       "      <td>0</td>\n",
       "      <td>1</td>\n",
       "      <td>0</td>\n",
       "      <td>0</td>\n",
       "      <td>0</td>\n",
       "      <td>0</td>\n",
       "      <td>0</td>\n",
       "      <td>0</td>\n",
       "      <td>0</td>\n",
       "      <td>0</td>\n",
       "    </tr>\n",
       "  </tbody>\n",
       "</table>\n",
       "<p>2 rows × 100 columns</p>\n",
       "</div>"
      ],
      "text/plain": [
       "   Event name_A file has been uploaded.  \\\n",
       "0                                     0   \n",
       "1                                     0   \n",
       "\n",
       "   Event name_A submission has been submitted.  \\\n",
       "0                                            0   \n",
       "1                                            0   \n",
       "\n",
       "   Event name_Badge listing viewed  \\\n",
       "0                                0   \n",
       "1                                0   \n",
       "\n",
       "   Event name_Course module instance list viewed  \\\n",
       "0                                              0   \n",
       "1                                              0   \n",
       "\n",
       "   Event name_Course module viewed  Event name_Course searched  \\\n",
       "0                                0                           0   \n",
       "1                                0                           0   \n",
       "\n",
       "   Event name_Course user report viewed  Event name_Course viewed  \\\n",
       "0                                     1                         0   \n",
       "1                                     0                         0   \n",
       "\n",
       "   Event name_Discussion viewed  Event name_Grade overview report viewed  \\\n",
       "0                             0                                        0   \n",
       "1                             0                                        0   \n",
       "\n",
       "           ...            \\\n",
       "0          ...             \n",
       "1          ...             \n",
       "\n",
       "   Event context_URL: Video 2 - Beware of Online Filter Bubbles  \\\n",
       "0                                                  0              \n",
       "1                                                  0              \n",
       "\n",
       "   Component_Assignment  Component_File  Component_File submissions  \\\n",
       "0                     0               0                           0   \n",
       "1                     1               0                           0   \n",
       "\n",
       "   Component_Forum  Component_Overview report  Component_Quiz  \\\n",
       "0                0                          0               0   \n",
       "1                0                          0               0   \n",
       "\n",
       "   Component_System  Component_URL  Component_User report  \n",
       "0                 1              0                      0  \n",
       "1                 0              0                      0  \n",
       "\n",
       "[2 rows x 100 columns]"
      ]
     },
     "execution_count": 78,
     "metadata": {},
     "output_type": "execute_result"
    }
   ],
   "source": [
    "X2s.head(2)"
   ]
  },
  {
   "cell_type": "code",
   "execution_count": 79,
   "metadata": {},
   "outputs": [
    {
     "name": "stdout",
     "output_type": "stream",
     "text": [
      "                                                Specs      Score\n",
      "10                Event name_Grade user report viewed  30.568689\n",
      "99                              Component_User report  30.568689\n",
      "9             Event name_Grade overview report viewed  26.332493\n",
      "95                          Component_Overview report  26.332493\n",
      "50  Event context_File: Lab Activity 2 - Evaluatin...  22.437705\n",
      "94                                    Component_Forum  18.971810\n",
      "7                            Event name_Course viewed  17.177583\n",
      "97                                   Component_System  15.435105\n",
      "61                    Event context_Forum: News forum  13.731214\n",
      "83  Event context_URL: Reflective Thinking &amp; W...  11.877787\n"
     ]
    }
   ],
   "source": [
    "#apply SelectKBest class to extract top 10 best features\n",
    "bestfeatures = SelectKBest(score_func=chi2, k=10)\n",
    "fit = bestfeatures.fit(X2s,y2s)\n",
    "dfscores = pd.DataFrame(fit.scores_)\n",
    "dfcolumns = pd.DataFrame(X2s.columns)\n",
    "#concat two dataframes for better visualization \n",
    "featureScores = pd.concat([dfcolumns,dfscores],axis=1)\n",
    "featureScores.columns = ['Specs','Score']  #naming the dataframe columns\n",
    "print(featureScores.nlargest(10,'Score'))  #print 10 best features\n",
    "#https://towardsdatascience.com/feature-selection-techniques-in-machine-learning-with-python-f24e7da3f36e\n"
   ]
  },
  {
   "cell_type": "code",
   "execution_count": 80,
   "metadata": {},
   "outputs": [
    {
     "name": "stdout",
     "output_type": "stream",
     "text": [
      "[  1.07213196e-03   4.33169499e-04   7.27600118e-05   2.79938173e-02\n",
      "   9.02239700e-03   4.87263227e-03   2.66652080e-03   3.00083897e-02\n",
      "   5.49408781e-03   4.36914514e-02   4.40909749e-02   1.48712058e-03\n",
      "   1.40501872e-03   1.61789698e-03   1.38893874e-03   2.49143495e-03\n",
      "   1.71467369e-03   7.85329097e-04   5.32285945e-03   1.76707417e-02\n",
      "   1.49297389e-03   1.07666261e-03   1.89497551e-03   3.03741660e-02\n",
      "   2.50654363e-03   8.02001024e-03   7.23872877e-03   1.54037229e-02\n",
      "   1.83308746e-02   3.97251174e-02   2.19775842e-02   5.62259490e-03\n",
      "   5.43810676e-04   2.09317493e-03   2.04376802e-02   2.31528456e-03\n",
      "   1.93764929e-03   2.70244193e-03   1.43287772e-02   2.81347508e-04\n",
      "   2.69169823e-02   5.49735279e-03   1.08695041e-04   1.88606047e-03\n",
      "   3.31706422e-03   3.36738865e-03   6.52500630e-04   1.24636048e-02\n",
      "   4.91564054e-04   1.69484006e-02   7.81744072e-02   1.97650309e-03\n",
      "   2.94486718e-03   3.47607844e-04   3.53173855e-03   1.42077241e-02\n",
      "   2.85796172e-03   6.30748844e-04   9.02627084e-03   1.07819420e-02\n",
      "   5.67513777e-03   2.21905811e-02   2.59070095e-04   2.11098310e-02\n",
      "   1.12370031e-02   2.07113173e-03   6.96230324e-03   3.87548642e-03\n",
      "   2.50134782e-03   4.67123001e-03   1.61522045e-03   4.25749509e-03\n",
      "   6.44215627e-03   1.42714105e-04   1.53852019e-02   2.16377671e-04\n",
      "   2.82622932e-02   6.67471439e-04   4.44699822e-03   1.99006182e-03\n",
      "   1.36683403e-02   2.98612008e-03   6.31119802e-04   3.53753013e-02\n",
      "   5.67093094e-04   3.83801852e-04   1.83774277e-03   9.79060545e-03\n",
      "   1.97738143e-03   7.91728178e-04   1.98771760e-03   4.50996723e-03\n",
      "   5.97158385e-03   2.75267301e-04   4.06259123e-02   4.58937724e-02\n",
      "   1.80482468e-03   4.71243452e-02   2.02685310e-03   4.00555571e-02]\n"
     ]
    },
    {
     "data": {
      "image/png": "[encoded data removed]",
      "text/plain": [
       "<matplotlib.figure.Figure at 0x22dcfe74128>"
      ]
     },
     "metadata": {},
     "output_type": "display_data"
    }
   ],
   "source": [
    "from sklearn.ensemble import ExtraTreesClassifier\n",
    "import matplotlib.pyplot as plt\n",
    "model = ExtraTreesClassifier()\n",
    "model.fit(X2s,y2s)\n",
    "print(model.feature_importances_) #use inbuilt class feature_importances of tree based classifiers\n",
    "#plot graph of feature importances for better visualization\n",
    "feat_importances = pd.Series(model.feature_importances_, index=X2s.columns)\n",
    "feat_importances.nlargest(10).plot(kind='barh')\n",
    "plt.show()\n"
   ]
  },
  {
   "cell_type": "code",
   "execution_count": 81,
   "metadata": {},
   "outputs": [
    {
     "data": {
      "image/png": "[encoded data removed]",
      "text/plain": [
       "<matplotlib.figure.Figure at 0x22dcae072e8>"
      ]
     },
     "metadata": {},
     "output_type": "display_data"
    }
   ],
   "source": [
    "#get correlations of each features in dataset\n",
    "corrmat = m2mg_subset.corr()\n",
    "top_corr_features = corrmat.index\n",
    "plt.figure(figsize=(20,20))\n",
    "#plot heat map\n",
    "g=sns.heatmap(m2mg_subset[top_corr_features].corr(),annot=True,cmap=\"RdYlGn\")\n"
   ]
  },
  {
   "cell_type": "code",
   "execution_count": 82,
   "metadata": {
    "collapsed": true
   },
   "outputs": [],
   "source": [
    "# EndofFS2\n",
    "##\n",
    "###\n",
    "#                       10                Event name_Grade user report viewed  30.568689\n",
    "#99                              Component_User report  30.568689\n",
    "#9             Event name_Grade overview report viewed  26.332493\n",
    "#95                          Component_Overview report  26.332493\n",
    "#50  Event context_File: Lab Activity 2 - Evaluatin...  22.437705\n",
    "#94                                    Component_Forum  18.971810\n",
    "#7                            Event name_Course viewed  17.177583\n",
    "#97                                   Component_System  15.435105\n",
    "#61                    Event context_Forum: News forum  13.731214\n",
    "#83  Event context_URL: Reflective Thinking &amp; W...  11.877787                          "
   ]
  },
  {
   "cell_type": "code",
   "execution_count": 83,
   "metadata": {
    "collapsed": true
   },
   "outputs": [],
   "source": [
    "featselect2 = X2s[['Component_User report','Event name_Grade overview report viewed','Component_Overview report','Event context_File: Lab Activity 2 - Evaluating Information','Component_Forum','Event name_Course viewed','Component_System','Event context_Forum: News forum','Event context_URL: Reflective Thinking &amp; Writing']]"
   ]
  },
  {
   "cell_type": "code",
   "execution_count": 84,
   "metadata": {},
   "outputs": [
    {
     "data": {
      "text/html": [
       "<div>\n",
       "<style>\n",
       "    .dataframe thead tr:only-child th {\n",
       "        text-align: right;\n",
       "    }\n",
       "\n",
       "    .dataframe thead th {\n",
       "        text-align: left;\n",
       "    }\n",
       "\n",
       "    .dataframe tbody tr th {\n",
       "        vertical-align: top;\n",
       "    }\n",
       "</style>\n",
       "<table border=\"1\" class=\"dataframe\">\n",
       "  <thead>\n",
       "    <tr style=\"text-align: right;\">\n",
       "      <th></th>\n",
       "      <th>Component_User report</th>\n",
       "      <th>Event name_Grade overview report viewed</th>\n",
       "      <th>Component_Overview report</th>\n",
       "      <th>Event context_File: Lab Activity 2 - Evaluating Information</th>\n",
       "      <th>Component_Forum</th>\n",
       "      <th>Event name_Course viewed</th>\n",
       "      <th>Component_System</th>\n",
       "      <th>Event context_Forum: News forum</th>\n",
       "      <th>Event context_URL: Reflective Thinking &amp;amp; Writing</th>\n",
       "    </tr>\n",
       "  </thead>\n",
       "  <tbody>\n",
       "    <tr>\n",
       "      <th>0</th>\n",
       "      <td>0</td>\n",
       "      <td>0</td>\n",
       "      <td>0</td>\n",
       "      <td>0</td>\n",
       "      <td>0</td>\n",
       "      <td>0</td>\n",
       "      <td>1</td>\n",
       "      <td>0</td>\n",
       "      <td>0</td>\n",
       "    </tr>\n",
       "    <tr>\n",
       "      <th>1</th>\n",
       "      <td>0</td>\n",
       "      <td>0</td>\n",
       "      <td>0</td>\n",
       "      <td>0</td>\n",
       "      <td>0</td>\n",
       "      <td>0</td>\n",
       "      <td>0</td>\n",
       "      <td>0</td>\n",
       "      <td>0</td>\n",
       "    </tr>\n",
       "  </tbody>\n",
       "</table>\n",
       "</div>"
      ],
      "text/plain": [
       "   Component_User report  Event name_Grade overview report viewed  \\\n",
       "0                      0                                        0   \n",
       "1                      0                                        0   \n",
       "\n",
       "   Component_Overview report  \\\n",
       "0                          0   \n",
       "1                          0   \n",
       "\n",
       "   Event context_File: Lab Activity 2 - Evaluating Information  \\\n",
       "0                                                  0             \n",
       "1                                                  0             \n",
       "\n",
       "   Component_Forum  Event name_Course viewed  Component_System  \\\n",
       "0                0                         0                 1   \n",
       "1                0                         0                 0   \n",
       "\n",
       "   Event context_Forum: News forum  \\\n",
       "0                                0   \n",
       "1                                0   \n",
       "\n",
       "   Event context_URL: Reflective Thinking &amp; Writing  \n",
       "0                                                  0     \n",
       "1                                                  0     "
      ]
     },
     "execution_count": 84,
     "metadata": {},
     "output_type": "execute_result"
    }
   ],
   "source": [
    "featselect2.head(2)"
   ]
  },
  {
   "cell_type": "code",
   "execution_count": 85,
   "metadata": {
    "collapsed": true
   },
   "outputs": [],
   "source": [
    "Xfs2 = featselect2 # Features\n",
    "yfs2 = y2s # Target variable\n"
   ]
  },
  {
   "cell_type": "code",
   "execution_count": 86,
   "metadata": {
    "collapsed": true
   },
   "outputs": [],
   "source": [
    "# Split dataset into training set and test set\n",
    "Xfs2_train, Xfs2_test, yfs2_train, yfs2_test = train_test_split(Xfs2, yfs2, test_size=0.3, random_state=1) # 70% training and 30% test\n"
   ]
  },
  {
   "cell_type": "code",
   "execution_count": 88,
   "metadata": {},
   "outputs": [],
   "source": [
    "# Create Decision Tree classifer object\n",
    "dtclffs2 = DecisionTreeClassifier()\n",
    "\n",
    "# Train Decision Tree Classifer\n",
    "dtclffs2 = dtclffs2.fit(Xfs2_train,yfs2_train)\n",
    "\n",
    "#Predict the response for test dataset\n",
    "yfs2_pred = dtclffs2.predict(Xfs2_test)\n"
   ]
  },
  {
   "cell_type": "code",
   "execution_count": 89,
   "metadata": {},
   "outputs": [
    {
     "name": "stdout",
     "output_type": "stream",
     "text": [
      "Accuracy: 0.634522051066\n"
     ]
    }
   ],
   "source": [
    "# Model Accuracy, how often is the classifier correct?\n",
    "print(\"Accuracy:\",metrics.accuracy_score(yfs2_test, yfs2_pred))\n"
   ]
  },
  {
   "cell_type": "code",
   "execution_count": 90,
   "metadata": {},
   "outputs": [
    {
     "name": "stdout",
     "output_type": "stream",
     "text": [
      "0.641014429383\n"
     ]
    }
   ],
   "source": [
    "#Precision Score\n",
    "# Import precision_score\n",
    "from sklearn.metrics import precision_score\n",
    "\n",
    "# Print the precision\n",
    "print(precision_score(yfs2_test, yfs2_pred))\n"
   ]
  },
  {
   "cell_type": "code",
   "execution_count": 91,
   "metadata": {},
   "outputs": [
    {
     "name": "stdout",
     "output_type": "stream",
     "text": [
      "0.970218398412\n"
     ]
    }
   ],
   "source": [
    "#Recall Score\n",
    "# Import recall_score\n",
    "from sklearn.metrics import recall_score\n",
    "\n",
    "# Print the recall\n",
    "print(recall_score(yfs2_test, yfs2_pred))\n"
   ]
  },
  {
   "cell_type": "code",
   "execution_count": 92,
   "metadata": {},
   "outputs": [
    {
     "name": "stdout",
     "output_type": "stream",
     "text": [
      "Accuracy: 0.634522051066\n",
      "Precision: 0.641014429383\n",
      "Recall: 0.970218398412\n"
     ]
    }
   ],
   "source": [
    "#Accuracy / Precision / Recall\n",
    "print(\"Accuracy:\",metrics.accuracy_score(yfs2_test, yfs2_pred))\n",
    "print(\"Precision:\",metrics.precision_score(yfs2_test, yfs2_pred))\n",
    "print(\"Recall:\",metrics.recall_score(yfs2_test, yfs2_pred))\n",
    "# Recall: If there are student who are engaged in the test set and your DT model can identify it 98% of the time\n",
    "\n"
   ]
  },
  {
   "cell_type": "code",
   "execution_count": 93,
   "metadata": {},
   "outputs": [
    {
     "name": "stdout",
     "output_type": "stream",
     "text": [
      "Accuracy: 0.634522051066\n",
      "Precision: 0.641014429383\n",
      "Recall: 0.970218398412\n",
      "F1 Score 0.771985255398\n"
     ]
    }
   ],
   "source": [
    "print(\"Accuracy:\",metrics.accuracy_score(yfs2_test, yfs2_pred))\n",
    "print(\"Precision:\",metrics.precision_score(yfs2_test, yfs2_pred))\n",
    "print(\"Recall:\",metrics.recall_score(yfs2_test, yfs2_pred))\n",
    "print(\"F1 Score\",metrics.f1_score(yfs2_test, yfs2_pred))\n",
    "# Recall and F1 score are high"
   ]
  },
  {
   "cell_type": "code",
   "execution_count": 94,
   "metadata": {},
   "outputs": [
    {
     "name": "stdout",
     "output_type": "stream",
     "text": [
      "Mean Absolute Error: 0.365477948934\n",
      "Mean Squared Error: 0.365477948934\n",
      "Root Mean Squared Error: 0.604547722628\n"
     ]
    }
   ],
   "source": [
    "from sklearn import metrics  \n",
    "print('Mean Absolute Error:', metrics.mean_absolute_error(yfs2_test, yfs2_pred))  \n",
    "print('Mean Squared Error:', metrics.mean_squared_error(yfs2_test, yfs2_pred))  \n",
    "print('Root Mean Squared Error:', np.sqrt(metrics.mean_squared_error(yfs2_test, yfs2_pred)))"
   ]
  },
  {
   "cell_type": "code",
   "execution_count": 95,
   "metadata": {
    "collapsed": true
   },
   "outputs": [],
   "source": [
    "# import the class\n",
    "from sklearn.linear_model import LogisticRegression\n",
    "\n",
    "# instantiate the model (using the default parameters)\n",
    "logregfs2 = LogisticRegression()\n",
    "\n",
    "# fit the model with data\n",
    "logregfs2.fit(Xfs2_train,yfs2_train)\n",
    "\n",
    "#\n",
    "ylg2_pred=logregfs2.predict(Xfs2_test)\n"
   ]
  }
 ],
 "metadata": {
  "kernelspec": {
   "display_name": "Python 3",
   "language": "python",
   "name": "python3"
  },
  "language_info": {
   "codemirror_mode": {
    "name": "ipython",
    "version": 3
   },
   "file_extension": ".py",
   "mimetype": "text/x-python",
   "name": "python",
   "nbconvert_exporter": "python",
   "pygments_lexer": "ipython3",
   "version": "3.6.2"
  }
 },
 "nbformat": 4,
 "nbformat_minor": 2
}
