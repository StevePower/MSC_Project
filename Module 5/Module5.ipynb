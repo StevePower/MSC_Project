{
 "cells": [
  {
   "cell_type": "code",
   "execution_count": 1,
   "metadata": {
    "collapsed": true
   },
   "outputs": [],
   "source": [
    "\n",
    "# Importing libraries\n",
    "import pandas as pd\n",
    "import matplotlib.pyplot as plt\n",
    "from matplotlib import pyplot as plt\n",
    "#import missingno as msno\n",
    "from scipy import stats\n",
    "\n",
    "import numpy as np\n",
    "import datetime\n",
    "import seaborn as sns\n",
    "from sklearn.svm import SVC\n",
    "from sklearn.preprocessing import LabelEncoder\n",
    "from sklearn.cluster import KMeans\n",
    "from sklearn.feature_selection import SelectKBest\n",
    "from sklearn.feature_selection import chi2\n",
    "# Import DecisionTreeClassifier\n",
    "from sklearn.tree import DecisionTreeClassifier\n",
    "# Import RandomForestClassifier\n",
    "from sklearn.ensemble import RandomForestClassifier\n",
    "\n",
    "# Import precision_score\n",
    "from sklearn.metrics import precision_score\n",
    "\n",
    "from sklearn import metrics #Import scikit-learn metrics module for accuracy calculation\n",
    "\n",
    "\n",
    "# Import necessary modules\n",
    "from sklearn.linear_model import LinearRegression\n",
    "from sklearn.model_selection import cross_val_score\n",
    "\n",
    "\n",
    "\n",
    "# Import recall_score\n",
    "from sklearn.metrics import recall_score\n",
    "\n",
    "#from sklearn.metrics import roc_auc_curve\n",
    "# Import roc_curve\n",
    "from sklearn.metrics import roc_curve\n",
    "\n",
    "\n",
    "\n",
    "from sklearn.svm import SVC\n",
    "\n",
    "# Import confusion matrix\n",
    "from sklearn.metrics import confusion_matrix\n",
    "\n",
    "from sklearn.tree import export_graphviz\n",
    "from sklearn.externals.six import StringIO  \n",
    "from IPython.display import Image  \n",
    "#import pydotplus\n",
    "\n",
    "\n",
    "\n",
    "# Import train_test_split\n",
    "from sklearn.model_selection import train_test_split\n",
    "\n",
    "# Import LogisticRegression\n",
    "from sklearn.linear_model import LogisticRegression\n",
    "\n",
    "\n",
    "from sklearn import metrics #Import scikit-learn metrics module for accuracy calculation\n",
    "\n",
    "\n",
    "\n",
    "import scipy.stats as st\n",
    "#import pandas_profiling\n",
    "import requests \n",
    "%matplotlib inline\n"
   ]
  },
  {
   "cell_type": "code",
   "execution_count": 2,
   "metadata": {
    "collapsed": true
   },
   "outputs": [],
   "source": [
    "# Semester Start Date:\n",
    "StartDate = '2018-09-17' \n",
    "StartDate = pd.to_datetime(StartDate)\n"
   ]
  },
  {
   "cell_type": "code",
   "execution_count": 3,
   "metadata": {
    "collapsed": true
   },
   "outputs": [],
   "source": [
    "# Semester End Date:\n",
    "EndDate = '2019-01-21' \n",
    "EndDate = pd.to_datetime(EndDate)"
   ]
  },
  {
   "cell_type": "code",
   "execution_count": 4,
   "metadata": {
    "collapsed": true
   },
   "outputs": [],
   "source": [
    "TriOne = '2018-10-22'\n",
    "TriOne = pd.to_datetime(TriOne)"
   ]
  },
  {
   "cell_type": "code",
   "execution_count": 5,
   "metadata": {
    "collapsed": true
   },
   "outputs": [],
   "source": [
    "TriTwo = '2018-11-26'\n",
    "TriTwo = pd.to_datetime(TriTwo)"
   ]
  },
  {
   "cell_type": "code",
   "execution_count": 6,
   "metadata": {
    "collapsed": true
   },
   "outputs": [],
   "source": [
    "# Begin5 START OF MODULE FIVE #########################\n",
    "#\n",
    "# There are 3 files in Module 5 with 62 students.Module has attendance, quizzes.\n",
    "# 33 students passed this module with 30 students failing.\n",
    "# There are 6 assignments, attendance, quizzes and MCQ test in module 5.\n",
    "#"
   ]
  },
  {
   "cell_type": "code",
   "execution_count": 7,
   "metadata": {
    "collapsed": true
   },
   "outputs": [],
   "source": [
    "# Data Preperation Module 5\n",
    "# 2 files in Module5\n",
    "# Module 5\n",
    "\n",
    "module5ml = pd.read_csv('Module5_Moodle_Logs.csv')"
   ]
  },
  {
   "cell_type": "code",
   "execution_count": 8,
   "metadata": {
    "collapsed": true
   },
   "outputs": [],
   "source": [
    "module5mg = pd.read_csv('Module5_Moodle_Grades.csv')"
   ]
  },
  {
   "cell_type": "code",
   "execution_count": 9,
   "metadata": {},
   "outputs": [
    {
     "name": "stdout",
     "output_type": "stream",
     "text": [
      "['First name', 'Surname', 'ID number', 'Email address', 'Course total (Real)', 'Last downloaded from this course', 'Assignment: Assignment 1 image of poster (Real)', 'Assignment: Assignment 1  S  (Real)', 'Assignment: Assignment 1 T (Real)', 'Assignment: Assignment 2 - Submit (Real)', 'Assignment: FG (Real)', 'Assignment:   Task 1 (Real)', 'Assignment:   Task 2 (Real)', 'Assignment:   Task 3 (Real)', 'Assignment: Lab 1 S(Real)', 'Assignment: Pre-submission meeting (Real)', 'Assignment: Repeat assignment grading (Real)', 'Assignment: Submit repeat exam (Real)', 'Assignment: Upload Headshot (Real)', 'Assignment: v upload (Real)', 'Assignment 1 Non-Linear S total (Real)', 'Assignment 2 V total (Real)', 'Attendance: Attendance (Real)', 'MCQ Test total (Real)', 'Quiz: MCQ 2018 (Real)']\n"
     ]
    }
   ],
   "source": [
    "print (module5mg.columns.tolist())\n",
    "# Full list of Columns for module 5"
   ]
  },
  {
   "cell_type": "code",
   "execution_count": 10,
   "metadata": {},
   "outputs": [
    {
     "name": "stdout",
     "output_type": "stream",
     "text": [
      "Time              5156\n",
      "User full name      63\n",
      "Affected user        1\n",
      "Event context       82\n",
      "Component           14\n",
      "Event name          32\n",
      "Description         73\n",
      "Origin               2\n",
      "IP address           1\n",
      "dtype: int64\n"
     ]
    }
   ],
   "source": [
    "# Print the number of unique values in each modul5ml column\n",
    "print(module5ml.nunique())"
   ]
  },
  {
   "cell_type": "code",
   "execution_count": 11,
   "metadata": {},
   "outputs": [
    {
     "name": "stdout",
     "output_type": "stream",
     "text": [
      "First name                                         63\n",
      "Surname                                            63\n",
      "ID number                                          63\n",
      "Email address                                      63\n",
      "Course total (Real)                                62\n",
      "Last downloaded from this course                    2\n",
      "Assignment: Assignment 1 image of poster (Real)     1\n",
      "Assignment: Assignment 1  S  (Real)                 1\n",
      "Assignment: Assignment 1 T (Real)                  13\n",
      "Assignment: Assignment 2 - Submit (Real)           28\n",
      "Assignment: FG (Real)                               2\n",
      "Assignment:   Task 1 (Real)                         1\n",
      "Assignment:   Task 2 (Real)                         1\n",
      "Assignment:   Task 3 (Real)                         1\n",
      "Assignment: Lab 1 S(Real)                           1\n",
      "Assignment: Pre-submission meeting (Real)           2\n",
      "Assignment: Repeat assignment grading (Real)        1\n",
      "Assignment: Submit repeat exam (Real)               1\n",
      "Assignment: Upload Headshot (Real)                  0\n",
      "Assignment: v upload (Real)                         1\n",
      "Assignment 1 Non-Linear S total (Real)             13\n",
      "Assignment 2 V total (Real)                        28\n",
      "Attendance: Attendance (Real)                      39\n",
      "MCQ Test total (Real)                              22\n",
      "Quiz: MCQ 2018 (Real)                              22\n",
      "dtype: int64\n"
     ]
    }
   ],
   "source": [
    "# Print the number of unique values in each modul5mg column\n",
    "print(module5mg.nunique())"
   ]
  },
  {
   "cell_type": "code",
   "execution_count": 12,
   "metadata": {
    "collapsed": true
   },
   "outputs": [],
   "source": [
    "# time5\n",
    "time5 = module5ml[\"Time\"].str.split(\",\", n = 1, expand = True)"
   ]
  },
  {
   "cell_type": "code",
   "execution_count": 13,
   "metadata": {
    "collapsed": true
   },
   "outputs": [],
   "source": [
    "# making separate Date column from new data frame \n",
    "module5ml[\"Date\"]= time5[0] \n",
    "\n",
    "# making seperate Time column from new data frame\n",
    "module5ml['Time']= time5[1]\n"
   ]
  },
  {
   "cell_type": "code",
   "execution_count": 14,
   "metadata": {
    "collapsed": true
   },
   "outputs": [],
   "source": [
    "# Convert the date column to datetime64\n",
    "module5ml.Date = pd.to_datetime(module5ml.Date)"
   ]
  },
  {
   "cell_type": "code",
   "execution_count": 15,
   "metadata": {},
   "outputs": [
    {
     "data": {
      "text/plain": [
       "14049"
      ]
     },
     "execution_count": 15,
     "metadata": {},
     "output_type": "execute_result"
    }
   ],
   "source": [
    "len(module5ml)"
   ]
  },
  {
   "cell_type": "code",
   "execution_count": 16,
   "metadata": {},
   "outputs": [
    {
     "data": {
      "text/plain": [
       "9016"
      ]
     },
     "execution_count": 16,
     "metadata": {},
     "output_type": "execute_result"
    }
   ],
   "source": [
    "#Remove activity outside semester start and end dates range -Timeedit5\n",
    "mask5 = (module5ml['Date'] >= StartDate) & (module5ml['Date'] <= EndDate)\n",
    "\n",
    "module5ml = module5ml.loc[mask5]\n",
    "\n",
    "len(module5ml)"
   ]
  },
  {
   "cell_type": "code",
   "execution_count": 17,
   "metadata": {},
   "outputs": [
    {
     "data": {
      "text/plain": [
       "2284"
      ]
     },
     "execution_count": 17,
     "metadata": {},
     "output_type": "execute_result"
    }
   ],
   "source": [
    "#Remove activity outside semester start and end dates range -Timeedit1\n",
    "week5_5 = (module5ml['Date'] >= StartDate) & (module5ml['Date'] <= TriOne)\n",
    "\n",
    "FirstFive5 = module5ml.loc[week5_5]\n",
    "\n",
    "len(FirstFive5)\n"
   ]
  },
  {
   "cell_type": "code",
   "execution_count": 18,
   "metadata": {},
   "outputs": [
    {
     "data": {
      "text/plain": [
       "5333"
      ]
     },
     "execution_count": 18,
     "metadata": {},
     "output_type": "execute_result"
    }
   ],
   "source": [
    "#Remove activity outside semester start and end dates range -Timeedit1\n",
    "week10_5 = (module5ml['Date'] >= TriOne) & (module5ml['Date'] <= TriTwo)\n",
    "\n",
    "FirstTen5 = module5ml.loc[week10_5]\n",
    "\n",
    "len(FirstTen5)\n"
   ]
  },
  {
   "cell_type": "code",
   "execution_count": 19,
   "metadata": {},
   "outputs": [
    {
     "data": {
      "text/plain": [
       "1529"
      ]
     },
     "execution_count": 19,
     "metadata": {},
     "output_type": "execute_result"
    }
   ],
   "source": [
    "#Remove activity outside semester start and end dates range -Timeedit1\n",
    "week15_5 = (module5ml['Date'] >= TriTwo) & (module5ml['Date'] <= EndDate)\n",
    "\n",
    "FirstFivt5 = module5ml.loc[week15_5]\n",
    "\n",
    "len(FirstFivt5)\n"
   ]
  },
  {
   "cell_type": "code",
   "execution_count": 20,
   "metadata": {},
   "outputs": [
    {
     "data": {
      "text/plain": [
       "Time                      object\n",
       "User full name            object\n",
       "Affected user             object\n",
       "Event context             object\n",
       "Component                 object\n",
       "Event name                object\n",
       "Description               object\n",
       "Origin                    object\n",
       "IP address                object\n",
       "Date              datetime64[ns]\n",
       "dtype: object"
      ]
     },
     "execution_count": 20,
     "metadata": {},
     "output_type": "execute_result"
    }
   ],
   "source": [
    "module5ml.dtypes"
   ]
  },
  {
   "cell_type": "code",
   "execution_count": 21,
   "metadata": {
    "collapsed": true
   },
   "outputs": [],
   "source": [
    "#Splituser5\n",
    "# new data frame with split value columns \n",
    "new5 = module5ml[\"User full name\"].str.split(\" \", n = 1, expand = True)\n"
   ]
  },
  {
   "cell_type": "code",
   "execution_count": 22,
   "metadata": {
    "collapsed": true
   },
   "outputs": [],
   "source": [
    "# making separate first name column from new data frame \n",
    "module5ml[\"First name\"]= new5[0] \n",
    "\n",
    "# making separate last name column from new data frame \n",
    "module5ml[\"Last name\"]= new5[1] \n"
   ]
  },
  {
   "cell_type": "code",
   "execution_count": 24,
   "metadata": {},
   "outputs": [
    {
     "data": {
      "text/html": [
       "<div>\n",
       "<style>\n",
       "    .dataframe thead tr:only-child th {\n",
       "        text-align: right;\n",
       "    }\n",
       "\n",
       "    .dataframe thead th {\n",
       "        text-align: left;\n",
       "    }\n",
       "\n",
       "    .dataframe tbody tr th {\n",
       "        vertical-align: top;\n",
       "    }\n",
       "</style>\n",
       "<table border=\"1\" class=\"dataframe\">\n",
       "  <thead>\n",
       "    <tr style=\"text-align: right;\">\n",
       "      <th></th>\n",
       "      <th>Time</th>\n",
       "      <th>User full name</th>\n",
       "      <th>Affected user</th>\n",
       "      <th>Event context</th>\n",
       "      <th>Component</th>\n",
       "      <th>Event name</th>\n",
       "      <th>Description</th>\n",
       "      <th>Origin</th>\n",
       "      <th>IP address</th>\n",
       "      <th>Date</th>\n",
       "      <th>First name</th>\n",
       "      <th>Last name</th>\n",
       "    </tr>\n",
       "  </thead>\n",
       "  <tbody>\n",
       "    <tr>\n",
       "      <th>3</th>\n",
       "      <td>14:26</td>\n",
       "      <td>aI1T bxjW</td>\n",
       "      <td>-</td>\n",
       "      <td>Assignment: Assignment 1    T</td>\n",
       "      <td>Assignment</td>\n",
       "      <td>The status of the submission has been viewed.</td>\n",
       "      <td>The user with id '0' has viewed the submission...</td>\n",
       "      <td>web</td>\n",
       "      <td>127.0.0.1</td>\n",
       "      <td>2019-01-03</td>\n",
       "      <td>aI1T</td>\n",
       "      <td>bxjW</td>\n",
       "    </tr>\n",
       "    <tr>\n",
       "      <th>4</th>\n",
       "      <td>14:26</td>\n",
       "      <td>aI1T bxjW</td>\n",
       "      <td>-</td>\n",
       "      <td>Course: Module 5</td>\n",
       "      <td>System</td>\n",
       "      <td>Course user report viewed</td>\n",
       "      <td>The user with id '0' viewed the user report fo...</td>\n",
       "      <td>web</td>\n",
       "      <td>127.0.0.1</td>\n",
       "      <td>2019-01-03</td>\n",
       "      <td>aI1T</td>\n",
       "      <td>bxjW</td>\n",
       "    </tr>\n",
       "  </tbody>\n",
       "</table>\n",
       "</div>"
      ],
      "text/plain": [
       "     Time User full name Affected user                  Event context  \\\n",
       "3   14:26      aI1T bxjW             -  Assignment: Assignment 1    T   \n",
       "4   14:26      aI1T bxjW             -               Course: Module 5   \n",
       "\n",
       "    Component                                     Event name  \\\n",
       "3  Assignment  The status of the submission has been viewed.   \n",
       "4      System                      Course user report viewed   \n",
       "\n",
       "                                         Description Origin IP address  \\\n",
       "3  The user with id '0' has viewed the submission...    web  127.0.0.1   \n",
       "4  The user with id '0' viewed the user report fo...    web  127.0.0.1   \n",
       "\n",
       "        Date First name Last name  \n",
       "3 2019-01-03       aI1T      bxjW  \n",
       "4 2019-01-03       aI1T      bxjW  "
      ]
     },
     "execution_count": 24,
     "metadata": {},
     "output_type": "execute_result"
    }
   ],
   "source": [
    "module5ml.head(2)"
   ]
  },
  {
   "cell_type": "code",
   "execution_count": 25,
   "metadata": {
    "collapsed": true
   },
   "outputs": [],
   "source": [
    "#m5ml_subset\n",
    "m5ml_subset = module5ml.drop(module5ml[['IP address','Origin','Description','Affected user']], axis=1)"
   ]
  },
  {
   "cell_type": "code",
   "execution_count": 26,
   "metadata": {},
   "outputs": [
    {
     "name": "stdout",
     "output_type": "stream",
     "text": [
      "      Time User full name       Date First name Last name  \\\n",
      "3    14:26      aI1T bxjW 2019-01-03       aI1T      bxjW   \n",
      "4    14:26      aI1T bxjW 2019-01-03       aI1T      bxjW   \n",
      "5    09:19      aA6B bBfk 2019-01-03       aA6B      bBfk   \n",
      "6    09:17      aA6B bBfk 2019-01-03       aA6B      bBfk   \n",
      "52   10:04      a3xG bp9L 2019-01-02       a3xG      bp9L   \n",
      "\n",
      "    Event name_A file has been uploaded.  \\\n",
      "3                                      0   \n",
      "4                                      0   \n",
      "5                                      0   \n",
      "6                                      0   \n",
      "52                                     0   \n",
      "\n",
      "    Event name_A submission has been submitted.  \\\n",
      "3                                             0   \n",
      "4                                             0   \n",
      "5                                             0   \n",
      "6                                             0   \n",
      "52                                            0   \n",
      "\n",
      "    Event name_An online text has been uploaded.  \\\n",
      "3                                              0   \n",
      "4                                              0   \n",
      "5                                              0   \n",
      "6                                              0   \n",
      "52                                             0   \n",
      "\n",
      "    Event name_Badge listing viewed  Event name_Comment created  \\\n",
      "3                                 0                           0   \n",
      "4                                 0                           0   \n",
      "5                                 0                           0   \n",
      "6                                 0                           0   \n",
      "52                                0                           0   \n",
      "\n",
      "            ...            Component_File submissions  Component_Folder  \\\n",
      "3           ...                                     0                 0   \n",
      "4           ...                                     0                 0   \n",
      "5           ...                                     0                 0   \n",
      "6           ...                                     0                 0   \n",
      "52          ...                                     0                 0   \n",
      "\n",
      "    Component_Forum  Component_Online text submissions  \\\n",
      "3                 0                                  0   \n",
      "4                 0                                  0   \n",
      "5                 0                                  0   \n",
      "6                 0                                  0   \n",
      "52                0                                  0   \n",
      "\n",
      "    Component_Overview report  Component_Page  Component_Submission comments  \\\n",
      "3                           0               0                              0   \n",
      "4                           0               0                              0   \n",
      "5                           0               0                              0   \n",
      "6                           0               0                              0   \n",
      "52                          0               0                              0   \n",
      "\n",
      "    Component_System  Component_URL  Component_User report  \n",
      "3                  0              0                      0  \n",
      "4                  1              0                      0  \n",
      "5                  0              0                      0  \n",
      "6                  1              0                      0  \n",
      "52                 1              0                      0  \n",
      "\n",
      "[5 rows x 123 columns]\n"
     ]
    }
   ],
   "source": [
    "#onehot5\n",
    "module5ml_onehot = m5ml_subset.copy()\n",
    "module5ml_onehot = pd.get_dummies(module5ml_onehot, columns=['Event name'], prefix = ['Event name'])\n",
    "module5ml_onehot = pd.get_dummies(module5ml_onehot, columns=['Event context'], prefix = ['Event context'])\n",
    "module5ml_onehot = pd.get_dummies(module5ml_onehot, columns=['Component'], prefix = ['Component'])\n",
    "\n",
    "\n",
    "print(module5ml_onehot.head())\n"
   ]
  },
  {
   "cell_type": "code",
   "execution_count": 28,
   "metadata": {
    "collapsed": true
   },
   "outputs": [],
   "source": [
    "m5mg = module5mg[['First name', 'Surname', 'ID number', 'Course total (Real)','Assignment: Assignment 1 T (Real)', 'Assignment: Assignment 2 - Submit (Real)', 'Assignment: FG (Real)', 'Assignment: Pre-submission meeting (Real)', 'Assignment 1 Non-Linear S total (Real)', 'Assignment 2 V total (Real)', 'Attendance: Attendance (Real)', 'MCQ Test total (Real)', 'Quiz: MCQ 2018 (Real)']]"
   ]
  },
  {
   "cell_type": "code",
   "execution_count": 29,
   "metadata": {
    "collapsed": true
   },
   "outputs": [],
   "source": [
    "#Engaged = > 55\n",
    "engaged5 = m5mg['Course total (Real)'] > 55\n"
   ]
  },
  {
   "cell_type": "code",
   "execution_count": 30,
   "metadata": {},
   "outputs": [
    {
     "name": "stderr",
     "output_type": "stream",
     "text": [
      "C:\\Program Files (x86)\\Microsoft Visual Studio\\Shared\\Anaconda3_64\\lib\\site-packages\\ipykernel_launcher.py:3: SettingWithCopyWarning: \n",
      "A value is trying to be set on a copy of a slice from a DataFrame.\n",
      "Try using .loc[row_indexer,col_indexer] = value instead\n",
      "\n",
      "See the caveats in the documentation: http://pandas.pydata.org/pandas-docs/stable/indexing.html#indexing-view-versus-copy\n",
      "  This is separate from the ipykernel package so we can avoid doing imports until\n"
     ]
    }
   ],
   "source": [
    "# Create a new column called df.engaged where the value is yes\n",
    "# if df.age is greater than 55 and no if not\n",
    "m5mg['engaged'] = np.where(m5mg['Course total (Real)']>=55, '1', '0')\n"
   ]
  },
  {
   "cell_type": "code",
   "execution_count": 31,
   "metadata": {},
   "outputs": [
    {
     "name": "stderr",
     "output_type": "stream",
     "text": [
      "C:\\Program Files (x86)\\Microsoft Visual Studio\\Shared\\Anaconda3_64\\lib\\site-packages\\ipykernel_launcher.py:1: SettingWithCopyWarning: \n",
      "A value is trying to be set on a copy of a slice from a DataFrame.\n",
      "Try using .loc[row_indexer,col_indexer] = value instead\n",
      "\n",
      "See the caveats in the documentation: http://pandas.pydata.org/pandas-docs/stable/indexing.html#indexing-view-versus-copy\n",
      "  \"\"\"Entry point for launching an IPython kernel.\n"
     ]
    }
   ],
   "source": [
    "m5mg['engaged'] = pd.to_numeric(m5mg['engaged'])"
   ]
  },
  {
   "cell_type": "code",
   "execution_count": 32,
   "metadata": {},
   "outputs": [
    {
     "name": "stdout",
     "output_type": "stream",
     "text": [
      "0    39\n",
      "1    24\n",
      "Name: engaged, dtype: int64\n"
     ]
    }
   ],
   "source": [
    "print(m5mg['engaged'].value_counts(dropna=False))"
   ]
  },
  {
   "cell_type": "code",
   "execution_count": 33,
   "metadata": {},
   "outputs": [
    {
     "data": {
      "text/plain": [
       "First name                                    object\n",
       "Surname                                       object\n",
       "ID number                                     object\n",
       "Course total (Real)                          float64\n",
       "Assignment: Assignment 1 T (Real)              int64\n",
       "Assignment: Assignment 2 - Submit (Real)     float64\n",
       "Assignment: FG (Real)                          int64\n",
       "Assignment: Pre-submission meeting (Real)      int64\n",
       "Assignment 1 Non-Linear S total (Real)       float64\n",
       "Assignment 2 V total (Real)                  float64\n",
       "Attendance: Attendance (Real)                float64\n",
       "MCQ Test total (Real)                        float64\n",
       "Quiz: MCQ 2018 (Real)                        float64\n",
       "engaged                                        int64\n",
       "dtype: object"
      ]
     },
     "execution_count": 33,
     "metadata": {},
     "output_type": "execute_result"
    }
   ],
   "source": [
    "m5mg.dtypes"
   ]
  },
  {
   "cell_type": "code",
   "execution_count": 35,
   "metadata": {
    "collapsed": true
   },
   "outputs": [],
   "source": [
    "m5mg_subset = m5mg"
   ]
  },
  {
   "cell_type": "code",
   "execution_count": 36,
   "metadata": {},
   "outputs": [],
   "source": [
    "merge_subset5 = pd.merge(module5ml_onehot,m5mg_subset[['First name','engaged']],on='First name', how='left')"
   ]
  },
  {
   "cell_type": "code",
   "execution_count": 37,
   "metadata": {},
   "outputs": [
    {
     "data": {
      "text/html": [
       "<div>\n",
       "<style>\n",
       "    .dataframe thead tr:only-child th {\n",
       "        text-align: right;\n",
       "    }\n",
       "\n",
       "    .dataframe thead th {\n",
       "        text-align: left;\n",
       "    }\n",
       "\n",
       "    .dataframe tbody tr th {\n",
       "        vertical-align: top;\n",
       "    }\n",
       "</style>\n",
       "<table border=\"1\" class=\"dataframe\">\n",
       "  <thead>\n",
       "    <tr style=\"text-align: right;\">\n",
       "      <th></th>\n",
       "      <th>Time</th>\n",
       "      <th>User full name</th>\n",
       "      <th>Date</th>\n",
       "      <th>First name</th>\n",
       "      <th>Last name</th>\n",
       "      <th>Event name_A file has been uploaded.</th>\n",
       "      <th>Event name_A submission has been submitted.</th>\n",
       "      <th>Event name_An online text has been uploaded.</th>\n",
       "      <th>Event name_Badge listing viewed</th>\n",
       "      <th>Event name_Comment created</th>\n",
       "      <th>...</th>\n",
       "      <th>Component_Folder</th>\n",
       "      <th>Component_Forum</th>\n",
       "      <th>Component_Online text submissions</th>\n",
       "      <th>Component_Overview report</th>\n",
       "      <th>Component_Page</th>\n",
       "      <th>Component_Submission comments</th>\n",
       "      <th>Component_System</th>\n",
       "      <th>Component_URL</th>\n",
       "      <th>Component_User report</th>\n",
       "      <th>engaged</th>\n",
       "    </tr>\n",
       "  </thead>\n",
       "  <tbody>\n",
       "    <tr>\n",
       "      <th>0</th>\n",
       "      <td>14:26</td>\n",
       "      <td>aI1T bxjW</td>\n",
       "      <td>2019-01-03</td>\n",
       "      <td>aI1T</td>\n",
       "      <td>bxjW</td>\n",
       "      <td>0</td>\n",
       "      <td>0</td>\n",
       "      <td>0</td>\n",
       "      <td>0</td>\n",
       "      <td>0</td>\n",
       "      <td>...</td>\n",
       "      <td>0</td>\n",
       "      <td>0</td>\n",
       "      <td>0</td>\n",
       "      <td>0</td>\n",
       "      <td>0</td>\n",
       "      <td>0</td>\n",
       "      <td>0</td>\n",
       "      <td>0</td>\n",
       "      <td>0</td>\n",
       "      <td>0</td>\n",
       "    </tr>\n",
       "    <tr>\n",
       "      <th>1</th>\n",
       "      <td>14:26</td>\n",
       "      <td>aI1T bxjW</td>\n",
       "      <td>2019-01-03</td>\n",
       "      <td>aI1T</td>\n",
       "      <td>bxjW</td>\n",
       "      <td>0</td>\n",
       "      <td>0</td>\n",
       "      <td>0</td>\n",
       "      <td>0</td>\n",
       "      <td>0</td>\n",
       "      <td>...</td>\n",
       "      <td>0</td>\n",
       "      <td>0</td>\n",
       "      <td>0</td>\n",
       "      <td>0</td>\n",
       "      <td>0</td>\n",
       "      <td>0</td>\n",
       "      <td>1</td>\n",
       "      <td>0</td>\n",
       "      <td>0</td>\n",
       "      <td>0</td>\n",
       "    </tr>\n",
       "  </tbody>\n",
       "</table>\n",
       "<p>2 rows × 124 columns</p>\n",
       "</div>"
      ],
      "text/plain": [
       "     Time User full name       Date First name Last name  \\\n",
       "0   14:26      aI1T bxjW 2019-01-03       aI1T      bxjW   \n",
       "1   14:26      aI1T bxjW 2019-01-03       aI1T      bxjW   \n",
       "\n",
       "   Event name_A file has been uploaded.  \\\n",
       "0                                     0   \n",
       "1                                     0   \n",
       "\n",
       "   Event name_A submission has been submitted.  \\\n",
       "0                                            0   \n",
       "1                                            0   \n",
       "\n",
       "   Event name_An online text has been uploaded.  \\\n",
       "0                                             0   \n",
       "1                                             0   \n",
       "\n",
       "   Event name_Badge listing viewed  Event name_Comment created   ...     \\\n",
       "0                                0                           0   ...      \n",
       "1                                0                           0   ...      \n",
       "\n",
       "   Component_Folder  Component_Forum  Component_Online text submissions  \\\n",
       "0                 0                0                                  0   \n",
       "1                 0                0                                  0   \n",
       "\n",
       "   Component_Overview report  Component_Page  Component_Submission comments  \\\n",
       "0                          0               0                              0   \n",
       "1                          0               0                              0   \n",
       "\n",
       "   Component_System  Component_URL  Component_User report  engaged  \n",
       "0                 0              0                      0        0  \n",
       "1                 1              0                      0        0  \n",
       "\n",
       "[2 rows x 124 columns]"
      ]
     },
     "execution_count": 37,
     "metadata": {},
     "output_type": "execute_result"
    }
   ],
   "source": [
    "merge_subset5.head(2)"
   ]
  },
  {
   "cell_type": "code",
   "execution_count": 38,
   "metadata": {
    "collapsed": true
   },
   "outputs": [],
   "source": [
    "X5s = merge_subset5.iloc[:,5:123]  #independent columns\n",
    "y5s = merge_subset5.iloc[:,-1]    #target column i.e engaged\n"
   ]
  },
  {
   "cell_type": "code",
   "execution_count": 39,
   "metadata": {},
   "outputs": [
    {
     "data": {
      "text/html": [
       "<div>\n",
       "<style>\n",
       "    .dataframe thead tr:only-child th {\n",
       "        text-align: right;\n",
       "    }\n",
       "\n",
       "    .dataframe thead th {\n",
       "        text-align: left;\n",
       "    }\n",
       "\n",
       "    .dataframe tbody tr th {\n",
       "        vertical-align: top;\n",
       "    }\n",
       "</style>\n",
       "<table border=\"1\" class=\"dataframe\">\n",
       "  <thead>\n",
       "    <tr style=\"text-align: right;\">\n",
       "      <th></th>\n",
       "      <th>Event name_A file has been uploaded.</th>\n",
       "      <th>Event name_A submission has been submitted.</th>\n",
       "      <th>Event name_An online text has been uploaded.</th>\n",
       "      <th>Event name_Badge listing viewed</th>\n",
       "      <th>Event name_Comment created</th>\n",
       "      <th>Event name_Comment deleted</th>\n",
       "      <th>Event name_Course module instance list viewed</th>\n",
       "      <th>Event name_Course module viewed</th>\n",
       "      <th>Event name_Course searched</th>\n",
       "      <th>Event name_Course user report viewed</th>\n",
       "      <th>...</th>\n",
       "      <th>Component_File submissions</th>\n",
       "      <th>Component_Folder</th>\n",
       "      <th>Component_Forum</th>\n",
       "      <th>Component_Online text submissions</th>\n",
       "      <th>Component_Overview report</th>\n",
       "      <th>Component_Page</th>\n",
       "      <th>Component_Submission comments</th>\n",
       "      <th>Component_System</th>\n",
       "      <th>Component_URL</th>\n",
       "      <th>Component_User report</th>\n",
       "    </tr>\n",
       "  </thead>\n",
       "  <tbody>\n",
       "    <tr>\n",
       "      <th>0</th>\n",
       "      <td>0</td>\n",
       "      <td>0</td>\n",
       "      <td>0</td>\n",
       "      <td>0</td>\n",
       "      <td>0</td>\n",
       "      <td>0</td>\n",
       "      <td>0</td>\n",
       "      <td>0</td>\n",
       "      <td>0</td>\n",
       "      <td>0</td>\n",
       "      <td>...</td>\n",
       "      <td>0</td>\n",
       "      <td>0</td>\n",
       "      <td>0</td>\n",
       "      <td>0</td>\n",
       "      <td>0</td>\n",
       "      <td>0</td>\n",
       "      <td>0</td>\n",
       "      <td>0</td>\n",
       "      <td>0</td>\n",
       "      <td>0</td>\n",
       "    </tr>\n",
       "    <tr>\n",
       "      <th>1</th>\n",
       "      <td>0</td>\n",
       "      <td>0</td>\n",
       "      <td>0</td>\n",
       "      <td>0</td>\n",
       "      <td>0</td>\n",
       "      <td>0</td>\n",
       "      <td>0</td>\n",
       "      <td>0</td>\n",
       "      <td>0</td>\n",
       "      <td>1</td>\n",
       "      <td>...</td>\n",
       "      <td>0</td>\n",
       "      <td>0</td>\n",
       "      <td>0</td>\n",
       "      <td>0</td>\n",
       "      <td>0</td>\n",
       "      <td>0</td>\n",
       "      <td>0</td>\n",
       "      <td>1</td>\n",
       "      <td>0</td>\n",
       "      <td>0</td>\n",
       "    </tr>\n",
       "  </tbody>\n",
       "</table>\n",
       "<p>2 rows × 118 columns</p>\n",
       "</div>"
      ],
      "text/plain": [
       "   Event name_A file has been uploaded.  \\\n",
       "0                                     0   \n",
       "1                                     0   \n",
       "\n",
       "   Event name_A submission has been submitted.  \\\n",
       "0                                            0   \n",
       "1                                            0   \n",
       "\n",
       "   Event name_An online text has been uploaded.  \\\n",
       "0                                             0   \n",
       "1                                             0   \n",
       "\n",
       "   Event name_Badge listing viewed  Event name_Comment created  \\\n",
       "0                                0                           0   \n",
       "1                                0                           0   \n",
       "\n",
       "   Event name_Comment deleted  Event name_Course module instance list viewed  \\\n",
       "0                           0                                              0   \n",
       "1                           0                                              0   \n",
       "\n",
       "   Event name_Course module viewed  Event name_Course searched  \\\n",
       "0                                0                           0   \n",
       "1                                0                           0   \n",
       "\n",
       "   Event name_Course user report viewed          ...            \\\n",
       "0                                     0          ...             \n",
       "1                                     1          ...             \n",
       "\n",
       "   Component_File submissions  Component_Folder  Component_Forum  \\\n",
       "0                           0                 0                0   \n",
       "1                           0                 0                0   \n",
       "\n",
       "   Component_Online text submissions  Component_Overview report  \\\n",
       "0                                  0                          0   \n",
       "1                                  0                          0   \n",
       "\n",
       "   Component_Page  Component_Submission comments  Component_System  \\\n",
       "0               0                              0                 0   \n",
       "1               0                              0                 1   \n",
       "\n",
       "   Component_URL  Component_User report  \n",
       "0              0                      0  \n",
       "1              0                      0  \n",
       "\n",
       "[2 rows x 118 columns]"
      ]
     },
     "execution_count": 39,
     "metadata": {},
     "output_type": "execute_result"
    }
   ],
   "source": [
    "X5s.head(2)"
   ]
  },
  {
   "cell_type": "code",
   "execution_count": 40,
   "metadata": {},
   "outputs": [
    {
     "data": {
      "text/plain": [
       "0    0\n",
       "1    0\n",
       "Name: engaged, dtype: int64"
      ]
     },
     "execution_count": 40,
     "metadata": {},
     "output_type": "execute_result"
    }
   ],
   "source": [
    "y5s.head(2)"
   ]
  },
  {
   "cell_type": "code",
   "execution_count": 41,
   "metadata": {},
   "outputs": [
    {
     "name": "stdout",
     "output_type": "stream",
     "text": [
      "                                           Specs      Score\n",
      "36            Event context_Assignment: v upload  38.101034\n",
      "110                              Component_Forum  15.486591\n",
      "83               Event context_Forum: News forum  12.625766\n",
      "26   Event context_Assignment: Assignment 1    T  11.729773\n",
      "22                   Event name_User list viewed   9.854485\n",
      "7                Event name_Course module viewed   9.600609\n",
      "11                  Event name_Discussion viewed   8.272923\n",
      "13           Event name_Grade user report viewed   7.841655\n",
      "117                        Component_User report   7.841655\n",
      "108                   Component_File submissions   7.810321\n"
     ]
    }
   ],
   "source": [
    "#apply SelectKBest class to extract top 10 best features\n",
    "bestfeatures = SelectKBest(score_func=chi2, k=10)\n",
    "fit = bestfeatures.fit(X5s,y5s)\n",
    "dfscores = pd.DataFrame(fit.scores_)\n",
    "dfcolumns = pd.DataFrame(X5s.columns)\n",
    "#concat two dataframes for better visualization \n",
    "featureScores = pd.concat([dfcolumns,dfscores],axis=1)\n",
    "featureScores.columns = ['Specs','Score']  #naming the dataframe columns\n",
    "print(featureScores.nlargest(10,'Score'))  #print 10 best features\n",
    "#https://towardsdatascience.com/feature-selection-techniques-in-machine-learning-with-python-f24e7da3f36e\n"
   ]
  },
  {
   "cell_type": "code",
   "execution_count": 42,
   "metadata": {},
   "outputs": [
    {
     "name": "stdout",
     "output_type": "stream",
     "text": [
      "[  4.54284611e-03   9.72567046e-03   9.40187569e-04   5.54698618e-03\n",
      "   4.01882209e-03   9.85897818e-04   9.95477441e-03   2.88184755e-02\n",
      "   1.98782062e-03   3.76488889e-04   7.51789440e-03   2.45841854e-03\n",
      "   8.95363669e-04   2.05888795e-02   8.66999852e-04   2.22133681e-03\n",
      "   8.29898180e-03   9.69702421e-03   1.31175670e-02   2.03292469e-02\n",
      "   2.02107704e-02   1.02460128e-03   3.83929635e-02   6.45807852e-03\n",
      "   5.66207230e-04   4.02731887e-03   5.36326234e-02   7.86117071e-03\n",
      "   6.23774163e-03   1.18819657e-02   8.02978167e-03   4.16475056e-03\n",
      "   3.74583405e-02   1.08811431e-02   5.78078447e-03   1.13718125e-02\n",
      "   1.26525628e-01   1.30745139e-02   2.97291800e-04   1.00560994e-02\n",
      "   5.03090463e-04   3.43762782e-03   1.64282068e-03   2.32494316e-03\n",
      "   3.37532456e-04   1.65046394e-02   1.61259398e-03   6.77393672e-03\n",
      "   6.78042774e-03   4.25200162e-03   2.24879060e-04   6.44611703e-03\n",
      "   5.76146546e-03   1.33576671e-02   1.72481619e-04   1.00485991e-03\n",
      "   8.10651442e-04   5.90375566e-03   9.52474452e-03   9.35980833e-04\n",
      "   3.20707110e-02   5.29317303e-03   5.87264983e-03   5.00827951e-03\n",
      "   5.56916597e-03   4.90228232e-05   3.04389058e-03   1.77270788e-03\n",
      "   1.52936177e-02   3.48294774e-03   4.68907110e-03   3.28754462e-03\n",
      "   4.38621058e-04   4.17047044e-03   9.33386331e-03   7.09404206e-03\n",
      "   2.55474641e-04   1.03893115e-02   5.71188722e-03   8.82405967e-04\n",
      "   3.84131889e-03   1.57661442e-02   1.14719322e-02   1.96318189e-02\n",
      "   6.57078743e-03   3.44065071e-03   1.17870391e-03   4.79217748e-03\n",
      "   3.22324079e-04   4.64909246e-04   1.48093490e-02   2.93366107e-04\n",
      "   6.79977828e-04   1.53867757e-02   1.14723670e-03   1.80515056e-03\n",
      "   1.84416192e-03   1.68365417e-03   1.58014761e-03   1.47660435e-04\n",
      "   1.60429083e-04   3.23126618e-03   2.41450297e-03   3.56984602e-04\n",
      "   1.64348547e-04   1.35767208e-02   1.75700503e-02   8.49361901e-03\n",
      "   1.94232643e-02   6.45613289e-03   4.44284822e-02   1.35308527e-03\n",
      "   1.21580162e-03   5.00602568e-04   5.63212066e-03   9.88518982e-03\n",
      "   1.11719909e-03   1.43176091e-02]\n"
     ]
    },
    {
     "data": {
      "image/png": "[encoded data removed]",
      "text/plain": [
       "<matplotlib.figure.Figure at 0x1b8a9509048>"
      ]
     },
     "metadata": {},
     "output_type": "display_data"
    }
   ],
   "source": [
    "from sklearn.ensemble import ExtraTreesClassifier\n",
    "import matplotlib.pyplot as plt\n",
    "model = ExtraTreesClassifier()\n",
    "model.fit(X5s,y5s)\n",
    "print(model.feature_importances_) #use inbuilt class feature_importances of tree based classifiers\n",
    "#plot graph of feature importances for better visualization\n",
    "feat_importances = pd.Series(model.feature_importances_, index=X5s.columns)\n",
    "feat_importances.nlargest(10).plot(kind='barh')\n",
    "plt.show()\n"
   ]
  },
  {
   "cell_type": "code",
   "execution_count": null,
   "metadata": {
    "collapsed": true
   },
   "outputs": [],
   "source": [
    "#get correlations of each features in dataset\n",
    "corrmat = merge_subset5.corr()\n",
    "top_corr_features = corrmat.index\n",
    "plt.figure(figsize=(20,20))\n",
    "#plot heat map\n",
    "g=sns.heatmap(merge_subset5[top_corr_features].corr(),annot=True,cmap=\"RdYlGn\")\n"
   ]
  }
 ],
 "metadata": {
  "kernelspec": {
   "display_name": "Python 3",
   "language": "python",
   "name": "python3"
  },
  "language_info": {
   "codemirror_mode": {
    "name": "ipython",
    "version": 3
   },
   "file_extension": ".py",
   "mimetype": "text/x-python",
   "name": "python",
   "nbconvert_exporter": "python",
   "pygments_lexer": "ipython3",
   "version": "3.6.2"
  }
 },
 "nbformat": 4,
 "nbformat_minor": 2
}
