{
 "cells": [
  {
   "cell_type": "code",
   "execution_count": 1,
   "metadata": {
    "collapsed": true
   },
   "outputs": [],
   "source": [
    "\n",
    "# Importing libraries\n",
    "import pandas as pd\n",
    "import matplotlib.pyplot as plt\n",
    "from matplotlib import pyplot as plt\n",
    "#import missingno as msno\n",
    "from scipy import stats\n",
    "\n",
    "import numpy as np\n",
    "import datetime\n",
    "import seaborn as sns\n",
    "from sklearn.svm import SVC\n",
    "from sklearn.preprocessing import LabelEncoder\n",
    "from sklearn.cluster import KMeans\n",
    "from sklearn.feature_selection import SelectKBest\n",
    "from sklearn.feature_selection import chi2\n",
    "# Import DecisionTreeClassifier\n",
    "from sklearn.tree import DecisionTreeClassifier\n",
    "# Import RandomForestClassifier\n",
    "from sklearn.ensemble import RandomForestClassifier\n",
    "\n",
    "# Import precision_score\n",
    "from sklearn.metrics import precision_score\n",
    "\n",
    "from sklearn import metrics #Import scikit-learn metrics module for accuracy calculation\n",
    "\n",
    "\n",
    "# Import necessary modules\n",
    "from sklearn.linear_model import LinearRegression\n",
    "from sklearn.model_selection import cross_val_score\n",
    "\n",
    "\n",
    "\n",
    "# Import recall_score\n",
    "from sklearn.metrics import recall_score\n",
    "\n",
    "#from sklearn.metrics import roc_auc_curve\n",
    "# Import roc_curve\n",
    "from sklearn.metrics import roc_curve\n",
    "\n",
    "\n",
    "\n",
    "from sklearn.svm import SVC\n",
    "\n",
    "# Import confusion matrix\n",
    "from sklearn.metrics import confusion_matrix\n",
    "\n",
    "from sklearn.tree import export_graphviz\n",
    "from sklearn.externals.six import StringIO  \n",
    "from IPython.display import Image  \n",
    "#import pydotplus\n",
    "\n",
    "\n",
    "\n",
    "# Import train_test_split\n",
    "from sklearn.model_selection import train_test_split\n",
    "\n",
    "# Import LogisticRegression\n",
    "from sklearn.linear_model import LogisticRegression\n",
    "\n",
    "\n",
    "from sklearn import metrics #Import scikit-learn metrics module for accuracy calculation\n",
    "\n",
    "\n",
    "\n",
    "import scipy.stats as st\n",
    "#import pandas_profiling\n",
    "import requests \n",
    "%matplotlib inline\n"
   ]
  },
  {
   "cell_type": "code",
   "execution_count": 2,
   "metadata": {
    "collapsed": true
   },
   "outputs": [],
   "source": [
    "# Semester Start Date:\n",
    "StartDate = '2018-09-17' \n",
    "StartDate = pd.to_datetime(StartDate)\n"
   ]
  },
  {
   "cell_type": "code",
   "execution_count": 3,
   "metadata": {
    "collapsed": true
   },
   "outputs": [],
   "source": [
    "# Semester End Date:\n",
    "EndDate = '2019-01-21' \n",
    "EndDate = pd.to_datetime(EndDate)"
   ]
  },
  {
   "cell_type": "code",
   "execution_count": 4,
   "metadata": {
    "collapsed": true
   },
   "outputs": [],
   "source": [
    "TriOne = '2018-10-22'\n",
    "TriOne = pd.to_datetime(TriOne)"
   ]
  },
  {
   "cell_type": "code",
   "execution_count": 5,
   "metadata": {
    "collapsed": true
   },
   "outputs": [],
   "source": [
    "TriTwo = '2018-11-26'\n",
    "TriTwo = pd.to_datetime(TriTwo)"
   ]
  },
  {
   "cell_type": "code",
   "execution_count": 7,
   "metadata": {
    "collapsed": true
   },
   "outputs": [],
   "source": [
    "# Begin8\n",
    "# There are three files in Module 8.It has weeks and labs and assignment uploads.The class size is small though with only 11 student final grades.\n",
    "# 9 Students have passed and 2 student failed this module.\n",
    "#"
   ]
  },
  {
   "cell_type": "code",
   "execution_count": 8,
   "metadata": {
    "collapsed": true
   },
   "outputs": [],
   "source": [
    "# Begin8 - START OF MODULE 8\n",
    "# 3 FILEES in MODULE 8\n",
    "# m8mg,m8ml\n",
    "# Own grades and module logs"
   ]
  },
  {
   "cell_type": "code",
   "execution_count": 9,
   "metadata": {
    "collapsed": true
   },
   "outputs": [],
   "source": [
    "# Data Preperation Module 8\n",
    "#\n",
    "# Module 8\n",
    "\n",
    "module8ml = pd.read_csv('Module8-MoodleLogs.csv')"
   ]
  },
  {
   "cell_type": "code",
   "execution_count": 10,
   "metadata": {
    "collapsed": true
   },
   "outputs": [],
   "source": [
    "module8mg = pd.read_csv('Module8-MoodleGrades.csv')"
   ]
  },
  {
   "cell_type": "code",
   "execution_count": 12,
   "metadata": {
    "collapsed": true
   },
   "outputs": [],
   "source": [
    "module8og = pd.read_csv('Module8-OwnGrades.csv')"
   ]
  },
  {
   "cell_type": "code",
   "execution_count": 13,
   "metadata": {},
   "outputs": [
    {
     "name": "stdout",
     "output_type": "stream",
     "text": [
      "['ID number', 'First Name', 'Surname', 'CA Mark', 'CA Mark/100', 'Exam Mark', 'Final Mark', 'Final Mark (Rounded)', 'Final Grade']\n"
     ]
    }
   ],
   "source": [
    "print (module8og.columns.tolist())\n"
   ]
  },
  {
   "cell_type": "code",
   "execution_count": 14,
   "metadata": {},
   "outputs": [
    {
     "name": "stdout",
     "output_type": "stream",
     "text": [
      "['First name', 'Surname', 'ID number', 'Email address', 'Labs (Real)', 'Quiz: CA1 - Quiz - 15% CA (Real)', 'Assignment: CA2 - Lab Test - Screen Shot File UPLOAD (Real)', 'Course total (Real)', 'Last downloaded from this course']\n"
     ]
    }
   ],
   "source": [
    "print (module8mg.columns.tolist())\n"
   ]
  },
  {
   "cell_type": "code",
   "execution_count": 15,
   "metadata": {},
   "outputs": [
    {
     "name": "stdout",
     "output_type": "stream",
     "text": [
      "Time              952\n",
      "User full name     11\n",
      "Affected user       1\n",
      "Event context      40\n",
      "Component           9\n",
      "Event name         23\n",
      "Description        35\n",
      "Origin              1\n",
      "IP address          1\n",
      "dtype: int64\n"
     ]
    }
   ],
   "source": [
    "# Print the number of unique values in each modul8ml column\n",
    "print(module8ml.nunique())"
   ]
  },
  {
   "cell_type": "code",
   "execution_count": 16,
   "metadata": {},
   "outputs": [
    {
     "name": "stdout",
     "output_type": "stream",
     "text": [
      "ID number               11\n",
      "First Name              11\n",
      "Surname                 11\n",
      "CA Mark                 11\n",
      "CA Mark/100             11\n",
      "Exam Mark               11\n",
      "Final Mark              11\n",
      "Final Mark (Rounded)    11\n",
      "Final Grade              6\n",
      "dtype: int64\n"
     ]
    }
   ],
   "source": [
    "# Print the number of unique values in each modul8og column\n",
    "print(module8og.nunique())"
   ]
  },
  {
   "cell_type": "code",
   "execution_count": 17,
   "metadata": {},
   "outputs": [
    {
     "name": "stdout",
     "output_type": "stream",
     "text": [
      "Time              952\n",
      "User full name     11\n",
      "Affected user       1\n",
      "Event context      40\n",
      "Component           9\n",
      "Event name         23\n",
      "Description        35\n",
      "Origin              1\n",
      "IP address          1\n",
      "dtype: int64\n"
     ]
    }
   ],
   "source": [
    "# Print the number of unique values in each modul8mgl column\n",
    "print(module8ml.nunique())"
   ]
  },
  {
   "cell_type": "code",
   "execution_count": 18,
   "metadata": {
    "collapsed": true
   },
   "outputs": [],
   "source": [
    "# Cleanup8\n",
    "#\n",
    "#"
   ]
  },
  {
   "cell_type": "code",
   "execution_count": 19,
   "metadata": {
    "collapsed": true
   },
   "outputs": [],
   "source": [
    "#time8\n",
    "time8 = module8ml[\"Time\"].str.split(\",\", n = 1, expand = True)"
   ]
  },
  {
   "cell_type": "code",
   "execution_count": 20,
   "metadata": {
    "collapsed": true
   },
   "outputs": [],
   "source": [
    "\n",
    "# making separate Date column from new data frame \n",
    "module8ml[\"Date\"]= time8[0] \n",
    "\n",
    "# making seperate Time column from new data frame\n",
    "module8ml['Time']= time8[1]\n"
   ]
  },
  {
   "cell_type": "code",
   "execution_count": 21,
   "metadata": {
    "collapsed": true
   },
   "outputs": [],
   "source": [
    "# Convert the date column to datetime64\n",
    "module8ml.Date = pd.to_datetime(module8ml.Date)"
   ]
  },
  {
   "cell_type": "code",
   "execution_count": 22,
   "metadata": {},
   "outputs": [
    {
     "data": {
      "text/plain": [
       "1759"
      ]
     },
     "execution_count": 22,
     "metadata": {},
     "output_type": "execute_result"
    }
   ],
   "source": [
    "len(module8ml)"
   ]
  },
  {
   "cell_type": "code",
   "execution_count": 23,
   "metadata": {},
   "outputs": [
    {
     "data": {
      "text/plain": [
       "1026"
      ]
     },
     "execution_count": 23,
     "metadata": {},
     "output_type": "execute_result"
    }
   ],
   "source": [
    "#Timeedit8\n",
    "mask8 = (module8ml['Date'] >= StartDate) & (module8ml['Date'] <= EndDate)\n",
    "\n",
    "module8ml = module8ml.loc[mask8]\n",
    "\n",
    "len(module8ml)\n"
   ]
  },
  {
   "cell_type": "code",
   "execution_count": 24,
   "metadata": {},
   "outputs": [
    {
     "data": {
      "text/plain": [
       "292"
      ]
     },
     "execution_count": 24,
     "metadata": {},
     "output_type": "execute_result"
    }
   ],
   "source": [
    "#Remove activity outside semester start and end dates range -Timeedit1\n",
    "week5_8 = (module8ml['Date'] >= StartDate) & (module8ml['Date'] <= TriOne)\n",
    "\n",
    "FirstFive8 = module8ml.loc[week5_8]\n",
    "\n",
    "len(FirstFive8)\n"
   ]
  },
  {
   "cell_type": "code",
   "execution_count": 25,
   "metadata": {},
   "outputs": [
    {
     "data": {
      "text/plain": [
       "297"
      ]
     },
     "execution_count": 25,
     "metadata": {},
     "output_type": "execute_result"
    }
   ],
   "source": [
    "#Remove activity outside semester start and end dates range -Timeedit1\n",
    "week10_8 = (module8ml['Date'] >= TriOne) & (module8ml['Date'] <= TriTwo)\n",
    "\n",
    "FirstTen8 = module8ml.loc[week10_8]\n",
    "\n",
    "len(FirstTen8)\n"
   ]
  },
  {
   "cell_type": "code",
   "execution_count": 26,
   "metadata": {},
   "outputs": [
    {
     "data": {
      "text/plain": [
       "441"
      ]
     },
     "execution_count": 26,
     "metadata": {},
     "output_type": "execute_result"
    }
   ],
   "source": [
    "#Remove activity outside semester start and end dates range -Timeedit1\n",
    "week15_8 = (module8ml['Date'] >= TriTwo) & (module8ml['Date'] <= EndDate)\n",
    "\n",
    "FirstFivt8 = module8ml.loc[week15_8]\n",
    "\n",
    "len(FirstFivt8)\n"
   ]
  },
  {
   "cell_type": "code",
   "execution_count": 27,
   "metadata": {},
   "outputs": [
    {
     "data": {
      "text/plain": [
       "Time                      object\n",
       "User full name            object\n",
       "Affected user             object\n",
       "Event context             object\n",
       "Component                 object\n",
       "Event name                object\n",
       "Description               object\n",
       "Origin                    object\n",
       "IP address                object\n",
       "Date              datetime64[ns]\n",
       "dtype: object"
      ]
     },
     "execution_count": 27,
     "metadata": {},
     "output_type": "execute_result"
    }
   ],
   "source": [
    "module8ml.dtypes"
   ]
  },
  {
   "cell_type": "code",
   "execution_count": 28,
   "metadata": {
    "collapsed": true
   },
   "outputs": [],
   "source": [
    "module8ml = module8ml.drop(module8ml[['IP address','Origin','Description','Affected user']], axis=1)"
   ]
  },
  {
   "cell_type": "code",
   "execution_count": 29,
   "metadata": {},
   "outputs": [
    {
     "data": {
      "text/html": [
       "<div>\n",
       "<style>\n",
       "    .dataframe thead tr:only-child th {\n",
       "        text-align: right;\n",
       "    }\n",
       "\n",
       "    .dataframe thead th {\n",
       "        text-align: left;\n",
       "    }\n",
       "\n",
       "    .dataframe tbody tr th {\n",
       "        vertical-align: top;\n",
       "    }\n",
       "</style>\n",
       "<table border=\"1\" class=\"dataframe\">\n",
       "  <thead>\n",
       "    <tr style=\"text-align: right;\">\n",
       "      <th></th>\n",
       "      <th>Time</th>\n",
       "      <th>User full name</th>\n",
       "      <th>Event context</th>\n",
       "      <th>Component</th>\n",
       "      <th>Event name</th>\n",
       "      <th>Date</th>\n",
       "    </tr>\n",
       "  </thead>\n",
       "  <tbody>\n",
       "    <tr>\n",
       "      <th>15</th>\n",
       "      <td>12:33</td>\n",
       "      <td>azCY bvQB</td>\n",
       "      <td>Course: Module 8</td>\n",
       "      <td>System</td>\n",
       "      <td>Course viewed</td>\n",
       "      <td>2019-01-21</td>\n",
       "    </tr>\n",
       "    <tr>\n",
       "      <th>16</th>\n",
       "      <td>00:15</td>\n",
       "      <td>aa14 bMdv</td>\n",
       "      <td>Course: Module 8</td>\n",
       "      <td>User report</td>\n",
       "      <td>Grade user report viewed</td>\n",
       "      <td>2019-01-19</td>\n",
       "    </tr>\n",
       "  </tbody>\n",
       "</table>\n",
       "</div>"
      ],
      "text/plain": [
       "      Time User full name     Event context    Component  \\\n",
       "15   12:33      azCY bvQB  Course: Module 8       System   \n",
       "16   00:15      aa14 bMdv  Course: Module 8  User report   \n",
       "\n",
       "                  Event name       Date  \n",
       "15             Course viewed 2019-01-21  \n",
       "16  Grade user report viewed 2019-01-19  "
      ]
     },
     "execution_count": 29,
     "metadata": {},
     "output_type": "execute_result"
    }
   ],
   "source": [
    "module8ml.head(2)"
   ]
  },
  {
   "cell_type": "code",
   "execution_count": 30,
   "metadata": {
    "collapsed": true
   },
   "outputs": [],
   "source": [
    "# new data frame with split value columns \n",
    "new8 = module8ml[\"User full name\"].str.split(\" \", n = 1, expand = True)\n"
   ]
  },
  {
   "cell_type": "code",
   "execution_count": 31,
   "metadata": {
    "collapsed": true
   },
   "outputs": [],
   "source": [
    "# making separate first name column from new data frame \n",
    "module8ml[\"First name\"]= new8[0] \n",
    "\n",
    "# making separate last name column from new data frame \n",
    "module8ml[\"Last name\"]= new8[1] \n"
   ]
  },
  {
   "cell_type": "code",
   "execution_count": 32,
   "metadata": {},
   "outputs": [
    {
     "data": {
      "text/html": [
       "<div>\n",
       "<style>\n",
       "    .dataframe thead tr:only-child th {\n",
       "        text-align: right;\n",
       "    }\n",
       "\n",
       "    .dataframe thead th {\n",
       "        text-align: left;\n",
       "    }\n",
       "\n",
       "    .dataframe tbody tr th {\n",
       "        vertical-align: top;\n",
       "    }\n",
       "</style>\n",
       "<table border=\"1\" class=\"dataframe\">\n",
       "  <thead>\n",
       "    <tr style=\"text-align: right;\">\n",
       "      <th></th>\n",
       "      <th>Time</th>\n",
       "      <th>User full name</th>\n",
       "      <th>Event context</th>\n",
       "      <th>Component</th>\n",
       "      <th>Event name</th>\n",
       "      <th>Date</th>\n",
       "      <th>First name</th>\n",
       "      <th>Last name</th>\n",
       "    </tr>\n",
       "  </thead>\n",
       "  <tbody>\n",
       "    <tr>\n",
       "      <th>15</th>\n",
       "      <td>12:33</td>\n",
       "      <td>azCY bvQB</td>\n",
       "      <td>Course: Module 8</td>\n",
       "      <td>System</td>\n",
       "      <td>Course viewed</td>\n",
       "      <td>2019-01-21</td>\n",
       "      <td>azCY</td>\n",
       "      <td>bvQB</td>\n",
       "    </tr>\n",
       "    <tr>\n",
       "      <th>16</th>\n",
       "      <td>00:15</td>\n",
       "      <td>aa14 bMdv</td>\n",
       "      <td>Course: Module 8</td>\n",
       "      <td>User report</td>\n",
       "      <td>Grade user report viewed</td>\n",
       "      <td>2019-01-19</td>\n",
       "      <td>aa14</td>\n",
       "      <td>bMdv</td>\n",
       "    </tr>\n",
       "  </tbody>\n",
       "</table>\n",
       "</div>"
      ],
      "text/plain": [
       "      Time User full name     Event context    Component  \\\n",
       "15   12:33      azCY bvQB  Course: Module 8       System   \n",
       "16   00:15      aa14 bMdv  Course: Module 8  User report   \n",
       "\n",
       "                  Event name       Date First name Last name  \n",
       "15             Course viewed 2019-01-21       azCY      bvQB  \n",
       "16  Grade user report viewed 2019-01-19       aa14      bMdv  "
      ]
     },
     "execution_count": 32,
     "metadata": {},
     "output_type": "execute_result"
    }
   ],
   "source": [
    "module8ml.head(2)"
   ]
  },
  {
   "cell_type": "code",
   "execution_count": 33,
   "metadata": {},
   "outputs": [
    {
     "name": "stdout",
     "output_type": "stream",
     "text": [
      "      Time User full name       Date First name Last name  \\\n",
      "15   12:33      azCY bvQB 2019-01-21       azCY      bvQB   \n",
      "16   00:15      aa14 bMdv 2019-01-19       aa14      bMdv   \n",
      "17   00:07      aa14 bMdv 2019-01-19       aa14      bMdv   \n",
      "18   20:41      azCY bvQB 2019-01-18       azCY      bvQB   \n",
      "19   18:08      azCY bvQB 2019-01-18       azCY      bvQB   \n",
      "\n",
      "    Event name_A file has been uploaded.  \\\n",
      "15                                     0   \n",
      "16                                     0   \n",
      "17                                     0   \n",
      "18                                     0   \n",
      "19                                     0   \n",
      "\n",
      "    Event name_A submission has been submitted.  \\\n",
      "15                                            0   \n",
      "16                                            0   \n",
      "17                                            0   \n",
      "18                                            0   \n",
      "19                                            0   \n",
      "\n",
      "    Event name_Badge listing viewed  Event name_Course module viewed  \\\n",
      "15                                0                                0   \n",
      "16                                0                                0   \n",
      "17                                0                                0   \n",
      "18                                0                                0   \n",
      "19                                0                                0   \n",
      "\n",
      "    Event name_Course user report viewed          ...            \\\n",
      "15                                     0          ...             \n",
      "16                                     0          ...             \n",
      "17                                     0          ...             \n",
      "18                                     1          ...             \n",
      "19                                     0          ...             \n",
      "\n",
      "    Event context_URL: URL  Component_Assignment  Component_File  \\\n",
      "15                       0                     0               0   \n",
      "16                       0                     0               0   \n",
      "17                       0                     0               0   \n",
      "18                       0                     0               0   \n",
      "19                       0                     0               0   \n",
      "\n",
      "    Component_File submissions  Component_Forum  Component_Overview report  \\\n",
      "15                           0                0                          0   \n",
      "16                           0                0                          0   \n",
      "17                           0                0                          0   \n",
      "18                           0                0                          0   \n",
      "19                           0                0                          0   \n",
      "\n",
      "    Component_Quiz  Component_System  Component_URL  Component_User report  \n",
      "15               0                 1              0                      0  \n",
      "16               0                 0              0                      1  \n",
      "17               0                 1              0                      0  \n",
      "18               0                 1              0                      0  \n",
      "19               0                 1              0                      0  \n",
      "\n",
      "[5 rows x 72 columns]\n"
     ]
    }
   ],
   "source": [
    "module8ml_onehot = module8ml.copy()\n",
    "module8ml_onehot = pd.get_dummies(module8ml_onehot, columns=['Event name'], prefix = ['Event name'])\n",
    "module8ml_onehot = pd.get_dummies(module8ml_onehot, columns=['Event context'], prefix = ['Event context'])\n",
    "module8ml_onehot = pd.get_dummies(module8ml_onehot, columns=['Component'], prefix = ['Component'])\n",
    "\n",
    "\n",
    "print(module8ml_onehot.head())\n"
   ]
  },
  {
   "cell_type": "code",
   "execution_count": 34,
   "metadata": {},
   "outputs": [
    {
     "data": {
      "text/html": [
       "<div>\n",
       "<style>\n",
       "    .dataframe thead tr:only-child th {\n",
       "        text-align: right;\n",
       "    }\n",
       "\n",
       "    .dataframe thead th {\n",
       "        text-align: left;\n",
       "    }\n",
       "\n",
       "    .dataframe tbody tr th {\n",
       "        vertical-align: top;\n",
       "    }\n",
       "</style>\n",
       "<table border=\"1\" class=\"dataframe\">\n",
       "  <thead>\n",
       "    <tr style=\"text-align: right;\">\n",
       "      <th></th>\n",
       "      <th>Time</th>\n",
       "      <th>User full name</th>\n",
       "      <th>Date</th>\n",
       "      <th>First name</th>\n",
       "      <th>Last name</th>\n",
       "      <th>Event name_A file has been uploaded.</th>\n",
       "      <th>Event name_A submission has been submitted.</th>\n",
       "      <th>Event name_Badge listing viewed</th>\n",
       "      <th>Event name_Course module viewed</th>\n",
       "      <th>Event name_Course user report viewed</th>\n",
       "      <th>...</th>\n",
       "      <th>Event context_URL: URL</th>\n",
       "      <th>Component_Assignment</th>\n",
       "      <th>Component_File</th>\n",
       "      <th>Component_File submissions</th>\n",
       "      <th>Component_Forum</th>\n",
       "      <th>Component_Overview report</th>\n",
       "      <th>Component_Quiz</th>\n",
       "      <th>Component_System</th>\n",
       "      <th>Component_URL</th>\n",
       "      <th>Component_User report</th>\n",
       "    </tr>\n",
       "  </thead>\n",
       "  <tbody>\n",
       "    <tr>\n",
       "      <th>15</th>\n",
       "      <td>12:33</td>\n",
       "      <td>azCY bvQB</td>\n",
       "      <td>2019-01-21</td>\n",
       "      <td>azCY</td>\n",
       "      <td>bvQB</td>\n",
       "      <td>0</td>\n",
       "      <td>0</td>\n",
       "      <td>0</td>\n",
       "      <td>0</td>\n",
       "      <td>0</td>\n",
       "      <td>...</td>\n",
       "      <td>0</td>\n",
       "      <td>0</td>\n",
       "      <td>0</td>\n",
       "      <td>0</td>\n",
       "      <td>0</td>\n",
       "      <td>0</td>\n",
       "      <td>0</td>\n",
       "      <td>1</td>\n",
       "      <td>0</td>\n",
       "      <td>0</td>\n",
       "    </tr>\n",
       "    <tr>\n",
       "      <th>16</th>\n",
       "      <td>00:15</td>\n",
       "      <td>aa14 bMdv</td>\n",
       "      <td>2019-01-19</td>\n",
       "      <td>aa14</td>\n",
       "      <td>bMdv</td>\n",
       "      <td>0</td>\n",
       "      <td>0</td>\n",
       "      <td>0</td>\n",
       "      <td>0</td>\n",
       "      <td>0</td>\n",
       "      <td>...</td>\n",
       "      <td>0</td>\n",
       "      <td>0</td>\n",
       "      <td>0</td>\n",
       "      <td>0</td>\n",
       "      <td>0</td>\n",
       "      <td>0</td>\n",
       "      <td>0</td>\n",
       "      <td>0</td>\n",
       "      <td>0</td>\n",
       "      <td>1</td>\n",
       "    </tr>\n",
       "  </tbody>\n",
       "</table>\n",
       "<p>2 rows × 72 columns</p>\n",
       "</div>"
      ],
      "text/plain": [
       "      Time User full name       Date First name Last name  \\\n",
       "15   12:33      azCY bvQB 2019-01-21       azCY      bvQB   \n",
       "16   00:15      aa14 bMdv 2019-01-19       aa14      bMdv   \n",
       "\n",
       "    Event name_A file has been uploaded.  \\\n",
       "15                                     0   \n",
       "16                                     0   \n",
       "\n",
       "    Event name_A submission has been submitted.  \\\n",
       "15                                            0   \n",
       "16                                            0   \n",
       "\n",
       "    Event name_Badge listing viewed  Event name_Course module viewed  \\\n",
       "15                                0                                0   \n",
       "16                                0                                0   \n",
       "\n",
       "    Event name_Course user report viewed          ...            \\\n",
       "15                                     0          ...             \n",
       "16                                     0          ...             \n",
       "\n",
       "    Event context_URL: URL  Component_Assignment  Component_File  \\\n",
       "15                       0                     0               0   \n",
       "16                       0                     0               0   \n",
       "\n",
       "    Component_File submissions  Component_Forum  Component_Overview report  \\\n",
       "15                           0                0                          0   \n",
       "16                           0                0                          0   \n",
       "\n",
       "    Component_Quiz  Component_System  Component_URL  Component_User report  \n",
       "15               0                 1              0                      0  \n",
       "16               0                 0              0                      1  \n",
       "\n",
       "[2 rows x 72 columns]"
      ]
     },
     "execution_count": 34,
     "metadata": {},
     "output_type": "execute_result"
    }
   ],
   "source": [
    "module8ml_onehot.head(2)"
   ]
  },
  {
   "cell_type": "code",
   "execution_count": 35,
   "metadata": {
    "collapsed": true
   },
   "outputs": [],
   "source": [
    "#\n",
    "#\n",
    "#"
   ]
  },
  {
   "cell_type": "code",
   "execution_count": 37,
   "metadata": {},
   "outputs": [
    {
     "ename": "NameError",
     "evalue": "name 'm8og_subset' is not defined",
     "output_type": "error",
     "traceback": [
      "\u001b[1;31m---------------------------------------------------------------------------\u001b[0m",
      "\u001b[1;31mNameError\u001b[0m                                 Traceback (most recent call last)",
      "\u001b[1;32m<ipython-input-37-3b7cb17c5dab>\u001b[0m in \u001b[0;36m<module>\u001b[1;34m()\u001b[0m\n\u001b[1;32m----> 1\u001b[1;33m \u001b[0mm8og_subset\u001b[0m\u001b[1;33m.\u001b[0m\u001b[0mhead\u001b[0m\u001b[1;33m(\u001b[0m\u001b[1;36m2\u001b[0m\u001b[1;33m)\u001b[0m\u001b[1;33m\u001b[0m\u001b[0m\n\u001b[0m",
      "\u001b[1;31mNameError\u001b[0m: name 'm8og_subset' is not defined"
     ]
    }
   ],
   "source": [
    "m8og_subset.head(2)"
   ]
  },
  {
   "cell_type": "code",
   "execution_count": 38,
   "metadata": {},
   "outputs": [
    {
     "ename": "NameError",
     "evalue": "name 'm8mg_subset' is not defined",
     "output_type": "error",
     "traceback": [
      "\u001b[1;31m---------------------------------------------------------------------------\u001b[0m",
      "\u001b[1;31mNameError\u001b[0m                                 Traceback (most recent call last)",
      "\u001b[1;32m<ipython-input-38-e070e3869d12>\u001b[0m in \u001b[0;36m<module>\u001b[1;34m()\u001b[0m\n\u001b[1;32m----> 1\u001b[1;33m \u001b[0mm8mg_subset\u001b[0m\u001b[1;33m.\u001b[0m\u001b[0mhead\u001b[0m\u001b[1;33m(\u001b[0m\u001b[1;36m2\u001b[0m\u001b[1;33m)\u001b[0m\u001b[1;33m\u001b[0m\u001b[0m\n\u001b[0m",
      "\u001b[1;31mNameError\u001b[0m: name 'm8mg_subset' is not defined"
     ]
    }
   ],
   "source": [
    "m8mg_subset.head(2)"
   ]
  }
 ],
 "metadata": {
  "kernelspec": {
   "display_name": "Python 3",
   "language": "python",
   "name": "python3"
  },
  "language_info": {
   "codemirror_mode": {
    "name": "ipython",
    "version": 3
   },
   "file_extension": ".py",
   "mimetype": "text/x-python",
   "name": "python",
   "nbconvert_exporter": "python",
   "pygments_lexer": "ipython3",
   "version": "3.6.2"
  }
 },
 "nbformat": 4,
 "nbformat_minor": 2
}
